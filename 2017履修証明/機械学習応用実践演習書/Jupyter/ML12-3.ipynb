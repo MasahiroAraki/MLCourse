{
 "cells": [
  {
   "cell_type": "markdown",
   "metadata": {},
   "source": [
    "## 実践演習12-3\n",
    "\n",
    "sklearnでrandomized Searchを行います。"
   ]
  },
  {
   "cell_type": "markdown",
   "metadata": {},
   "source": [
    "まず、実践演習9-1の内容で、randomized searchを行います。"
   ]
  },
  {
   "cell_type": "code",
   "execution_count": 1,
   "metadata": {
    "collapsed": true
   },
   "outputs": [],
   "source": [
    "import scipy as sp\n",
    "import numpy as np\n",
    "from sklearn.datasets import load_iris, load_boston\n",
    "from sklearn.svm import SVC\n",
    "from sklearn.ensemble import RandomForestRegressor\n",
    "from sklearn.model_selection import ShuffleSplit\n",
    "from sklearn.model_selection import RandomizedSearchCV"
   ]
  },
  {
   "cell_type": "markdown",
   "metadata": {},
   "source": [
    "irisデータを読み込み、パターン行列Xと教師ベクトルyにデータを格納します。"
   ]
  },
  {
   "cell_type": "code",
   "execution_count": 2,
   "metadata": {},
   "outputs": [],
   "source": [
    "iris = load_iris()\n",
    "X = iris.data\n",
    "y = iris.target"
   ]
  },
  {
   "cell_type": "markdown",
   "metadata": {},
   "source": [
    "### scipy.stats.exponの動作確認\n",
    "\n",
    "[scipy.stats.expon](https://docs.scipy.org/doc/scipy-0.19.0/reference/generated/scipy.stats.expon.html)は確率密度関数 $\\frac{exp(-x)}{scale}$ for $x \\geq 0$を表します。rvsメソッドはその関数に基づいて乱数を発生し、ndarrayに格納します。適当なscaleで乱数を10個発生させてみます。"
   ]
  },
  {
   "cell_type": "code",
   "execution_count": 3,
   "metadata": {},
   "outputs": [
    {
     "data": {
      "text/plain": [
       "array([ 0.11886781,  2.97239487,  1.81804597,  0.16100166,  0.77019644,\n",
       "        0.48345519,  1.00452551,  0.30055887,  0.08398801,  0.51109484])"
      ]
     },
     "execution_count": 3,
     "metadata": {},
     "output_type": "execute_result"
    }
   ],
   "source": [
    "sp.stats.expon(scale=1).rvs(size=10)"
   ]
  },
  {
   "cell_type": "markdown",
   "metadata": {},
   "source": [
    "## 識別問題への適用\n",
    "\n",
    "SVCのインスタンスの作成"
   ]
  },
  {
   "cell_type": "code",
   "execution_count": 4,
   "metadata": {},
   "outputs": [
    {
     "data": {
      "text/plain": [
       "SVC(C=1.0, cache_size=200, class_weight=None, coef0=0.0,\n",
       "  decision_function_shape=None, degree=3, gamma='auto', kernel='rbf',\n",
       "  max_iter=-1, probability=False, random_state=None, shrinking=True,\n",
       "  tol=0.001, verbose=False)"
      ]
     },
     "execution_count": 4,
     "metadata": {},
     "output_type": "execute_result"
    }
   ],
   "source": [
    "svc = SVC(kernel='rbf')\n",
    "svc"
   ]
  },
  {
   "cell_type": "markdown",
   "metadata": {},
   "source": [
    "Gridの作成"
   ]
  },
  {
   "cell_type": "code",
   "execution_count": 5,
   "metadata": {
    "collapsed": true
   },
   "outputs": [],
   "source": [
    "params = {'C': sp.stats.expon(scale=100), 'gamma': sp.stats.expon(scale=.1)}"
   ]
  },
  {
   "cell_type": "markdown",
   "metadata": {},
   "source": [
    "[RandomizedSearchCV](http://scikit-learn.org/stable/modules/generated/sklearn.model_selection.RandomizedSearchCV.html)の実行。繰り返しは20回としておきます。"
   ]
  },
  {
   "cell_type": "code",
   "execution_count": 6,
   "metadata": {},
   "outputs": [
    {
     "data": {
      "text/plain": [
       "RandomizedSearchCV(cv=None, error_score='raise',\n",
       "          estimator=SVC(C=1.0, cache_size=200, class_weight=None, coef0=0.0,\n",
       "  decision_function_shape=None, degree=3, gamma='auto', kernel='rbf',\n",
       "  max_iter=-1, probability=False, random_state=None, shrinking=True,\n",
       "  tol=0.001, verbose=False),\n",
       "          fit_params={}, iid=True, n_iter=20, n_jobs=1,\n",
       "          param_distributions={'C': <scipy.stats._distn_infrastructure.rv_frozen object at 0x00000216EB424B00>, 'gamma': <scipy.stats._distn_infrastructure.rv_frozen object at 0x00000216EB424908>},\n",
       "          pre_dispatch='2*n_jobs', random_state=None, refit=True,\n",
       "          return_train_score=True, scoring=None, verbose=0)"
      ]
     },
     "execution_count": 6,
     "metadata": {},
     "output_type": "execute_result"
    }
   ],
   "source": [
    "clf = RandomizedSearchCV(svc, params, n_iter=20)\n",
    "clf.fit(X, y)                          "
   ]
  },
  {
   "cell_type": "markdown",
   "metadata": {},
   "source": [
    "結果のまとめ（全結果の表示、最適なパラメータ・スコア）"
   ]
  },
  {
   "cell_type": "code",
   "execution_count": 7,
   "metadata": {},
   "outputs": [
    {
     "name": "stdout",
     "output_type": "stream",
     "text": [
      "0.967 (+/- 0.046) for {'C': 163.76357775619672, 'gamma': 0.06407029578622668}\n",
      "0.953 (+/- 0.037) for {'C': 261.56662178058355, 'gamma': 0.40148191023134877}\n",
      "0.973 (+/- 0.037) for {'C': 112.07618541339379, 'gamma': 0.056015286355579279}\n",
      "0.960 (+/- 0.043) for {'C': 150.45823527396726, 'gamma': 0.1652757941322654}\n",
      "0.967 (+/- 0.033) for {'C': 46.131549474832894, 'gamma': 0.04707946706513999}\n",
      "0.967 (+/- 0.033) for {'C': 58.086415897803242, 'gamma': 0.077337364858622137}\n",
      "0.973 (+/- 0.024) for {'C': 19.035652055929926, 'gamma': 0.048777926319357082}\n",
      "0.973 (+/- 0.037) for {'C': 92.607656788421139, 'gamma': 0.057549025470712716}\n",
      "0.973 (+/- 0.024) for {'C': 28.031273390638429, 'gamma': 0.1257217977546001}\n",
      "0.967 (+/- 0.033) for {'C': 409.55763163324389, 'gamma': 0.0040545502361042001}\n",
      "0.967 (+/- 0.046) for {'C': 61.141871828454164, 'gamma': 0.12988868546265031}\n",
      "0.973 (+/- 0.024) for {'C': 18.794409685791479, 'gamma': 0.049993409483659969}\n",
      "0.967 (+/- 0.033) for {'C': 43.579410143007777, 'gamma': 0.080988308343398707}\n",
      "0.967 (+/- 0.033) for {'C': 43.026807007459219, 'gamma': 0.053447983457407894}\n",
      "0.967 (+/- 0.033) for {'C': 75.424152071668246, 'gamma': 0.032410928315859372}\n",
      "0.967 (+/- 0.033) for {'C': 56.181399492379327, 'gamma': 0.077064837323589652}\n",
      "0.980 (+/- 0.016) for {'C': 21.123676517718035, 'gamma': 0.049139526993008255}\n",
      "0.967 (+/- 0.046) for {'C': 62.679186034897839, 'gamma': 0.20986337541085223}\n",
      "0.967 (+/- 0.009) for {'C': 2.6248658199931678, 'gamma': 0.020034035861064912}\n",
      "0.960 (+/- 0.043) for {'C': 136.3677598428805, 'gamma': 0.12660958115433826}\n"
     ]
    }
   ],
   "source": [
    "re = clf.cv_results_\n",
    "for params, mean_score, std_score in zip(re['params'], re['mean_test_score'], re['std_test_score']):\n",
    "    print(\"{:.3f} (+/- {:.3f}) for {}\".format(mean_score, std_score, params))"
   ]
  },
  {
   "cell_type": "code",
   "execution_count": 8,
   "metadata": {},
   "outputs": [
    {
     "data": {
      "text/plain": [
       "{'C': 21.123676517718035, 'gamma': 0.049139526993008255}"
      ]
     },
     "execution_count": 8,
     "metadata": {},
     "output_type": "execute_result"
    }
   ],
   "source": [
    "clf.best_params_"
   ]
  },
  {
   "cell_type": "code",
   "execution_count": 9,
   "metadata": {},
   "outputs": [
    {
     "data": {
      "text/plain": [
       "0.97999999999999998"
      ]
     },
     "execution_count": 9,
     "metadata": {},
     "output_type": "execute_result"
    }
   ],
   "source": [
    "clf.best_score_"
   ]
  },
  {
   "cell_type": "markdown",
   "metadata": {},
   "source": [
    "## 回帰問題への適用\n",
    "\n",
    "bostonデータに対する[RandomForestRegressor](http://scikit-learn.org/stable/modules/generated/sklearn.ensemble.RandomForestRegressor.html)回帰でRandomized searchを行います。"
   ]
  },
  {
   "cell_type": "code",
   "execution_count": 10,
   "metadata": {
    "collapsed": true
   },
   "outputs": [],
   "source": [
    "boston = load_boston()\n",
    "X = boston.data\n",
    "y = boston.target"
   ]
  },
  {
   "cell_type": "markdown",
   "metadata": {},
   "source": [
    "回帰器のインスタンスの作成"
   ]
  },
  {
   "cell_type": "code",
   "execution_count": 11,
   "metadata": {},
   "outputs": [
    {
     "data": {
      "text/plain": [
       "RandomForestRegressor(bootstrap=True, criterion='mse', max_depth=None,\n",
       "           max_features='auto', max_leaf_nodes=None,\n",
       "           min_impurity_split=1e-07, min_samples_leaf=1,\n",
       "           min_samples_split=2, min_weight_fraction_leaf=0.0,\n",
       "           n_estimators=10, n_jobs=1, oob_score=False, random_state=None,\n",
       "           verbose=0, warm_start=False)"
      ]
     },
     "execution_count": 11,
     "metadata": {},
     "output_type": "execute_result"
    }
   ],
   "source": [
    "rf = RandomForestRegressor()\n",
    "rf"
   ]
  },
  {
   "cell_type": "markdown",
   "metadata": {},
   "source": [
    "Gridを作成します。回帰器の数と、木の大きさでグリッドを構成します。"
   ]
  },
  {
   "cell_type": "code",
   "execution_count": 12,
   "metadata": {
    "collapsed": true
   },
   "outputs": [],
   "source": [
    "params = {'n_estimators': range(3,50), 'min_samples_leaf': range(1,20)}"
   ]
  },
  {
   "cell_type": "markdown",
   "metadata": {},
   "source": [
    "回帰の場合は、ShuffleSplitのインスタンスを作成し、それをRandomForestRegressorのcvパラメータの値として与えます。"
   ]
  },
  {
   "cell_type": "code",
   "execution_count": 13,
   "metadata": {},
   "outputs": [
    {
     "data": {
      "text/plain": [
       "RandomizedSearchCV(cv=ShuffleSplit(n_splits=3, random_state=None, test_size=0.1, train_size=None),\n",
       "          error_score='raise',\n",
       "          estimator=RandomForestRegressor(bootstrap=True, criterion='mse', max_depth=None,\n",
       "           max_features='auto', max_leaf_nodes=None,\n",
       "           min_impurity_split=1e-07, min_samples_leaf=1,\n",
       "           min_samples_split=2, min_weight_fraction_leaf=0.0,\n",
       "           n_estimators=10, n_jobs=1, oob_score=False, random_state=None,\n",
       "           verbose=0, warm_start=False),\n",
       "          fit_params={}, iid=True, n_iter=10, n_jobs=1,\n",
       "          param_distributions={'n_estimators': range(3, 50), 'min_samples_leaf': range(1, 20)},\n",
       "          pre_dispatch='2*n_jobs', random_state=None, refit=True,\n",
       "          return_train_score=True, scoring='r2', verbose=0)"
      ]
     },
     "execution_count": 13,
     "metadata": {},
     "output_type": "execute_result"
    }
   ],
   "source": [
    "cv = ShuffleSplit(n_splits=3)\n",
    "reg = RandomizedSearchCV(rf, params, cv=cv, scoring='r2')\n",
    "reg.fit(X,y) "
   ]
  },
  {
   "cell_type": "markdown",
   "metadata": {},
   "source": [
    "結果の詳細表示で、交差確認がうまく適用できていることを確認します。"
   ]
  },
  {
   "cell_type": "code",
   "execution_count": 14,
   "metadata": {},
   "outputs": [
    {
     "data": {
      "text/plain": [
       "{'mean_fit_time': array([ 0.12367312,  0.05064154,  0.04700486,  0.06789319,  0.00451001,\n",
       "         0.0637211 ,  0.00534455,  0.02155797,  0.01571774,  0.00635004]),\n",
       " 'mean_score_time': array([ 0.00300805,  0.00150394,  0.0016706 ,  0.00283488,  0.        ,\n",
       "         0.00183876,  0.00084384,  0.00133705,  0.00100295,  0.        ]),\n",
       " 'mean_test_score': array([ 0.86704333,  0.82359531,  0.80265675,  0.77885104,  0.7698688 ,\n",
       "         0.82006898,  0.75792972,  0.81976054,  0.84528802,  0.79793068]),\n",
       " 'mean_train_score': array([ 0.94991824,  0.89613666,  0.85716205,  0.83243839,  0.81411134,\n",
       "         0.88360939,  0.82416124,  0.88464426,  0.92590605,  0.8545419 ]),\n",
       " 'param_min_samples_leaf': masked_array(data = [3 7 13 19 19 9 18 8 4 10],\n",
       "              mask = [False False False False False False False False False False],\n",
       "        fill_value = ?),\n",
       " 'param_n_estimators': masked_array(data = [43 29 32 48 3 42 4 13 9 4],\n",
       "              mask = [False False False False False False False False False False],\n",
       "        fill_value = ?),\n",
       " 'params': ({'min_samples_leaf': 3, 'n_estimators': 43},\n",
       "  {'min_samples_leaf': 7, 'n_estimators': 29},\n",
       "  {'min_samples_leaf': 13, 'n_estimators': 32},\n",
       "  {'min_samples_leaf': 19, 'n_estimators': 48},\n",
       "  {'min_samples_leaf': 19, 'n_estimators': 3},\n",
       "  {'min_samples_leaf': 9, 'n_estimators': 42},\n",
       "  {'min_samples_leaf': 18, 'n_estimators': 4},\n",
       "  {'min_samples_leaf': 8, 'n_estimators': 13},\n",
       "  {'min_samples_leaf': 4, 'n_estimators': 9},\n",
       "  {'min_samples_leaf': 10, 'n_estimators': 4}),\n",
       " 'rank_test_score': array([ 1,  3,  6,  8,  9,  4, 10,  5,  2,  7]),\n",
       " 'split0_test_score': array([ 0.88887645,  0.82034065,  0.78153828,  0.72381117,  0.76723049,\n",
       "         0.80303151,  0.72702554,  0.80393208,  0.85101106,  0.78505746]),\n",
       " 'split0_train_score': array([ 0.94630647,  0.89089905,  0.85818492,  0.83133797,  0.83390961,\n",
       "         0.87848926,  0.82818067,  0.87760483,  0.92100645,  0.85821779]),\n",
       " 'split1_test_score': array([ 0.79069723,  0.75374337,  0.70938802,  0.72016457,  0.65529141,\n",
       "         0.73731713,  0.65459611,  0.76074637,  0.75359803,  0.70079656]),\n",
       " 'split1_train_score': array([ 0.95266631,  0.90258446,  0.86381523,  0.84019015,  0.81609531,\n",
       "         0.89325906,  0.82520937,  0.89033727,  0.92501162,  0.854289  ]),\n",
       " 'split2_test_score': array([ 0.92155631,  0.89670189,  0.91704396,  0.89257737,  0.88708451,\n",
       "         0.91985829,  0.8921675 ,  0.89460318,  0.93125498,  0.90793802]),\n",
       " 'split2_train_score': array([ 0.95078193,  0.89492648,  0.849486  ,  0.82578705,  0.79232911,\n",
       "         0.87907984,  0.81909368,  0.88599068,  0.93170007,  0.85111893]),\n",
       " 'std_fit_time': array([ 0.05118693,  0.00532494,  0.00062668,  0.00288629,  0.000396  ,\n",
       "         0.00147576,  0.00046973,  0.00038788,  0.00044184,  0.00047272]),\n",
       " 'std_score_time': array([  1.41753901e-03,   4.09289409e-04,   4.71707569e-04,\n",
       "          6.17489463e-04,   0.00000000e+00,   6.25879615e-04,\n",
       "          2.42708422e-04,   4.72381918e-04,   5.61957980e-07,\n",
       "          0.00000000e+00]),\n",
       " 'std_test_score': array([ 0.05560898,  0.05840793,  0.08608035,  0.08043044,  0.09464752,\n",
       "         0.07548962,  0.09941946,  0.05578122,  0.07264096,  0.08505365]),\n",
       " 'std_train_score': array([ 0.00266725,  0.00484669,  0.00589443,  0.0059313 ,  0.01703304,\n",
       "         0.00682761,  0.00378306,  0.00528447,  0.00441123,  0.00290361])}"
      ]
     },
     "execution_count": 14,
     "metadata": {},
     "output_type": "execute_result"
    }
   ],
   "source": [
    "reg.cv_results_"
   ]
  },
  {
   "cell_type": "markdown",
   "metadata": {},
   "source": [
    "結果のまとめ（全結果の表示、最適なパラメータ・スコア）"
   ]
  },
  {
   "cell_type": "code",
   "execution_count": 15,
   "metadata": {},
   "outputs": [
    {
     "name": "stdout",
     "output_type": "stream",
     "text": [
      "0.867 (+/- 0.056) for {'n_estimators': 43, 'min_samples_leaf': 3}\n",
      "0.824 (+/- 0.058) for {'n_estimators': 29, 'min_samples_leaf': 7}\n",
      "0.803 (+/- 0.086) for {'n_estimators': 32, 'min_samples_leaf': 13}\n",
      "0.779 (+/- 0.080) for {'n_estimators': 48, 'min_samples_leaf': 19}\n",
      "0.770 (+/- 0.095) for {'n_estimators': 3, 'min_samples_leaf': 19}\n",
      "0.820 (+/- 0.075) for {'n_estimators': 42, 'min_samples_leaf': 9}\n",
      "0.758 (+/- 0.099) for {'n_estimators': 4, 'min_samples_leaf': 18}\n",
      "0.820 (+/- 0.056) for {'n_estimators': 13, 'min_samples_leaf': 8}\n",
      "0.845 (+/- 0.073) for {'n_estimators': 9, 'min_samples_leaf': 4}\n",
      "0.798 (+/- 0.085) for {'n_estimators': 4, 'min_samples_leaf': 10}\n"
     ]
    }
   ],
   "source": [
    "re = reg.cv_results_\n",
    "for params, mean_score, std_score in zip(re['params'], re['mean_test_score'], re['std_test_score']):\n",
    "    print(\"{:.3f} (+/- {:.3f}) for {}\".format(mean_score, std_score, params))"
   ]
  },
  {
   "cell_type": "code",
   "execution_count": 16,
   "metadata": {},
   "outputs": [
    {
     "data": {
      "text/plain": [
       "{'min_samples_leaf': 3, 'n_estimators': 43}"
      ]
     },
     "execution_count": 16,
     "metadata": {},
     "output_type": "execute_result"
    }
   ],
   "source": [
    "reg.best_params_"
   ]
  },
  {
   "cell_type": "code",
   "execution_count": 17,
   "metadata": {},
   "outputs": [
    {
     "data": {
      "text/plain": [
       "0.86704333194695549"
      ]
     },
     "execution_count": 17,
     "metadata": {},
     "output_type": "execute_result"
    }
   ],
   "source": [
    "reg.best_score_"
   ]
  }
 ],
 "metadata": {
  "anaconda-cloud": {},
  "kernelspec": {
   "display_name": "Python 3",
   "language": "python",
   "name": "python3"
  },
  "language_info": {
   "codemirror_mode": {
    "name": "ipython",
    "version": 3
   },
   "file_extension": ".py",
   "mimetype": "text/x-python",
   "name": "python",
   "nbconvert_exporter": "python",
   "pygments_lexer": "ipython3",
   "version": "3.6.1"
  }
 },
 "nbformat": 4,
 "nbformat_minor": 1
}
