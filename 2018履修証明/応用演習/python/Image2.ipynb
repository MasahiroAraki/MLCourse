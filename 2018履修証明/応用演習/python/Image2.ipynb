{
 "cells": [
  {
   "cell_type": "markdown",
   "metadata": {},
   "source": [
    "# 画像処理"
   ]
  },
  {
   "cell_type": "markdown",
   "metadata": {},
   "source": [
    "## 学習済みモデルを用いた物体認識"
   ]
  },
  {
   "cell_type": "code",
   "execution_count": null,
   "metadata": {},
   "outputs": [],
   "source": [
    "from keras.applications.vgg16 import VGG16, preprocess_input, decode_predictions\n",
    "from keras.preprocessing import image\n",
    "import numpy as np\n",
    "import sys\n",
    "import matplotlib.pyplot as plt\n",
    "\n",
    "\"\"\"\n",
    "ImageNetで学習済みのVGG16モデルを使って入力画像のクラスを予測する\n",
    "\"\"\"\n",
    "\n",
    "# 学習済みのVGG16をロード\n",
    "# 構造とともに学習済みの重みも読み込まれる\n",
    "model = VGG16(include_top=True, weights='imagenet', input_tensor=None, input_shape=None)\n",
    "# model.summary()\n",
    "\n",
    "# 画像ファイルを読み込む\n",
    "# サイズはVGG16のデフォルトである224x224にリサイズされる\n",
    "filename = 'a.png'\n",
    "img = image.load_img(filename, target_size=(224, 224))\n",
    "plt.imshow(img)\n",
    "\n",
    "# 読み込んだPIL形式の画像をarrayに変換\n",
    "x = image.img_to_array(img)\n",
    "\n",
    "# 3次元テンソル（rows, cols, channels) を\n",
    "# 4次元テンソル (samples, rows, cols, channels) に変換\n",
    "# 入力画像は1枚なのでsamples=1でよい\n",
    "x = np.expand_dims(x, axis=0)\n",
    "\n",
    "# Top-5のクラスを予測する\n",
    "# VGG16の1000クラスはdecode_predictions()で文字列に変換される\n",
    "preds = model.predict(preprocess_input(x))\n",
    "results = decode_predictions(preds, top=10)[0]\n",
    "for result in results:\n",
    "    print(result)"
   ]
  },
  {
   "cell_type": "code",
   "execution_count": null,
   "metadata": {},
   "outputs": [],
   "source": []
  }
 ],
 "metadata": {
  "kernelspec": {
   "display_name": "Python 3",
   "language": "python",
   "name": "python3"
  },
  "language_info": {
   "codemirror_mode": {
    "name": "ipython",
    "version": 3
   },
   "file_extension": ".py",
   "mimetype": "text/x-python",
   "name": "python",
   "nbconvert_exporter": "python",
   "pygments_lexer": "ipython3",
   "version": "3.6.6"
  }
 },
 "nbformat": 4,
 "nbformat_minor": 2
}
