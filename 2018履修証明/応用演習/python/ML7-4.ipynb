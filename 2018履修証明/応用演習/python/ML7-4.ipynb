{
 "cells": [
  {
   "cell_type": "markdown",
   "metadata": {},
   "source": [
    "## 実践演習7-4\n",
    "\n",
    "sklearnでrandomized Searchを行います。"
   ]
  },
  {
   "cell_type": "code",
   "execution_count": 1,
   "metadata": {},
   "outputs": [],
   "source": [
    "import scipy as sp\n",
    "import numpy as np\n",
    "from sklearn.datasets import load_boston\n",
    "from sklearn.svm import SVR\n",
    "from sklearn.model_selection import ShuffleSplit\n",
    "from sklearn.model_selection import RandomizedSearchCV"
   ]
  },
  {
   "cell_type": "markdown",
   "metadata": {},
   "source": [
    "bostonデータを読み込み、パターン行列Xと教師ベクトルyにデータを格納します。"
   ]
  },
  {
   "cell_type": "code",
   "execution_count": 2,
   "metadata": {},
   "outputs": [],
   "source": [
    "boston = load_boston()\n",
    "X = boston.data\n",
    "y = boston.target"
   ]
  },
  {
   "cell_type": "markdown",
   "metadata": {},
   "source": [
    "### scipy.stats.exponの動作確認\n",
    "\n",
    "[scipy.stats.expon](https://docs.scipy.org/doc/scipy-0.19.0/reference/generated/scipy.stats.expon.html)は確率密度関数 $\\frac{exp(-x)}{scale}$ for $x \\geq 0$を表します。rvsメソッドはその関数に基づいて乱数を発生し、ndarrayに格納します。適当なscaleで乱数を10個発生させてみます。"
   ]
  },
  {
   "cell_type": "code",
   "execution_count": 3,
   "metadata": {},
   "outputs": [
    {
     "data": {
      "text/plain": [
       "array([0.19112387, 0.51629799, 0.11831997, 0.07894393, 0.59245425,\n",
       "       0.03775291, 0.04448439, 0.72971174, 1.83040016, 0.24338618])"
      ]
     },
     "execution_count": 3,
     "metadata": {},
     "output_type": "execute_result"
    }
   ],
   "source": [
    "sp.stats.expon(scale=1).rvs(size=10)"
   ]
  },
  {
   "cell_type": "markdown",
   "metadata": {},
   "source": [
    "## 回帰問題への適用\n",
    "\n",
    "bostonデータに対する[SVR](http://scikit-learn.org/stable/modules/generated/sklearn.svm.SVR.html)回帰でRandomized searchを行います。"
   ]
  },
  {
   "cell_type": "markdown",
   "metadata": {},
   "source": [
    "回帰器のインスタンスの作成"
   ]
  },
  {
   "cell_type": "code",
   "execution_count": 4,
   "metadata": {},
   "outputs": [
    {
     "data": {
      "text/plain": [
       "SVR(C=1.0, cache_size=200, coef0=0.0, degree=3, epsilon=0.1, gamma='auto',\n",
       "  kernel='rbf', max_iter=-1, shrinking=True, tol=0.001, verbose=False)"
      ]
     },
     "execution_count": 4,
     "metadata": {},
     "output_type": "execute_result"
    }
   ],
   "source": [
    "svr = SVR()\n",
    "svr"
   ]
  },
  {
   "cell_type": "markdown",
   "metadata": {},
   "source": [
    "Gridを作成します。スラック変数の重みCと、RBFカーネルの係数gammaでグリッドを作ります。"
   ]
  },
  {
   "cell_type": "code",
   "execution_count": 5,
   "metadata": {},
   "outputs": [],
   "source": [
    "params = {'C': sp.stats.expon(scale=100), 'gamma': sp.stats.expon(scale=.1)}"
   ]
  },
  {
   "cell_type": "markdown",
   "metadata": {},
   "source": [
    "回帰の場合は、ShuffleSplitのインスタンスを作成し、それをRandomizedSearchCVのcvパラメータの値として与えます。"
   ]
  },
  {
   "cell_type": "code",
   "execution_count": 6,
   "metadata": {},
   "outputs": [
    {
     "data": {
      "text/plain": [
       "RandomizedSearchCV(cv=ShuffleSplit(n_splits=3, random_state=None, test_size='default',\n",
       "       train_size=None),\n",
       "          error_score='raise',\n",
       "          estimator=SVR(C=1.0, cache_size=200, coef0=0.0, degree=3, epsilon=0.1, gamma='auto',\n",
       "  kernel='rbf', max_iter=-1, shrinking=True, tol=0.001, verbose=False),\n",
       "          fit_params=None, iid=True, n_iter=10, n_jobs=1,\n",
       "          param_distributions={'C': <scipy.stats._distn_infrastructure.rv_frozen object at 0x0000020A533349E8>, 'gamma': <scipy.stats._distn_infrastructure.rv_frozen object at 0x0000020A53334DD8>},\n",
       "          pre_dispatch='2*n_jobs', random_state=None, refit=True,\n",
       "          return_train_score=True, scoring='r2', verbose=0)"
      ]
     },
     "execution_count": 6,
     "metadata": {},
     "output_type": "execute_result"
    }
   ],
   "source": [
    "cv = ShuffleSplit(n_splits=3)\n",
    "reg = RandomizedSearchCV(svr, params, cv=cv, scoring='r2', n_iter=10, return_train_score=True)\n",
    "reg.fit(X,y) "
   ]
  },
  {
   "cell_type": "markdown",
   "metadata": {},
   "source": [
    "結果の詳細表示で、交差確認がうまく適用できていることを確認します。"
   ]
  },
  {
   "cell_type": "code",
   "execution_count": 7,
   "metadata": {},
   "outputs": [
    {
     "data": {
      "text/plain": [
       "{'mean_fit_time': array([0.01885128, 0.01636179, 0.01833169, 0.01669741, 0.01800974,\n",
       "        0.02086488, 0.01932446, 0.02248518, 0.01936865, 0.01889157]),\n",
       " 'mean_score_time': array([0.00132044, 0.00114536, 0.00132465, 0.00134166, 0.00132052,\n",
       "        0.00132259, 0.00133959, 0.00115856, 0.00098761, 0.00099055]),\n",
       " 'mean_test_score': array([0.01576812, 0.13782465, 0.29042404, 0.01367641, 0.37779566,\n",
       "        0.55436326, 0.39178823, 0.55666119, 0.48002716, 0.45656334]),\n",
       " 'mean_train_score': array([0.99960843, 0.82293602, 0.99907907, 0.99616105, 0.99945251,\n",
       "        0.9977162 , 0.99877287, 0.99838402, 0.99816095, 0.99722065]),\n",
       " 'param_C': masked_array(data=[51.222592590202545, 10.234815998080789,\n",
       "                    143.1990223877667, 24.75700273935731,\n",
       "                    333.60333366229764, 50.55708939324863,\n",
       "                    162.30779332457766, 251.00217925273515,\n",
       "                    59.863600202938414, 25.81595501561772],\n",
       "              mask=[False, False, False, False, False, False, False, False,\n",
       "                    False, False],\n",
       "        fill_value='?',\n",
       "             dtype=object),\n",
       " 'param_gamma': masked_array(data=[0.33780790041400544, 0.09027997912151552,\n",
       "                    0.06462308674805493, 0.3465614090455009,\n",
       "                    0.043767140542867206, 0.017049250806919877,\n",
       "                    0.0411255685677249, 0.015830003433317957,\n",
       "                    0.02705623544538618, 0.02983109760585849],\n",
       "              mask=[False, False, False, False, False, False, False, False,\n",
       "                    False, False],\n",
       "        fill_value='?',\n",
       "             dtype=object),\n",
       " 'params': [{'C': 51.222592590202545, 'gamma': 0.33780790041400544},\n",
       "  {'C': 10.234815998080789, 'gamma': 0.09027997912151552},\n",
       "  {'C': 143.1990223877667, 'gamma': 0.06462308674805493},\n",
       "  {'C': 24.75700273935731, 'gamma': 0.3465614090455009},\n",
       "  {'C': 333.60333366229764, 'gamma': 0.043767140542867206},\n",
       "  {'C': 50.55708939324863, 'gamma': 0.017049250806919877},\n",
       "  {'C': 162.30779332457766, 'gamma': 0.0411255685677249},\n",
       "  {'C': 251.00217925273515, 'gamma': 0.015830003433317957},\n",
       "  {'C': 59.863600202938414, 'gamma': 0.02705623544538618},\n",
       "  {'C': 25.81595501561772, 'gamma': 0.02983109760585849}],\n",
       " 'rank_test_score': array([ 9,  8,  7, 10,  6,  2,  5,  1,  3,  4]),\n",
       " 'split0_test_score': array([0.03702671, 0.13188559, 0.26261246, 0.03588477, 0.34701936,\n",
       "        0.56431041, 0.36171993, 0.57971146, 0.46274086, 0.43432567]),\n",
       " 'split0_train_score': array([0.9996096 , 0.82385719, 0.99908033, 0.99621842, 0.99945298,\n",
       "        0.99752371, 0.99877427, 0.99838628, 0.99816312, 0.99701065]),\n",
       " 'split1_test_score': array([-0.01458774,  0.11414609,  0.14491503, -0.01043966,  0.20577924,\n",
       "         0.33461299,  0.21540642,  0.32255441,  0.27812082,  0.26606272]),\n",
       " 'split1_train_score': array([0.99962358, 0.8244936 , 0.99911033, 0.9964312 , 0.99947065,\n",
       "        0.99786474, 0.99881432, 0.99843921, 0.99822337, 0.99736271]),\n",
       " 'split2_test_score': array([0.02486539, 0.16744227, 0.46374462, 0.01558412, 0.58058839,\n",
       "        0.76416639, 0.59823835, 0.76771771, 0.6992198 , 0.66930163]),\n",
       " 'split2_train_score': array([0.9995921 , 0.82045727, 0.99904654, 0.99583354, 0.99943389,\n",
       "        0.99776015, 0.99873003, 0.99832657, 0.99809637, 0.99728857]),\n",
       " 'std_fit_time': array([1.06915575e-03, 4.23837218e-04, 1.03976764e-03, 8.44306159e-04,\n",
       "        2.30578776e-04, 4.30803057e-04, 8.35999085e-04, 8.43899175e-04,\n",
       "        2.78660905e-05, 3.79167154e-04]),\n",
       " 'std_score_time': array([2.35747180e-04, 2.18830680e-04, 2.35359595e-04, 2.49888781e-04,\n",
       "        2.32594428e-04, 2.34395119e-04, 2.53723848e-04, 2.34788062e-04,\n",
       "        1.23630756e-06, 2.24783192e-06]),\n",
       " 'std_test_score': array([0.02203154, 0.02215965, 0.13163887, 0.01895992, 0.15455498,\n",
       "        0.17550544, 0.15773004, 0.18246657, 0.17234693, 0.16537088]),\n",
       " 'std_train_score': array([1.28795335e-05, 1.77189212e-03, 2.60593645e-05, 2.47345088e-04,\n",
       "        1.50118071e-05, 1.42648741e-04, 3.44285509e-05, 4.60102261e-05,\n",
       "        5.18667113e-05, 1.51541133e-04])}"
      ]
     },
     "execution_count": 7,
     "metadata": {},
     "output_type": "execute_result"
    }
   ],
   "source": [
    "reg.cv_results_"
   ]
  },
  {
   "cell_type": "markdown",
   "metadata": {},
   "source": [
    "結果のまとめ（全結果の表示、最適なパラメータ・スコア）"
   ]
  },
  {
   "cell_type": "code",
   "execution_count": 8,
   "metadata": {},
   "outputs": [
    {
     "name": "stdout",
     "output_type": "stream",
     "text": [
      "0.016 (+/- 0.022) for {'C': 51.222592590202545, 'gamma': 0.33780790041400544}\n",
      "0.138 (+/- 0.022) for {'C': 10.234815998080789, 'gamma': 0.09027997912151552}\n",
      "0.290 (+/- 0.132) for {'C': 143.1990223877667, 'gamma': 0.06462308674805493}\n",
      "0.014 (+/- 0.019) for {'C': 24.75700273935731, 'gamma': 0.3465614090455009}\n",
      "0.378 (+/- 0.155) for {'C': 333.60333366229764, 'gamma': 0.043767140542867206}\n",
      "0.554 (+/- 0.176) for {'C': 50.55708939324863, 'gamma': 0.017049250806919877}\n",
      "0.392 (+/- 0.158) for {'C': 162.30779332457766, 'gamma': 0.0411255685677249}\n",
      "0.557 (+/- 0.182) for {'C': 251.00217925273515, 'gamma': 0.015830003433317957}\n",
      "0.480 (+/- 0.172) for {'C': 59.863600202938414, 'gamma': 0.02705623544538618}\n",
      "0.457 (+/- 0.165) for {'C': 25.81595501561772, 'gamma': 0.02983109760585849}\n"
     ]
    }
   ],
   "source": [
    "re = reg.cv_results_\n",
    "for params, mean_score, std_score in zip(re['params'], re['mean_test_score'], re['std_test_score']):\n",
    "    print(\"{:.3f} (+/- {:.3f}) for {}\".format(mean_score, std_score, params))"
   ]
  },
  {
   "cell_type": "code",
   "execution_count": 9,
   "metadata": {},
   "outputs": [
    {
     "data": {
      "text/plain": [
       "{'C': 251.00217925273515, 'gamma': 0.015830003433317957}"
      ]
     },
     "execution_count": 9,
     "metadata": {},
     "output_type": "execute_result"
    }
   ],
   "source": [
    "reg.best_params_"
   ]
  },
  {
   "cell_type": "code",
   "execution_count": 10,
   "metadata": {},
   "outputs": [
    {
     "data": {
      "text/plain": [
       "0.5566611918506331"
      ]
     },
     "execution_count": 10,
     "metadata": {},
     "output_type": "execute_result"
    }
   ],
   "source": [
    "reg.best_score_"
   ]
  }
 ],
 "metadata": {
  "anaconda-cloud": {},
  "kernelspec": {
   "display_name": "Python 3",
   "language": "python",
   "name": "python3"
  },
  "language_info": {
   "codemirror_mode": {
    "name": "ipython",
    "version": 3
   },
   "file_extension": ".py",
   "mimetype": "text/x-python",
   "name": "python",
   "nbconvert_exporter": "python",
   "pygments_lexer": "ipython3",
   "version": "3.6.6"
  }
 },
 "nbformat": 4,
 "nbformat_minor": 1
}
