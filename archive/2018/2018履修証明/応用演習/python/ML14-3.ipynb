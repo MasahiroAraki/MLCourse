{
 "cells": [
  {
   "cell_type": "markdown",
   "metadata": {},
   "source": [
    "## 実践演習14-3\n",
    "\n",
    "scikit-learnのLabelPropagationでirisデータの半教師あり学習を行います。"
   ]
  },
  {
   "cell_type": "markdown",
   "metadata": {},
   "source": [
    "ライブラリの読み込み"
   ]
  },
  {
   "cell_type": "code",
   "execution_count": 1,
   "metadata": {},
   "outputs": [],
   "source": [
    "import numpy as np\n",
    "from sklearn.datasets import load_iris\n",
    "from sklearn.semi_supervised import LabelPropagation"
   ]
  },
  {
   "cell_type": "markdown",
   "metadata": {},
   "source": [
    "irisデータの読み込み"
   ]
  },
  {
   "cell_type": "code",
   "execution_count": 2,
   "metadata": {},
   "outputs": [],
   "source": [
    "iris = load_iris()\n",
    "X = iris.data\n",
    "y = iris.target"
   ]
  },
  {
   "cell_type": "markdown",
   "metadata": {},
   "source": [
    "### 半教師ありデータの作成\n",
    "\n",
    "まず、どのデータの教師信号を消すかを決めます。\n",
    "[np.random.choice](https://docs.scipy.org/doc/numpy/reference/generated/numpy.random.choice.html)を使って、データのインデックスを表すndarrayから、指定された個数のインデックスを、重複なしで抜き出します。"
   ]
  },
  {
   "cell_type": "code",
   "execution_count": 3,
   "metadata": {},
   "outputs": [
    {
     "data": {
      "text/plain": [
       "array([ 60,  25,   8, 135,  51, 143, 126,  12,  58, 136, 128, 124, 129,\n",
       "       107,  15, 140,  63,  56,  95,  79,  29, 102,  59,  52,  31,  72,\n",
       "       125,  44, 130,  55, 108,  36,   2,  41,  73,  30,  37,  45,  22,\n",
       "       113,  61,   1,  91,  88,  32,  71,  84,  16,  35,  24,  13, 122,\n",
       "        78, 104,   9,  92,  83,  54, 116, 101,  75, 110,   3,  53, 142,\n",
       "        96, 133,  14, 103, 134,  86,  38,  94, 118, 139,  57,  23,  93,\n",
       "        17, 114, 138,  42,  67,  43,  66,  76,  40,  97,  74,  28, 131,\n",
       "        10,  34, 144,  69, 146,   0,  47,  18,  85, 148,  82,  90, 123,\n",
       "        81])"
      ]
     },
     "execution_count": 3,
     "metadata": {},
     "output_type": "execute_result"
    }
   ],
   "source": [
    "unlabeled_points = np.random.choice(np.arange(y.size), int((y.size)*.7), replace=False)\n",
    "unlabeled_points"
   ]
  },
  {
   "cell_type": "markdown",
   "metadata": {},
   "source": [
    "教師ベクトルyを[np.copy](https://docs.scipy.org/doc/numpy/reference/generated/numpy.copy.html)を使って変数labelsにコピーし（代入文でコピーすると、オブジェクトが共有されます）、先ほど抜き出したインデックスに対応する値を-1に書き換えます。"
   ]
  },
  {
   "cell_type": "code",
   "execution_count": 4,
   "metadata": {},
   "outputs": [
    {
     "data": {
      "text/plain": [
       "array([-1, -1, -1, -1,  0,  0,  0,  0, -1, -1, -1,  0, -1, -1, -1, -1, -1,\n",
       "       -1, -1,  0,  0,  0, -1, -1, -1, -1,  0,  0, -1, -1, -1, -1, -1,  0,\n",
       "       -1, -1, -1, -1, -1,  0, -1, -1, -1, -1, -1, -1,  0, -1,  0,  0,  1,\n",
       "       -1, -1, -1, -1, -1, -1, -1, -1, -1, -1, -1,  1, -1,  1,  1, -1, -1,\n",
       "        1, -1,  1, -1, -1, -1, -1, -1, -1,  1, -1, -1,  1, -1, -1, -1, -1,\n",
       "       -1, -1,  1, -1,  1, -1, -1, -1, -1, -1, -1, -1, -1,  1,  1,  2, -1,\n",
       "       -1, -1, -1,  2,  2, -1, -1,  2, -1,  2,  2, -1, -1,  2, -1,  2, -1,\n",
       "        2,  2,  2, -1, -1, -1, -1, -1,  2, -1, -1, -1, -1,  2, -1, -1, -1,\n",
       "       -1,  2, -1, -1, -1,  2, -1, -1, -1,  2, -1,  2, -1,  2])"
      ]
     },
     "execution_count": 4,
     "metadata": {},
     "output_type": "execute_result"
    }
   ],
   "source": [
    "labels = np.copy(y)\n",
    "labels[unlabeled_points] = -1\n",
    "labels"
   ]
  },
  {
   "cell_type": "markdown",
   "metadata": {},
   "source": [
    "これを教師ベクトルとして、[LabelPropagation](http://scikit-learn.org/stable/modules/generated/sklearn.semi_supervised.LabelPropagation.html)で半教師あり学習を行います。"
   ]
  },
  {
   "cell_type": "code",
   "execution_count": 5,
   "metadata": {},
   "outputs": [
    {
     "data": {
      "text/plain": [
       "LabelPropagation(alpha=None, gamma=20, kernel='rbf', max_iter=1000, n_jobs=1,\n",
       "         n_neighbors=7, tol=0.001)"
      ]
     },
     "execution_count": 5,
     "metadata": {},
     "output_type": "execute_result"
    }
   ],
   "source": [
    "lp = LabelPropagation()\n",
    "lp.fit(X, labels)"
   ]
  },
  {
   "cell_type": "markdown",
   "metadata": {},
   "source": [
    "正解なしデータの割り当て結果を表示します。"
   ]
  },
  {
   "cell_type": "code",
   "execution_count": 6,
   "metadata": {},
   "outputs": [
    {
     "data": {
      "text/plain": [
       "0.9809523809523809"
      ]
     },
     "execution_count": 6,
     "metadata": {},
     "output_type": "execute_result"
    }
   ],
   "source": [
    "lp.score(X[unlabeled_points], y[unlabeled_points])"
   ]
  },
  {
   "cell_type": "markdown",
   "metadata": {},
   "source": [
    "正解付きデータを5%, 10%, 20%, 30%と変えて、それぞれ100回ずつ学習を試みて性能を評価します。"
   ]
  },
  {
   "cell_type": "code",
   "execution_count": 7,
   "metadata": {},
   "outputs": [
    {
     "name": "stderr",
     "output_type": "stream",
     "text": [
      "C:\\Users\\araki\\Anaconda3\\lib\\site-packages\\sklearn\\semi_supervised\\label_propagation.py:288: ConvergenceWarning: max_iter=1000 was reached without convergence.\n",
      "  category=ConvergenceWarning\n"
     ]
    },
    {
     "name": "stdout",
     "output_type": "stream",
     "text": [
      "labeled: 5.0%, score= 0.848\n",
      "labeled:10.0%, score= 0.922\n",
      "labeled:20.0%, score= 0.951\n",
      "labeled:30.0%, score= 0.959\n"
     ]
    }
   ],
   "source": [
    "labeled_percent = [0.05, 0.1, 0.2, 0.3]\n",
    "num = y.size\n",
    "for labeled in labeled_percent :\n",
    "    score = 0\n",
    "    for i in range(100):\n",
    "        unlabeled_points = np.random.choice(np.arange(num),int(num-num*labeled), replace=False)\n",
    "        labels = np.copy(y)\n",
    "        labels[unlabeled_points] = -1\n",
    "        lp.fit(X, labels)\n",
    "        score += lp.score(X[unlabeled_points], y[unlabeled_points])\n",
    "    print(\"{0}{1:4.1f}{2}{3:6.3f}\".format(\"labeled:\", labeled*100, \"%, score=\", score/100))        "
   ]
  }
 ],
 "metadata": {
  "anaconda-cloud": {},
  "kernelspec": {
   "display_name": "Python 3",
   "language": "python",
   "name": "python3"
  },
  "language_info": {
   "codemirror_mode": {
    "name": "ipython",
    "version": 3
   },
   "file_extension": ".py",
   "mimetype": "text/x-python",
   "name": "python",
   "nbconvert_exporter": "python",
   "pygments_lexer": "ipython3",
   "version": "3.6.6"
  }
 },
 "nbformat": 4,
 "nbformat_minor": 1
}
