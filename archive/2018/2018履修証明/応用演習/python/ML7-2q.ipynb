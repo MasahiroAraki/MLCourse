{
 "cells": [
  {
   "cell_type": "markdown",
   "metadata": {},
   "source": [
    "# 実践演習7-2\n",
    "\n",
    "Scikit learn の SVMで文書分類を行います。"
   ]
  },
  {
   "cell_type": "markdown",
   "metadata": {},
   "source": [
    "## 準備\n",
    "\n",
    "必要なライブラリ等を読み込みます。"
   ]
  },
  {
   "cell_type": "code",
   "execution_count": null,
   "metadata": {},
   "outputs": [],
   "source": [
    "import numpy as np\n",
    "import re\n",
    "from sklearn.feature_extraction.text import CountVectorizer\n",
    "from sklearn.feature_extraction.text import TfidfVectorizer\n",
    "from sklearn.svm import SVC\n",
    "from sklearn.metrics import classification_report"
   ]
  },
  {
   "cell_type": "markdown",
   "metadata": {},
   "source": [
    "## データの読み込み\n",
    "\n",
    "scipyのloadarffはStringの読み込みに対応していないので、直接ファイルを開いて読み込みます。学習データをX, yに読み込みます。"
   ]
  },
  {
   "cell_type": "code",
   "execution_count": null,
   "metadata": {},
   "outputs": [],
   "source": [
    "# 学習データ\n",
    "r = re.compile(\"'(.*)',([01])\")\n",
    "X = np.empty((0,1),np.string_)\n",
    "y = np.empty((0,1),np.string_)\n",
    "\n",
    "with open('ReutersGrain-train.arff', 'r') as file:\n",
    "    line = file.readline()\n",
    "    while not(re.match(r\"@data\", line)):\n",
    "        line = file.readline()\n",
    "    line = file.readline()  # @data のあとの空行を読み飛ばす\n",
    "    for line in file:\n",
    "        m = r.search(line)\n",
    "        X = np.append(X, m.group(1))\n",
    "        y = np.append(y, m.group(2))"
   ]
  },
  {
   "cell_type": "markdown",
   "metadata": {},
   "source": [
    "学習データの事例数を確認します。"
   ]
  },
  {
   "cell_type": "code",
   "execution_count": null,
   "metadata": {},
   "outputs": [],
   "source": []
  },
  {
   "cell_type": "markdown",
   "metadata": {},
   "source": [
    "評価データをXe, yeに読み込みます。"
   ]
  },
  {
   "cell_type": "code",
   "execution_count": null,
   "metadata": {},
   "outputs": [],
   "source": [
    "# 評価データ\n",
    "Xe = np.empty((0,1),np.string_)\n",
    "ye = np.empty((0,1),np.string_)\n",
    "with open('ReutersGrain-test.arff', 'r') as file:\n",
    "    line = file.readline()\n",
    "    while not(re.match(r\"@data\", line)):\n",
    "        line = file.readline()\n",
    "    line = file.readline()  # @data のあとの空行を読み飛ばす\n",
    "    for line in file:\n",
    "        m = r.search(line)\n",
    "        Xe = np.append(Xe, m.group(1))\n",
    "        ye = np.append(ye, m.group(2))"
   ]
  },
  {
   "cell_type": "markdown",
   "metadata": {},
   "source": [
    "評価データの事例数を確認します。"
   ]
  },
  {
   "cell_type": "code",
   "execution_count": null,
   "metadata": {},
   "outputs": [],
   "source": []
  },
  {
   "cell_type": "markdown",
   "metadata": {},
   "source": [
    "## 文字列をベクトルに変換\n",
    "\n",
    "[CountVectorizer](http://scikit-learn.org/stable/modules/generated/sklearn.feature_extraction.text.CountVectorizer.html)を使って、文字列を単語ベクトルに変換します。"
   ]
  },
  {
   "cell_type": "code",
   "execution_count": null,
   "metadata": {},
   "outputs": [],
   "source": [
    "   "
   ]
  },
  {
   "cell_type": "markdown",
   "metadata": {},
   "source": [
    "学習データ中の語彙を次元として、ベクトルに変換します。"
   ]
  },
  {
   "cell_type": "code",
   "execution_count": null,
   "metadata": {},
   "outputs": [],
   "source": []
  },
  {
   "cell_type": "markdown",
   "metadata": {},
   "source": [
    "評価データは、学習データの次元に合わせて、ベクトルに変換します。"
   ]
  },
  {
   "cell_type": "code",
   "execution_count": null,
   "metadata": {},
   "outputs": [],
   "source": []
  },
  {
   "cell_type": "markdown",
   "metadata": {},
   "source": [
    "## SVMでの学習\n",
    "\n",
    "[SVC](http://scikit-learn.org/stable/modules/generated/sklearn.svm.SVC.html)を使います。学習データの数が少ないので、線形カーネルを用います。また、正例と負例の数が大きく違うので、[class\\_weight](http://scikit-learn.org/stable/auto_examples/svm/plot_separating_hyperplane_unbalanced.html#sphx-glr-auto-examples-svm-plot-separating-hyperplane-unbalanced-py)を設定しておきます。"
   ]
  },
  {
   "cell_type": "code",
   "execution_count": null,
   "metadata": {},
   "outputs": [],
   "source": []
  },
  {
   "cell_type": "markdown",
   "metadata": {},
   "source": [
    "分割学習法の場合は、[classification_report](http://scikit-learn.org/stable/modules/generated/sklearn.metrics.classification_report.html)に正解と識別器の出力を与えます。"
   ]
  },
  {
   "cell_type": "code",
   "execution_count": null,
   "metadata": {},
   "outputs": [],
   "source": []
  },
  {
   "cell_type": "markdown",
   "metadata": {},
   "source": [
    "positiveのF値が0.85となり、Wekaの0.771を上回っています。これば特徴ベクトルの次元数が違うことと、SVMの実装が若干異なることが原因だと思われます。"
   ]
  },
  {
   "cell_type": "markdown",
   "metadata": {},
   "source": [
    "### 多項式カーネル\n",
    "\n",
    "2次の多項式カーネルを試してみます。カーネルの定義は[ここ](http://scikit-learn.org/stable/modules/svm.html#svm-kernels)を参照。"
   ]
  },
  {
   "cell_type": "code",
   "execution_count": null,
   "metadata": {},
   "outputs": [],
   "source": []
  },
  {
   "cell_type": "code",
   "execution_count": null,
   "metadata": {},
   "outputs": [],
   "source": []
  },
  {
   "cell_type": "markdown",
   "metadata": {},
   "source": [
    "### rbfカーネル\n",
    "\n",
    "rbfカーネルを試してみます。gammaの値を調整することでpositiveの性能が変わります。$\\gamma$が小さいと識別面の決定に寄与する学習データが少なくなるので、比較的単純な識別面になります。反対に$\\gamma$が大きいと複雑な識別面になります。  \n",
    "\n",
    "$$K(x, x')=\\exp(-\\gamma\\|x-x'\\|^2)$$"
   ]
  },
  {
   "cell_type": "code",
   "execution_count": null,
   "metadata": {},
   "outputs": [],
   "source": []
  },
  {
   "cell_type": "code",
   "execution_count": null,
   "metadata": {},
   "outputs": [],
   "source": []
  },
  {
   "cell_type": "markdown",
   "metadata": {
    "collapsed": true
   },
   "source": [
    "### 単語ベクトルの調整\n",
    "\n",
    "単語数を減らしてみます。"
   ]
  },
  {
   "cell_type": "code",
   "execution_count": null,
   "metadata": {},
   "outputs": [],
   "source": []
  },
  {
   "cell_type": "markdown",
   "metadata": {},
   "source": [
    "stop wordsを有効にしてみます。"
   ]
  },
  {
   "cell_type": "code",
   "execution_count": null,
   "metadata": {},
   "outputs": [],
   "source": []
  },
  {
   "cell_type": "markdown",
   "metadata": {},
   "source": [
    "tfidfを使ってみます。"
   ]
  },
  {
   "cell_type": "code",
   "execution_count": null,
   "metadata": {},
   "outputs": [],
   "source": []
  }
 ],
 "metadata": {
  "anaconda-cloud": {},
  "kernelspec": {
   "display_name": "Python 3",
   "language": "python",
   "name": "python3"
  },
  "language_info": {
   "codemirror_mode": {
    "name": "ipython",
    "version": 3
   },
   "file_extension": ".py",
   "mimetype": "text/x-python",
   "name": "python",
   "nbconvert_exporter": "python",
   "pygments_lexer": "ipython3",
   "version": "3.6.6"
  }
 },
 "nbformat": 4,
 "nbformat_minor": 1
}
