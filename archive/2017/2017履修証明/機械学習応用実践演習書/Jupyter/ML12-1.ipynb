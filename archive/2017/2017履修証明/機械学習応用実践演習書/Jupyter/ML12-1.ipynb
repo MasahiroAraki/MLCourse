{
 "cells": [
  {
   "cell_type": "markdown",
   "metadata": {},
   "source": [
    "## 実践演習12-1\n",
    "\n",
    "sklearnのSVMでGridSearchを行います。"
   ]
  },
  {
   "cell_type": "code",
   "execution_count": 1,
   "metadata": {
    "collapsed": true
   },
   "outputs": [],
   "source": [
    "from sklearn.datasets import load_iris\n",
    "from sklearn.svm import SVC\n",
    "from sklearn.model_selection import GridSearchCV"
   ]
  },
  {
   "cell_type": "markdown",
   "metadata": {},
   "source": [
    "irisデータを読み込み、パターン行列Xと教師ベクトルyにデータを格納します。"
   ]
  },
  {
   "cell_type": "code",
   "execution_count": 2,
   "metadata": {
    "collapsed": true
   },
   "outputs": [],
   "source": [
    "iris = load_iris()\n",
    "X = iris.data\n",
    "y = iris.target"
   ]
  },
  {
   "cell_type": "markdown",
   "metadata": {},
   "source": [
    "まず、演習書の事例にある「スラック変数の重みC」と「多項式カーネルの次数degree」の組み合わせでGridSearchを行います。\n",
    "\n",
    "パラメータとして多項式カーネルを与えて、サポートベクトルマシン[SVC](http://scikit-learn.org/stable/modules/generated/sklearn.svm.SVC.html)のインスタンスsvcを作成します。"
   ]
  },
  {
   "cell_type": "code",
   "execution_count": 3,
   "metadata": {},
   "outputs": [
    {
     "data": {
      "text/plain": [
       "SVC(C=1.0, cache_size=200, class_weight=None, coef0=0.0,\n",
       "  decision_function_shape=None, degree=3, gamma='auto', kernel='poly',\n",
       "  max_iter=-1, probability=False, random_state=None, shrinking=True,\n",
       "  tol=0.001, verbose=False)"
      ]
     },
     "execution_count": 3,
     "metadata": {},
     "output_type": "execute_result"
    }
   ],
   "source": [
    "svc = SVC(kernel='poly')\n",
    "svc"
   ]
  },
  {
   "cell_type": "markdown",
   "metadata": {},
   "source": [
    "演習書の事例の通り、「スラック変数の重みC」と「多項式カーネルの次数degree」の組み合わせで、リストを値とするディクショナリの配列param\\_gridを作成します。"
   ]
  },
  {
   "cell_type": "code",
   "execution_count": 4,
   "metadata": {
    "collapsed": true
   },
   "outputs": [],
   "source": [
    "param_grid = [\n",
    "  {'C': [1, 10, 100, 1000], 'degree': [1,2,3]}\n",
    " ]"
   ]
  },
  {
   "cell_type": "markdown",
   "metadata": {},
   "source": [
    "識別器のインスタンスを第1引数、グリッドを第2引数として、[GridSearch](http://scikit-learn.org/stable/modules/generated/sklearn.model_selection.GridSearchCV.html)のインスタンスを作成し、fitメソッドを実行します。パラメータcvの値がNone（デフォルト）のとき、性能は3-fold CVで評価されます。"
   ]
  },
  {
   "cell_type": "code",
   "execution_count": 5,
   "metadata": {},
   "outputs": [
    {
     "data": {
      "text/plain": [
       "GridSearchCV(cv=None, error_score='raise',\n",
       "       estimator=SVC(C=1.0, cache_size=200, class_weight=None, coef0=0.0,\n",
       "  decision_function_shape=None, degree=3, gamma='auto', kernel='poly',\n",
       "  max_iter=-1, probability=False, random_state=None, shrinking=True,\n",
       "  tol=0.001, verbose=False),\n",
       "       fit_params={}, iid=True, n_jobs=1,\n",
       "       param_grid=[{'C': [1, 10, 100, 1000], 'degree': [1, 2, 3]}],\n",
       "       pre_dispatch='2*n_jobs', refit=True, return_train_score=True,\n",
       "       scoring=None, verbose=0)"
      ]
     },
     "execution_count": 5,
     "metadata": {},
     "output_type": "execute_result"
    }
   ],
   "source": [
    "clf = GridSearchCV(svc, param_grid)\n",
    "clf.fit(X, y)                            "
   ]
  },
  {
   "cell_type": "markdown",
   "metadata": {},
   "source": [
    "結果はcv\\_results\\_属性の値として、ディクショナリで得られます。"
   ]
  },
  {
   "cell_type": "code",
   "execution_count": 6,
   "metadata": {},
   "outputs": [
    {
     "data": {
      "text/plain": [
       "{'mean_fit_time': array([ 0.00033394,  0.00100223,  0.00167282,  0.00033418,  0.00066813,\n",
       "         0.00401012,  0.00066821,  0.00233897,  0.00701825,  0.00267196,\n",
       "         0.00333865,  0.00935872]),\n",
       " 'mean_score_time': array([ 0.00066789,  0.        ,  0.0006667 ,  0.00066988,  0.00066813,\n",
       "         0.00033641,  0.        ,  0.00016721,  0.00083669,  0.00033466,\n",
       "         0.        ,  0.        ]),\n",
       " 'mean_test_score': array([ 0.96666667,  0.96666667,  0.96666667,  0.97333333,  0.96666667,\n",
       "         0.96666667,  0.97333333,  0.96666667,  0.96      ,  0.97333333,\n",
       "         0.96666667,  0.96      ]),\n",
       " 'mean_train_score': array([ 0.97682709,  0.97999604,  0.98336304,  0.98336304,  0.98336304,\n",
       "         0.98673005,  0.98336304,  0.98336304,  0.99336502,  0.98336304,\n",
       "         0.98673005,  0.99673203]),\n",
       " 'param_C': masked_array(data = [1 1 1 10 10 10 100 100 100 1000 1000 1000],\n",
       "              mask = [False False False False False False False False False False False False],\n",
       "        fill_value = ?),\n",
       " 'param_degree': masked_array(data = [1 2 3 1 2 3 1 2 3 1 2 3],\n",
       "              mask = [False False False False False False False False False False False False],\n",
       "        fill_value = ?),\n",
       " 'params': ({'C': 1, 'degree': 1},\n",
       "  {'C': 1, 'degree': 2},\n",
       "  {'C': 1, 'degree': 3},\n",
       "  {'C': 10, 'degree': 1},\n",
       "  {'C': 10, 'degree': 2},\n",
       "  {'C': 10, 'degree': 3},\n",
       "  {'C': 100, 'degree': 1},\n",
       "  {'C': 100, 'degree': 2},\n",
       "  {'C': 100, 'degree': 3},\n",
       "  {'C': 1000, 'degree': 1},\n",
       "  {'C': 1000, 'degree': 2},\n",
       "  {'C': 1000, 'degree': 3}),\n",
       " 'rank_test_score': array([ 4,  4,  4,  1,  4,  4,  1,  4, 11,  1,  4, 11]),\n",
       " 'split0_test_score': array([ 0.98039216,  1.        ,  1.        ,  1.        ,  1.        ,\n",
       "         1.        ,  1.        ,  1.        ,  0.98039216,  1.        ,\n",
       "         1.        ,  0.98039216]),\n",
       " 'split0_train_score': array([ 0.96969697,  0.95959596,  0.96969697,  0.96969697,  0.96969697,\n",
       "         0.97979798,  0.96969697,  0.96969697,  0.98989899,  0.96969697,\n",
       "         0.97979798,  1.        ]),\n",
       " 'split1_test_score': array([ 0.94117647,  0.90196078,  0.90196078,  0.92156863,  0.90196078,\n",
       "         0.90196078,  0.92156863,  0.90196078,  0.90196078,  0.92156863,\n",
       "         0.90196078,  0.90196078]),\n",
       " 'split1_train_score': array([ 1.,  1.,  1.,  1.,  1.,  1.,  1.,  1.,  1.,  1.,  1.,  1.]),\n",
       " 'split2_test_score': array([ 0.97916667,  1.        ,  1.        ,  1.        ,  1.        ,\n",
       "         1.        ,  1.        ,  1.        ,  1.        ,  1.        ,\n",
       "         1.        ,  1.        ]),\n",
       " 'split2_train_score': array([ 0.96078431,  0.98039216,  0.98039216,  0.98039216,  0.98039216,\n",
       "         0.98039216,  0.98039216,  0.98039216,  0.99019608,  0.98039216,\n",
       "         0.98039216,  0.99019608]),\n",
       " 'std_fit_time': array([  4.72269487e-04,   2.97360213e-07,   9.45048951e-04,\n",
       "          4.72606661e-04,   4.72438164e-04,   2.16524084e-03,\n",
       "          4.72495713e-04,   1.65382641e-03,   6.39381542e-03,\n",
       "          1.70502154e-03,   2.36078837e-03,   6.81735504e-03]),\n",
       " 'std_score_time': array([ 0.00047227,  0.        ,  0.00047143,  0.00047368,  0.00047244,\n",
       "         0.00047575,  0.        ,  0.00023647,  0.0008532 ,  0.00047328,\n",
       "         0.        ,  0.        ]),\n",
       " 'std_test_score': array([ 0.01830211,  0.04644204,  0.04644204,  0.03715363,  0.04644204,\n",
       "         0.04644204,  0.03715363,  0.04644204,  0.042411  ,  0.03715363,\n",
       "         0.04644204,  0.042411  ]),\n",
       " 'std_train_score': array([ 0.01678484,  0.01649726,  0.01254825,  0.01254825,  0.01254825,\n",
       "         0.00938641,  0.01254825,  0.01254825,  0.0046932 ,  0.01254825,\n",
       "         0.00938641,  0.00462161])}"
      ]
     },
     "execution_count": 6,
     "metadata": {},
     "output_type": "execute_result"
    }
   ],
   "source": [
    "clf.cv_results_"
   ]
  },
  {
   "cell_type": "markdown",
   "metadata": {},
   "source": [
    "すべてのパラメータの組み合わせについて、スコアを表示します。"
   ]
  },
  {
   "cell_type": "code",
   "execution_count": 7,
   "metadata": {},
   "outputs": [
    {
     "name": "stdout",
     "output_type": "stream",
     "text": [
      "0.967 (+/- 0.018) for {'C': 1, 'degree': 1}\n",
      "0.967 (+/- 0.046) for {'C': 1, 'degree': 2}\n",
      "0.967 (+/- 0.046) for {'C': 1, 'degree': 3}\n",
      "0.973 (+/- 0.037) for {'C': 10, 'degree': 1}\n",
      "0.967 (+/- 0.046) for {'C': 10, 'degree': 2}\n",
      "0.967 (+/- 0.046) for {'C': 10, 'degree': 3}\n",
      "0.973 (+/- 0.037) for {'C': 100, 'degree': 1}\n",
      "0.967 (+/- 0.046) for {'C': 100, 'degree': 2}\n",
      "0.960 (+/- 0.042) for {'C': 100, 'degree': 3}\n",
      "0.973 (+/- 0.037) for {'C': 1000, 'degree': 1}\n",
      "0.967 (+/- 0.046) for {'C': 1000, 'degree': 2}\n",
      "0.960 (+/- 0.042) for {'C': 1000, 'degree': 3}\n"
     ]
    }
   ],
   "source": [
    "re = clf.cv_results_\n",
    "for params, mean_score, std_score in zip(re['params'], re['mean_test_score'], re['std_test_score']):\n",
    "    print(\"{:.3f} (+/- {:.3f}) for {}\".format(mean_score, std_score, params))"
   ]
  },
  {
   "cell_type": "markdown",
   "metadata": {},
   "source": [
    "性能が最大となるパラメータとそのときのスコアを表示します。"
   ]
  },
  {
   "cell_type": "code",
   "execution_count": 8,
   "metadata": {},
   "outputs": [
    {
     "data": {
      "text/plain": [
       "{'C': 10, 'degree': 1}"
      ]
     },
     "execution_count": 8,
     "metadata": {},
     "output_type": "execute_result"
    }
   ],
   "source": [
    "clf.best_params_"
   ]
  },
  {
   "cell_type": "code",
   "execution_count": 9,
   "metadata": {},
   "outputs": [
    {
     "data": {
      "text/plain": [
       "0.97333333333333338"
      ]
     },
     "execution_count": 9,
     "metadata": {},
     "output_type": "execute_result"
    }
   ],
   "source": [
    "clf.best_score_"
   ]
  },
  {
   "cell_type": "markdown",
   "metadata": {},
   "source": [
    "次に、実践演習12-1の指示に従って、Cとgamma(RBF kernerl)の組み合わせでGridSearchを行います。  \n",
    "\n",
    "まず、配列param_gridを作成します。"
   ]
  },
  {
   "cell_type": "code",
   "execution_count": 10,
   "metadata": {
    "collapsed": true
   },
   "outputs": [],
   "source": [
    "param_grid = [\n",
    "  {'C':[1, 10, 100, 1000], 'gamma':[0.1, 0.01, 0.001, 0.0001]}\n",
    " ]"
   ]
  },
  {
   "cell_type": "markdown",
   "metadata": {},
   "source": [
    "サポートベクトルマシンSVCのインスタンスsvcをRBFカーネルで作成し、GridSearchを行い、すべてのパラメータの組み合わせについて、スコアを表示します。"
   ]
  },
  {
   "cell_type": "code",
   "execution_count": 11,
   "metadata": {},
   "outputs": [
    {
     "data": {
      "text/plain": [
       "SVC(C=1.0, cache_size=200, class_weight=None, coef0=0.0,\n",
       "  decision_function_shape=None, degree=3, gamma='auto', kernel='rbf',\n",
       "  max_iter=-1, probability=False, random_state=None, shrinking=True,\n",
       "  tol=0.001, verbose=False)"
      ]
     },
     "execution_count": 11,
     "metadata": {},
     "output_type": "execute_result"
    }
   ],
   "source": [
    "svc = SVC(kernel='rbf')\n",
    "svc"
   ]
  },
  {
   "cell_type": "code",
   "execution_count": 12,
   "metadata": {},
   "outputs": [
    {
     "data": {
      "text/plain": [
       "GridSearchCV(cv=None, error_score='raise',\n",
       "       estimator=SVC(C=1.0, cache_size=200, class_weight=None, coef0=0.0,\n",
       "  decision_function_shape=None, degree=3, gamma='auto', kernel='rbf',\n",
       "  max_iter=-1, probability=False, random_state=None, shrinking=True,\n",
       "  tol=0.001, verbose=False),\n",
       "       fit_params={}, iid=True, n_jobs=1,\n",
       "       param_grid=[{'C': [1, 10, 100, 1000], 'gamma': [0.1, 0.01, 0.001, 0.0001]}],\n",
       "       pre_dispatch='2*n_jobs', refit=True, return_train_score=True,\n",
       "       scoring=None, verbose=0)"
      ]
     },
     "execution_count": 12,
     "metadata": {},
     "output_type": "execute_result"
    }
   ],
   "source": [
    "clf = GridSearchCV(svc, param_grid)\n",
    "clf.fit(X, y)   "
   ]
  },
  {
   "cell_type": "code",
   "execution_count": 13,
   "metadata": {},
   "outputs": [
    {
     "name": "stdout",
     "output_type": "stream",
     "text": [
      "0.973 (+/- 0.009) for {'C': 1, 'gamma': 0.1}\n",
      "0.947 (+/- 0.024) for {'C': 1, 'gamma': 0.01}\n",
      "0.913 (+/- 0.017) for {'C': 1, 'gamma': 0.001}\n",
      "0.913 (+/- 0.017) for {'C': 1, 'gamma': 0.0001}\n",
      "0.973 (+/- 0.024) for {'C': 10, 'gamma': 0.1}\n",
      "0.973 (+/- 0.009) for {'C': 10, 'gamma': 0.01}\n",
      "0.947 (+/- 0.024) for {'C': 10, 'gamma': 0.001}\n",
      "0.913 (+/- 0.017) for {'C': 10, 'gamma': 0.0001}\n",
      "0.967 (+/- 0.046) for {'C': 100, 'gamma': 0.1}\n",
      "0.987 (+/- 0.019) for {'C': 100, 'gamma': 0.01}\n",
      "0.973 (+/- 0.009) for {'C': 100, 'gamma': 0.001}\n",
      "0.947 (+/- 0.024) for {'C': 100, 'gamma': 0.0001}\n",
      "0.960 (+/- 0.042) for {'C': 1000, 'gamma': 0.1}\n",
      "0.973 (+/- 0.037) for {'C': 1000, 'gamma': 0.01}\n",
      "0.987 (+/- 0.019) for {'C': 1000, 'gamma': 0.001}\n",
      "0.973 (+/- 0.009) for {'C': 1000, 'gamma': 0.0001}\n"
     ]
    }
   ],
   "source": [
    "re = clf.cv_results_\n",
    "for params, mean_score, std_score in zip(re['params'], re['mean_test_score'], re['std_test_score']):\n",
    "    print(\"{:.3f} (+/- {:.3f}) for {}\".format(mean_score, std_score, params))"
   ]
  },
  {
   "cell_type": "markdown",
   "metadata": {},
   "source": [
    "param\\_gridに複数のグリッドを持たせることで、上記2回の実験を1回で行うことができます。その際、グリッドの情報にカーネルの種類を持たせることに注意してください。"
   ]
  },
  {
   "cell_type": "code",
   "execution_count": 14,
   "metadata": {
    "collapsed": true
   },
   "outputs": [],
   "source": [
    "param_grid = [\n",
    "  {'C':[1, 10, 100, 1000], 'degree':[1, 2, 3], 'kernel':['poly']},\n",
    "  {'C':[1, 10, 100, 1000], 'gamma':[0.1, 0.01, 0.001, 0.0001], 'kernel':['rbf']}\n",
    " ]"
   ]
  },
  {
   "cell_type": "markdown",
   "metadata": {},
   "source": [
    "GridSearchを実行します。"
   ]
  },
  {
   "cell_type": "code",
   "execution_count": 15,
   "metadata": {},
   "outputs": [
    {
     "data": {
      "text/plain": [
       "GridSearchCV(cv=None, error_score='raise',\n",
       "       estimator=SVC(C=1.0, cache_size=200, class_weight=None, coef0=0.0,\n",
       "  decision_function_shape=None, degree=3, gamma='auto', kernel='rbf',\n",
       "  max_iter=-1, probability=False, random_state=None, shrinking=True,\n",
       "  tol=0.001, verbose=False),\n",
       "       fit_params={}, iid=True, n_jobs=1,\n",
       "       param_grid=[{'C': [1, 10, 100, 1000], 'degree': [1, 2, 3], 'kernel': ['poly']}, {'C': [1, 10, 100, 1000], 'gamma': [0.1, 0.01, 0.001, 0.0001], 'kernel': ['rbf']}],\n",
       "       pre_dispatch='2*n_jobs', refit=True, return_train_score=True,\n",
       "       scoring=None, verbose=0)"
      ]
     },
     "execution_count": 15,
     "metadata": {},
     "output_type": "execute_result"
    }
   ],
   "source": [
    "clf = GridSearchCV(svc, param_grid)\n",
    "clf.fit(X, y) "
   ]
  },
  {
   "cell_type": "markdown",
   "metadata": {},
   "source": [
    "すべてのパラメータの組み合わせについて、スコアを表示します。"
   ]
  },
  {
   "cell_type": "code",
   "execution_count": 16,
   "metadata": {},
   "outputs": [
    {
     "name": "stdout",
     "output_type": "stream",
     "text": [
      "0.967 (+/- 0.018) for {'C': 1, 'degree': 1, 'kernel': 'poly'}\n",
      "0.967 (+/- 0.046) for {'C': 1, 'degree': 2, 'kernel': 'poly'}\n",
      "0.967 (+/- 0.046) for {'C': 1, 'degree': 3, 'kernel': 'poly'}\n",
      "0.973 (+/- 0.037) for {'C': 10, 'degree': 1, 'kernel': 'poly'}\n",
      "0.967 (+/- 0.046) for {'C': 10, 'degree': 2, 'kernel': 'poly'}\n",
      "0.967 (+/- 0.046) for {'C': 10, 'degree': 3, 'kernel': 'poly'}\n",
      "0.973 (+/- 0.037) for {'C': 100, 'degree': 1, 'kernel': 'poly'}\n",
      "0.967 (+/- 0.046) for {'C': 100, 'degree': 2, 'kernel': 'poly'}\n",
      "0.960 (+/- 0.042) for {'C': 100, 'degree': 3, 'kernel': 'poly'}\n",
      "0.973 (+/- 0.037) for {'C': 1000, 'degree': 1, 'kernel': 'poly'}\n",
      "0.967 (+/- 0.046) for {'C': 1000, 'degree': 2, 'kernel': 'poly'}\n",
      "0.960 (+/- 0.042) for {'C': 1000, 'degree': 3, 'kernel': 'poly'}\n",
      "0.973 (+/- 0.009) for {'C': 1, 'gamma': 0.1, 'kernel': 'rbf'}\n",
      "0.947 (+/- 0.024) for {'C': 1, 'gamma': 0.01, 'kernel': 'rbf'}\n",
      "0.913 (+/- 0.017) for {'C': 1, 'gamma': 0.001, 'kernel': 'rbf'}\n",
      "0.913 (+/- 0.017) for {'C': 1, 'gamma': 0.0001, 'kernel': 'rbf'}\n",
      "0.973 (+/- 0.024) for {'C': 10, 'gamma': 0.1, 'kernel': 'rbf'}\n",
      "0.973 (+/- 0.009) for {'C': 10, 'gamma': 0.01, 'kernel': 'rbf'}\n",
      "0.947 (+/- 0.024) for {'C': 10, 'gamma': 0.001, 'kernel': 'rbf'}\n",
      "0.913 (+/- 0.017) for {'C': 10, 'gamma': 0.0001, 'kernel': 'rbf'}\n",
      "0.967 (+/- 0.046) for {'C': 100, 'gamma': 0.1, 'kernel': 'rbf'}\n",
      "0.987 (+/- 0.019) for {'C': 100, 'gamma': 0.01, 'kernel': 'rbf'}\n",
      "0.973 (+/- 0.009) for {'C': 100, 'gamma': 0.001, 'kernel': 'rbf'}\n",
      "0.947 (+/- 0.024) for {'C': 100, 'gamma': 0.0001, 'kernel': 'rbf'}\n",
      "0.960 (+/- 0.042) for {'C': 1000, 'gamma': 0.1, 'kernel': 'rbf'}\n",
      "0.973 (+/- 0.037) for {'C': 1000, 'gamma': 0.01, 'kernel': 'rbf'}\n",
      "0.987 (+/- 0.019) for {'C': 1000, 'gamma': 0.001, 'kernel': 'rbf'}\n",
      "0.973 (+/- 0.009) for {'C': 1000, 'gamma': 0.0001, 'kernel': 'rbf'}\n"
     ]
    }
   ],
   "source": [
    "re = clf.cv_results_\n",
    "for params, mean_score, std_score in zip(re['params'], re['mean_test_score'], re['std_test_score']):\n",
    "    print(\"{:.3f} (+/- {:.3f}) for {}\".format(mean_score, std_score, params))"
   ]
  },
  {
   "cell_type": "markdown",
   "metadata": {},
   "source": [
    "性能が最大となるパラメータとそのときのスコアを表示します。"
   ]
  },
  {
   "cell_type": "code",
   "execution_count": 17,
   "metadata": {},
   "outputs": [
    {
     "data": {
      "text/plain": [
       "{'C': 100, 'gamma': 0.01, 'kernel': 'rbf'}"
      ]
     },
     "execution_count": 17,
     "metadata": {},
     "output_type": "execute_result"
    }
   ],
   "source": [
    "clf.best_params_"
   ]
  },
  {
   "cell_type": "code",
   "execution_count": 18,
   "metadata": {},
   "outputs": [
    {
     "data": {
      "text/plain": [
       "0.98666666666666669"
      ]
     },
     "execution_count": 18,
     "metadata": {},
     "output_type": "execute_result"
    }
   ],
   "source": [
    "clf.best_score_"
   ]
  }
 ],
 "metadata": {
  "anaconda-cloud": {},
  "kernelspec": {
   "display_name": "Python 3",
   "language": "python",
   "name": "python3"
  },
  "language_info": {
   "codemirror_mode": {
    "name": "ipython",
    "version": 3
   },
   "file_extension": ".py",
   "mimetype": "text/x-python",
   "name": "python",
   "nbconvert_exporter": "python",
   "pygments_lexer": "ipython3",
   "version": "3.6.1"
  }
 },
 "nbformat": 4,
 "nbformat_minor": 1
}
