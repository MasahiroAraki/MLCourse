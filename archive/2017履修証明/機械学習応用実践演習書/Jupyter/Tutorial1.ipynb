{
 "cells": [
  {
   "cell_type": "markdown",
   "metadata": {
    "collapsed": true
   },
   "source": [
    "# Python入門（前編）\n",
    "\n",
    "Pythonを学ぶにあたり、まず公式チュートリアルから始めましょう。  \n",
    "http://docs.python.jp/3/tutorial/\n",
    "\n",
    "以下では本講義で使用する環境や内容に合わせて、公式チュートリアルの要点をまとめます。"
   ]
  },
  {
   "cell_type": "markdown",
   "metadata": {},
   "source": [
    "# 1. 導入\n",
    "\n",
    "Pythonの特徴\n",
    "* インタプリタ型言語なのでコンパイルが不要\n",
    "* 可変長配列や辞書などの高水準の型を持つ\n",
    "* 実行文のグループ化をインデントで行う\n",
    "* 変数の型は代入時に決まるので、宣言不要（動的型付け）"
   ]
  },
  {
   "cell_type": "markdown",
   "metadata": {},
   "source": [
    "# 2. 環境\n",
    "\n",
    "## インストール\n",
    "\n",
    "機械学習関連のパッケージや、短いコードを実行しながら開発できるJupyter notebookがまとめられている Anaconda 4.4.0 Python 3.6 version を使います。  \n",
    "https://www.continuum.io/downloads"
   ]
  },
  {
   "cell_type": "markdown",
   "metadata": {
    "collapsed": true
   },
   "source": [
    "## 実習環境\n",
    "\n",
    "実習は Jupyter notebookを使います。\n",
    "\n",
    "* 作成するnotebookやデータなどを保存するフォルダを作成します。\n",
    "* そのフォルダに移動してから、「New」→「Python [conda root]」を選ぶと、\n",
    "Untitled.ipynbというファイルができます。\n",
    "* 上部の「Untitled」をクリックして、適切なファイル名に変更します。\n",
    "\n",
    "Jupyter notebookはCellという単位にPythonのコードや、Markdown記法による文章を記述することができます。"
   ]
  },
  {
   "cell_type": "markdown",
   "metadata": {},
   "source": [
    "### よく使うMarkdown記法\n",
    "\n",
    "* 見出し：\"#\" (レベルは\"##\", \"###\"などで調整)\n",
    "* 改行：行末で2つ以上の空白\n",
    "* 箇条書き：\"*\" と空白を先頭に。入れ子は先頭に空白を入れて、記号を\"-\"に変更。\n",
    "* 数式：\"$$\" で囲む"
   ]
  },
  {
   "cell_type": "markdown",
   "metadata": {},
   "source": [
    "### Jupyter notebookのショートカット\n",
    "\n",
    "* esc を押してコマンドモード\n",
    " - Enter:セルの編集\n",
    " - m: マークダウンモード\n",
    " - y: コードモード\n",
    " - c: セルのコピー\n",
    " - v: コピーしたセルのペースト\n",
    " - dd: セルの削除\n",
    " - Space: スクロールダウン\n",
    " - Shift + Space: スクロールアップ\n",
    " - h: ショートカット一覧の表示\n",
    "\n",
    "* セルの編集モードの時\n",
    " - Shift+Enter: セルの実行、次のセルへ移動\n",
    " - ctrl +Enter: セルの実行のみ"
   ]
  },
  {
   "cell_type": "markdown",
   "metadata": {},
   "source": [
    "# 3. Pythonの簡単な紹介\n",
    "\n",
    "## 数値演算子\n",
    "\n",
    "* 四則演算：  +, -, *, /\n",
    "* 割り算の商：//, 余り： %\n",
    "* べき乗： **\n",
    "\n",
    "## 文字列\n",
    "\n",
    "* 単引用符 ('...') もしくは二重引用符 (\"...\") で囲む\n",
    "* 改行を含む文字列は三連引用符 (\"\"\"...\"\"\" や '''...''') を使う"
   ]
  },
  {
   "cell_type": "markdown",
   "metadata": {},
   "source": [
    "## インデックス\n",
    "\n",
    "文字列中の文字はインデックスを用いて参照できます。負の数を指定すると、右から数えます（一番後ろの文字は -1）  \n",
    "\n",
    "変数wordに文字列'Python'を代入し、先頭の文字、5文字目、最後の文字をそれぞれ取り出してみましょう。"
   ]
  },
  {
   "cell_type": "code",
   "execution_count": 1,
   "metadata": {
    "collapsed": true
   },
   "outputs": [],
   "source": [
    "word = 'Python'"
   ]
  },
  {
   "cell_type": "code",
   "execution_count": 2,
   "metadata": {},
   "outputs": [
    {
     "data": {
      "text/plain": [
       "'P'"
      ]
     },
     "execution_count": 2,
     "metadata": {},
     "output_type": "execute_result"
    }
   ],
   "source": [
    "word[0]"
   ]
  },
  {
   "cell_type": "code",
   "execution_count": 3,
   "metadata": {},
   "outputs": [
    {
     "data": {
      "text/plain": [
       "'n'"
      ]
     },
     "execution_count": 3,
     "metadata": {},
     "output_type": "execute_result"
    }
   ],
   "source": [
    "word[5]"
   ]
  },
  {
   "cell_type": "code",
   "execution_count": 4,
   "metadata": {},
   "outputs": [
    {
     "data": {
      "text/plain": [
       "'n'"
      ]
     },
     "execution_count": 4,
     "metadata": {},
     "output_type": "execute_result"
    }
   ],
   "source": [
    "word[-1]"
   ]
  },
  {
   "cell_type": "markdown",
   "metadata": {},
   "source": [
    "範囲指定は [開始インデックス:終了インデックス] と書きます。Scilabとの違いは、終了インデックスが範囲に含まれないことです。開始インデックスの省略は0、終了インデックスの省略は文字列のサイズを意味します。  \n",
    "\n",
    "変数wordの先頭から2文字目までを取り出してみましょう。"
   ]
  },
  {
   "cell_type": "code",
   "execution_count": 5,
   "metadata": {},
   "outputs": [
    {
     "data": {
      "text/plain": [
       "'Py'"
      ]
     },
     "execution_count": 5,
     "metadata": {},
     "output_type": "execute_result"
    }
   ],
   "source": [
    "word[0:2] # 終了インデックスは含まれないことに注意"
   ]
  },
  {
   "cell_type": "markdown",
   "metadata": {},
   "source": [
    "## リスト\n",
    "\n",
    "* リストはコンマ区切りの値 (要素) の並びを角括弧で囲んだものです。\n",
    "* インデックスで要素の参照や書き換えが可能です。\n",
    "* 要素の追加：append() メソッド\n",
    "* 要素数を求める：len() 関数の引数にリストを指定\n"
   ]
  },
  {
   "cell_type": "markdown",
   "metadata": {},
   "source": [
    "## 簡単なプログラム\n",
    "\n",
    "フィボナッチ数列（ http://mathtrain.jp/fibonacci ）を出力するプログラムを書いてみます。\n",
    "\n",
    "* 10以下のフィボナッチ数を出力してみましょう\n",
    "* print関数に end=',' という引数を与えて改行しないようにして、1000以下のフィボナッチ数を出力してみましょう"
   ]
  },
  {
   "cell_type": "code",
   "execution_count": 6,
   "metadata": {},
   "outputs": [
    {
     "name": "stdout",
     "output_type": "stream",
     "text": [
      "1\n",
      "1\n",
      "2\n",
      "3\n",
      "5\n",
      "8\n"
     ]
    }
   ],
   "source": [
    "# Fibonacci series:\n",
    "# the sum of two elements defines the next\n",
    "a, b = 0, 1\n",
    "while b < 10:\n",
    "    print(b)\n",
    "    a, b = b, a+b"
   ]
  },
  {
   "cell_type": "markdown",
   "metadata": {},
   "source": [
    "## （追加） ベクトル、配列\n",
    "\n",
    "ベクトルや配列は多次元配列を意味するnumpy.ndarrayを使います。1次元配列はベクトル、2次元配列は行列、3次元以上はテンソルになります。通常ndarrayを生成するときには、np.array()メソッドを使います。"
   ]
  },
  {
   "cell_type": "markdown",
   "metadata": {},
   "source": [
    "変数xに5次元ベクトルを代入し、4つめの要素、先頭から2つの要素をそれぞれ取り出してみましょう。"
   ]
  },
  {
   "cell_type": "code",
   "execution_count": 7,
   "metadata": {},
   "outputs": [
    {
     "data": {
      "text/plain": [
       "array([5, 3, 2, 6, 1])"
      ]
     },
     "execution_count": 7,
     "metadata": {},
     "output_type": "execute_result"
    }
   ],
   "source": [
    "import numpy as np\n",
    "x= np.array([5, 3, 2, 6, 1])\n",
    "x"
   ]
  },
  {
   "cell_type": "code",
   "execution_count": 8,
   "metadata": {},
   "outputs": [
    {
     "data": {
      "text/plain": [
       "6"
      ]
     },
     "execution_count": 8,
     "metadata": {},
     "output_type": "execute_result"
    }
   ],
   "source": [
    "x[3]"
   ]
  },
  {
   "cell_type": "code",
   "execution_count": 9,
   "metadata": {},
   "outputs": [
    {
     "data": {
      "text/plain": [
       "array([5, 3])"
      ]
     },
     "execution_count": 9,
     "metadata": {},
     "output_type": "execute_result"
    }
   ],
   "source": [
    "x[0:2]"
   ]
  },
  {
   "cell_type": "markdown",
   "metadata": {},
   "source": [
    "変数Xに2行3列の行列を代入し、1行目、2列目と3列目からなる行列をそれぞれ取り出してみましょう。"
   ]
  },
  {
   "cell_type": "code",
   "execution_count": 10,
   "metadata": {},
   "outputs": [
    {
     "data": {
      "text/plain": [
       "array([[0, 1, 2],\n",
       "       [3, 4, 5]])"
      ]
     },
     "execution_count": 10,
     "metadata": {},
     "output_type": "execute_result"
    }
   ],
   "source": [
    "X = np.array([[0,1,2],[3,4,5]])\n",
    "X"
   ]
  },
  {
   "cell_type": "code",
   "execution_count": 11,
   "metadata": {},
   "outputs": [
    {
     "data": {
      "text/plain": [
       "array([0, 1, 2])"
      ]
     },
     "execution_count": 11,
     "metadata": {},
     "output_type": "execute_result"
    }
   ],
   "source": [
    "X[0,:]"
   ]
  },
  {
   "cell_type": "code",
   "execution_count": 12,
   "metadata": {},
   "outputs": [
    {
     "data": {
      "text/plain": [
       "array([[1, 2],\n",
       "       [4, 5]])"
      ]
     },
     "execution_count": 12,
     "metadata": {},
     "output_type": "execute_result"
    }
   ],
   "source": [
    "X[:,1:3]"
   ]
  },
  {
   "cell_type": "markdown",
   "metadata": {},
   "source": [
    "# 4. 制御\n",
    "\n",
    "## if文\n",
    "\n",
    "if文は   \n",
    "<code>\n",
    "if 条件式:  \n",
    "      条件式の値が真のとき実行する処理\n",
    "else:\n",
    "      条件式の値が偽のとき実行する処理\n",
    "</code>  \n",
    "と書きます。else以下は不要であれば省略可能です。条件分岐を重ねるときは elifを使います。  \n",
    "elifを使わなければ、分岐ごとにインデントが深くなってゆきます。"
   ]
  },
  {
   "cell_type": "markdown",
   "metadata": {},
   "source": [
    "整数をキーボードから入力し、負であれば0に置き換えてその旨を表示、0であればZeroと表示、1であればSingleと表示、それ以外はMoreと表示するプログラムを書いてみましょう。"
   ]
  },
  {
   "cell_type": "code",
   "execution_count": 13,
   "metadata": {},
   "outputs": [
    {
     "name": "stdout",
     "output_type": "stream",
     "text": [
      "Please enter an integer: 3\n",
      "More\n"
     ]
    }
   ],
   "source": [
    "x = int(input(\"Please enter an integer: \"))\n",
    "if x < 0:\n",
    "    x = 0\n",
    "    print('Negative changed to zero')\n",
    "elif x == 0:\n",
    "    print('Zero')\n",
    "elif x == 1:\n",
    "    print('Single')\n",
    "else:\n",
    "    print('More')"
   ]
  },
  {
   "cell_type": "markdown",
   "metadata": {},
   "source": [
    "## for文\n",
    "\n",
    "Pythonのfor文はシーケンス型のオブジェクトから1つずつ要素を取り出して実行する書き方が基本です。  \n",
    "break文やcontinue文はC言語と同じ使い方ができます。"
   ]
  },
  {
   "cell_type": "markdown",
   "metadata": {},
   "source": [
    "list型変数wordsに3つの文字列を格納し、文字列とその文字数を順に表示するプログラムを書いてみましょう。"
   ]
  },
  {
   "cell_type": "code",
   "execution_count": 14,
   "metadata": {},
   "outputs": [
    {
     "name": "stdout",
     "output_type": "stream",
     "text": [
      "cat 3\n",
      "window 6\n",
      "defenestrate 12\n"
     ]
    }
   ],
   "source": [
    "words = ['cat', 'window', 'defenestrate']\n",
    "\n",
    "for w in words:\n",
    "     print(w, len(w))"
   ]
  },
  {
   "cell_type": "markdown",
   "metadata": {},
   "source": [
    "ループカウンタを使うときは、range関数を用います。for文を使って0から4までを表示してみましょう。"
   ]
  },
  {
   "cell_type": "code",
   "execution_count": 15,
   "metadata": {},
   "outputs": [
    {
     "name": "stdout",
     "output_type": "stream",
     "text": [
      "0\n",
      "1\n",
      "2\n",
      "3\n",
      "4\n"
     ]
    }
   ],
   "source": [
    "for i in range(5):\n",
    "     print(i)"
   ]
  },
  {
   "cell_type": "markdown",
   "metadata": {},
   "source": [
    "range(5, 10)は5 から 9、range(0, 10, 3)は 0, 3, 6, 9でループを回します。ただし、range関数は数列を生成するわけではないことに注意が必要です。"
   ]
  },
  {
   "cell_type": "markdown",
   "metadata": {},
   "source": [
    "## 関数の定義\n",
    "\n",
    "関数の定義は  \n",
    "<code>\n",
    "def 関数名(引数):\n",
    "    関数本体\n",
    "</code>  \n",
    "と書きます。"
   ]
  },
  {
   "cell_type": "markdown",
   "metadata": {},
   "source": [
    "nまでのフィボナッチ数列を表示する関数fib()を作成し、動作を確認してみましょう。"
   ]
  },
  {
   "cell_type": "code",
   "execution_count": 16,
   "metadata": {},
   "outputs": [
    {
     "name": "stdout",
     "output_type": "stream",
     "text": [
      "0 \n",
      "1 \n",
      "1 \n",
      "2 \n",
      "3 \n",
      "5 \n",
      "8 \n",
      "13 \n",
      "21 \n",
      "34 \n",
      "55 \n",
      "89 \n",
      "144 \n",
      "233 \n",
      "377 \n",
      "610 \n",
      "987 \n",
      "1597 \n"
     ]
    }
   ],
   "source": [
    "def fib(n):    # nまでの Fibonacci 数列\n",
    "    \"\"\"Print a Fibonacci series up to n.\"\"\"\n",
    "    a, b = 0, 1\n",
    "    while a < n:\n",
    "        print(a, end=' ')\n",
    "        a, b = b, a+b\n",
    "        print()\n",
    "\n",
    "fib(2000)"
   ]
  },
  {
   "cell_type": "markdown",
   "metadata": {},
   "source": [
    "値を返す場合は、関数本体中にreturn文を書きます。  \n",
    "デフォルトの引数値は以下のように指定します。  \n",
    "<code>\n",
    "def ask_ok(prompt, retries=4, reminder='Please try again!'):\n",
    "</code>\n",
    "\n",
    "また、呼び出し側では ask(prompt='ok', reminder='NG')のようにキーワード引数を使って関数を呼び出すことができます。"
   ]
  },
  {
   "cell_type": "markdown",
   "metadata": {},
   "source": [
    "# 5. データ構造\n",
    "\n",
    "Pythonには、リスト型・タプル・辞書型などの便利なデータ構造があります。  \n",
    "タプルは丸括弧の中に複数の変数をカンマで区切って保持します。辞書型はキーと値のペアの集合です。"
   ]
  },
  {
   "cell_type": "markdown",
   "metadata": {},
   "source": [
    "辞書型変数telに、名前をキーとして内線番号4桁を格納してみます。新たな情報の追加や、検索が可能なことを確かめてください。"
   ]
  },
  {
   "cell_type": "code",
   "execution_count": 17,
   "metadata": {},
   "outputs": [
    {
     "data": {
      "text/plain": [
       "{'guido': 4127, 'jack': 4098, 'sape': 4139}"
      ]
     },
     "execution_count": 17,
     "metadata": {},
     "output_type": "execute_result"
    }
   ],
   "source": [
    "tel = {'jack': 4098, 'sape': 4139}\n",
    "tel['guido'] = 4127\n",
    "tel"
   ]
  },
  {
   "cell_type": "code",
   "execution_count": 18,
   "metadata": {},
   "outputs": [
    {
     "data": {
      "text/plain": [
       "4098"
      ]
     },
     "execution_count": 18,
     "metadata": {},
     "output_type": "execute_result"
    }
   ],
   "source": [
    "tel['jack']"
   ]
  }
 ],
 "metadata": {
  "anaconda-cloud": {},
  "kernelspec": {
   "display_name": "Python 3",
   "language": "python",
   "name": "python3"
  },
  "language_info": {
   "codemirror_mode": {
    "name": "ipython",
    "version": 3
   },
   "file_extension": ".py",
   "mimetype": "text/x-python",
   "name": "python",
   "nbconvert_exporter": "python",
   "pygments_lexer": "ipython3",
   "version": "3.6.1"
  }
 },
 "nbformat": 4,
 "nbformat_minor": 1
}
