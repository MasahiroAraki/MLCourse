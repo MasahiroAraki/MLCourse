{
 "cells": [
  {
   "cell_type": "markdown",
   "metadata": {
    "collapsed": true
   },
   "source": [
    "# Kerasのまとめ"
   ]
  },
  {
   "cell_type": "markdown",
   "metadata": {},
   "source": [
    "### DNNの構成要素\n",
    "\n",
    "<img src=\"keras/fig1.png\" width=\"320px\"/>"
   ]
  },
  {
   "cell_type": "markdown",
   "metadata": {},
   "source": [
    "### Kerasの要素との対応\n",
    "\n",
    "<img src=\"keras/fig2.png\" width=\"400px\"/>"
   ]
  },
  {
   "cell_type": "markdown",
   "metadata": {},
   "source": [
    "### 基本的な手順\n",
    "\n",
    "1. データの準備\n",
    " * 通常、DNNでは学習時間が長いため、分割法で評価を行います。従って、学習用・評価用のそれぞれに特徴ベクトル・教師信号が必要なので、用意するデータは X\\_train, X_test, y_train, y_testとなります。\n",
    " * 多クラス識別の場合は、[Keras.utility.to_categorical](https://keras.io/ja/utils/np_utils/)を用いて教師信号をone-hotベクトルに変換しておきます。\n",
    "1. ネットワークの定義\n",
    " * Kerasではネットワークの構成情報を[Model](https://keras.io/ja/models/about-keras-models/#about-keras-models)と呼びます。Modelには単純にレイヤーを重ねてゆく[Sequentialモデル](https://keras.io/ja/getting-started/sequential-model-guide/)と、複雑な構成が可能な[functional APIとともに用いるモデル](https://keras.io/ja/getting-started/functional-api-guide/)があります。\n",
    "1. モデルのコンパイル\n",
    " * compileメソッドでモデルに対して学習手順を指定します。引数は、最適化アルゴリズム([optimizer](https://keras.io/ja/optimizers/))、損失関数([loss](https://keras.io/ja/losses/))、評価関数のリスト([metrics](https://keras.io/ja/metrics/))（学習の途中経過表示や評価時に計算される値で、学習そのものには関係しません）です。\n",
    "1. 学習\n",
    " * [fit](https://keras.io/ja/models/sequential/)メソッドに特徴ベクトルと教師信号を渡して学習します。通常は、バッチサイズ(batch_size)と繰り返し回数(epochs)も指定しておきます。\n",
    "1. 評価\n",
    " * [evaluate](https://keras.io/ja/models/sequential/)メソッドに評価用データを渡して評価します。"
   ]
  },
  {
   "cell_type": "markdown",
   "metadata": {},
   "source": [
    "## MLPによる手書き数字識別\n",
    "\n",
    "Keras1を参照"
   ]
  },
  {
   "cell_type": "markdown",
   "metadata": {},
   "source": [
    "## CNNによる手書き数字識別\n",
    "\n",
    "Keras2を参照"
   ]
  },
  {
   "cell_type": "markdown",
   "metadata": {},
   "source": [
    "## D社データのCNNによる識別\n",
    "\n",
    "Keras-Dを参照"
   ]
  },
  {
   "cell_type": "markdown",
   "metadata": {},
   "source": [
    "## RNNによる系列信号の予測\n",
    "\n",
    "Keras4を参照"
   ]
  }
 ],
 "metadata": {
  "kernelspec": {
   "display_name": "tensorflow",
   "language": "python",
   "name": "tensorflow"
  },
  "language_info": {
   "codemirror_mode": {
    "name": "ipython",
    "version": 3
   },
   "file_extension": ".py",
   "mimetype": "text/x-python",
   "name": "python",
   "nbconvert_exporter": "python",
   "pygments_lexer": "ipython3",
   "version": "3.5.3"
  }
 },
 "nbformat": 4,
 "nbformat_minor": 2
}
