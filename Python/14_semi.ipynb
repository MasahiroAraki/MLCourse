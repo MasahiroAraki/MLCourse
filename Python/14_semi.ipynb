{
  "nbformat": 4,
  "nbformat_minor": 0,
  "metadata": {
    "colab": {
      "name": "14_semi.ipynb",
      "provenance": [],
      "collapsed_sections": []
    },
    "kernelspec": {
      "name": "python3",
      "display_name": "Python 3"
    },
    "language_info": {
      "name": "python"
    },
    "accelerator": "GPU"
  },
  "cells": [
    {
      "cell_type": "markdown",
      "metadata": {
        "id": "rABDTPemlrYW"
      },
      "source": [
        "<a href=\"https://colab.research.google.com/github/MasahiroAraki/MLCourse/blob/master/Python/14_semi.ipynb\" target=\"_parent\"><img src=\"https://colab.research.google.com/assets/colab-badge.svg\" alt=\"Open In Colab\"/></a>"
      ]
    },
    {
      "cell_type": "markdown",
      "metadata": {
        "id": "SOA2r_Tz1N7Y"
      },
      "source": [
        "# 第14章 半教師あり学習\n",
        "\n",
        "## 例題14.3\n",
        "\n",
        "scikit-learnのLabelPropagationでirisデータの半教師あり学習を行います。"
      ]
    },
    {
      "cell_type": "markdown",
      "metadata": {
        "id": "cMqLayXK1N7b"
      },
      "source": [
        "ライブラリの読み込み"
      ]
    },
    {
      "cell_type": "code",
      "metadata": {
        "id": "KoaQgu741N7c"
      },
      "source": [
        "import numpy as np\n",
        "from sklearn.datasets import load_iris\n",
        "from sklearn.semi_supervised import LabelPropagation"
      ],
      "execution_count": 1,
      "outputs": []
    },
    {
      "cell_type": "markdown",
      "metadata": {
        "id": "6GOWzqfX1N7j"
      },
      "source": [
        "irisデータの読み込み"
      ]
    },
    {
      "cell_type": "code",
      "metadata": {
        "id": "5lAiU4MV1N7k"
      },
      "source": [
        "iris = load_iris()\n",
        "X = iris.data\n",
        "y = iris.target"
      ],
      "execution_count": 2,
      "outputs": []
    },
    {
      "cell_type": "markdown",
      "metadata": {
        "id": "_FBtBDKB1N7p"
      },
      "source": [
        "### 半教師ありデータの作成\n",
        "\n",
        "まず、どのデータの教師信号を消すかを決めます。\n",
        "[np.random.choice](https://docs.scipy.org/doc/numpy/reference/generated/numpy.random.choice.html)を使って、データのインデックスを表すndarrayから、指定された個数（全体の7割）のインデックスを、重複なしで抜き出します。"
      ]
    },
    {
      "cell_type": "code",
      "metadata": {
        "id": "ubnioByY1N7q",
        "colab": {
          "base_uri": "https://localhost:8080/"
        },
        "outputId": "71014f7e-a88b-4a18-faa8-17edacf3bcdb"
      },
      "source": [
        "unlabeled_points = np.random.choice(np.arange(y.size), int((y.size)*.7), replace=False)\n",
        "unlabeled_points"
      ],
      "execution_count": 3,
      "outputs": [
        {
          "output_type": "execute_result",
          "data": {
            "text/plain": [
              "array([ 36,  84, 123,  39,  89,  85, 100,  43,  29,  32, 143,  96,  35,\n",
              "        28, 139, 112,  11,  92,  72, 108,  27,  94,  47,  70,  77, 132,\n",
              "        18, 145, 125,   5,  16, 141,  91,  24,  52,   4,  93, 110,  74,\n",
              "       119, 127, 118,  40,  50,  19,  87,  64, 115,  76,  54,  22,  75,\n",
              "       137, 107,  31, 147,  41,   0, 128, 113, 138,  21, 116,  71,  81,\n",
              "       144, 117,  68, 148,  65,  61,  23, 140,   3,  44,  25,  98, 126,\n",
              "         2,  56, 106, 131, 122, 136, 111,  86,  57,  10, 102,  55,  37,\n",
              "       133,  34,  20,  58, 120,  67, 101,  14,  66,  51,  60, 146,  88,\n",
              "       114])"
            ]
          },
          "metadata": {
            "tags": []
          },
          "execution_count": 3
        }
      ]
    },
    {
      "cell_type": "markdown",
      "metadata": {
        "id": "y4i5pf3B1N7z"
      },
      "source": [
        "教師ベクトルyを[np.copy](https://docs.scipy.org/doc/numpy/reference/generated/numpy.copy.html)を使って変数labelsにコピーし（代入文でコピーするとオブジェクトが共有され、labelsを変更するとyも変わってしまいます）、先ほど抜き出したインデックスに対応する値を-1に書き換えます。"
      ]
    },
    {
      "cell_type": "code",
      "metadata": {
        "id": "Bm-7uvKk1N70",
        "colab": {
          "base_uri": "https://localhost:8080/"
        },
        "outputId": "eb7c3b76-5819-470a-90bc-fd4b2bb93058"
      },
      "source": [
        "labels = np.copy(y)\n",
        "labels[unlabeled_points] = -1\n",
        "labels"
      ],
      "execution_count": 4,
      "outputs": [
        {
          "output_type": "execute_result",
          "data": {
            "text/plain": [
              "array([-1,  0, -1, -1, -1, -1,  0,  0,  0,  0, -1, -1,  0,  0, -1,  0, -1,\n",
              "        0, -1, -1, -1, -1, -1, -1, -1, -1,  0, -1, -1, -1,  0, -1, -1,  0,\n",
              "       -1, -1, -1, -1,  0, -1, -1, -1,  0, -1, -1,  0,  0, -1,  0,  0, -1,\n",
              "       -1, -1,  1, -1, -1, -1, -1, -1,  1, -1, -1,  1,  1, -1, -1, -1, -1,\n",
              "       -1,  1, -1, -1, -1,  1, -1, -1, -1, -1,  1,  1,  1, -1,  1,  1, -1,\n",
              "       -1, -1, -1, -1, -1,  1, -1, -1, -1, -1,  1, -1,  1, -1,  1, -1, -1,\n",
              "       -1,  2,  2,  2, -1, -1, -1,  2, -1, -1, -1, -1, -1, -1, -1, -1, -1,\n",
              "       -1, -1,  2, -1, -1,  2, -1, -1, -1, -1,  2,  2, -1, -1, -1,  2,  2,\n",
              "       -1, -1, -1, -1, -1, -1,  2, -1, -1, -1, -1, -1, -1,  2])"
            ]
          },
          "metadata": {
            "tags": []
          },
          "execution_count": 4
        }
      ]
    },
    {
      "cell_type": "markdown",
      "metadata": {
        "id": "G82flpte1N76"
      },
      "source": [
        "これを教師ベクトルとして、[LabelPropagation](http://scikit-learn.org/stable/modules/generated/sklearn.semi_supervised.LabelPropagation.html)で半教師あり学習を行います。"
      ]
    },
    {
      "cell_type": "code",
      "metadata": {
        "id": "jTir62C51N77",
        "colab": {
          "base_uri": "https://localhost:8080/"
        },
        "outputId": "0f7b55da-5993-447d-d7f3-2989c23d4496"
      },
      "source": [
        "lp = LabelPropagation(max_iter=10000)\n",
        "lp.fit(X, labels)"
      ],
      "execution_count": 5,
      "outputs": [
        {
          "output_type": "execute_result",
          "data": {
            "text/plain": [
              "LabelPropagation(gamma=20, kernel='rbf', max_iter=10000, n_jobs=None,\n",
              "                 n_neighbors=7, tol=0.001)"
            ]
          },
          "metadata": {
            "tags": []
          },
          "execution_count": 5
        }
      ]
    },
    {
      "cell_type": "markdown",
      "metadata": {
        "id": "prM2rq2B1N8A"
      },
      "source": [
        "正解なしデータの割り当て結果を表示します。"
      ]
    },
    {
      "cell_type": "code",
      "metadata": {
        "id": "M5_gmgbb1N8C",
        "colab": {
          "base_uri": "https://localhost:8080/"
        },
        "outputId": "9c6776d4-dbe3-4b5e-e3fd-30f17f988c77"
      },
      "source": [
        "lp.score(X[unlabeled_points], y[unlabeled_points])"
      ],
      "execution_count": 6,
      "outputs": [
        {
          "output_type": "execute_result",
          "data": {
            "text/plain": [
              "0.9523809523809523"
            ]
          },
          "metadata": {
            "tags": []
          },
          "execution_count": 6
        }
      ]
    },
    {
      "cell_type": "markdown",
      "metadata": {
        "id": "7CNBzCis1N8H"
      },
      "source": [
        "正解付きデータを5%, 10%, 20%, 30%と変えて、それぞれ100回ずつ学習を試みて性能を評価します。"
      ]
    },
    {
      "cell_type": "code",
      "metadata": {
        "id": "Hexj1RoY1N8J",
        "colab": {
          "base_uri": "https://localhost:8080/"
        },
        "outputId": "e02be7f7-e6e5-4da8-c7c8-2a528a6462f9"
      },
      "source": [
        "labeled_percent = [0.05, 0.1, 0.2, 0.3]\n",
        "num = y.size\n",
        "for labeled in labeled_percent :\n",
        "    score = 0\n",
        "    for i in range(100):\n",
        "        unlabeled_points = np.random.choice(np.arange(num),int(num-num*labeled), replace=False)\n",
        "        labels = np.copy(y)\n",
        "        labels[unlabeled_points] = -1\n",
        "        lp.fit(X, labels)\n",
        "        score += lp.score(X[unlabeled_points], y[unlabeled_points])\n",
        "    print(\"{0}{1:4.1f}{2}{3:6.3f}\".format(\"labeled:\", labeled*100, \"%, score=\", score/100))        "
      ],
      "execution_count": 7,
      "outputs": [
        {
          "output_type": "stream",
          "text": [
            "/usr/local/lib/python3.7/dist-packages/sklearn/semi_supervised/_label_propagation.py:288: ConvergenceWarning: max_iter=10000 was reached without convergence.\n",
            "  category=ConvergenceWarning\n"
          ],
          "name": "stderr"
        },
        {
          "output_type": "stream",
          "text": [
            "labeled: 5.0%, score= 0.839\n",
            "labeled:10.0%, score= 0.914\n",
            "labeled:20.0%, score= 0.953\n",
            "labeled:30.0%, score= 0.955\n"
          ],
          "name": "stdout"
        }
      ]
    },
    {
      "cell_type": "markdown",
      "metadata": {
        "id": "giYW680alrYf"
      },
      "source": [
        "## データ拡張\n",
        "\n",
        "画像データ (CIFER10) の拡張を行って、性能の変化を観察します。"
      ]
    },
    {
      "cell_type": "code",
      "metadata": {
        "id": "zcA6J8VblrYf"
      },
      "source": [
        "import numpy as np\n",
        "import matplotlib.pyplot as plt\n",
        "import tensorflow as tf\n",
        "from tensorflow import keras\n",
        "from tensorflow.keras import layers"
      ],
      "execution_count": 8,
      "outputs": []
    },
    {
      "cell_type": "code",
      "metadata": {
        "id": "gHlWQpeUlrYf"
      },
      "source": [
        "cf10 = keras.datasets.cifar10\n",
        "(X_train,y_train),(X_test,y_test)=keras.datasets.cifar10.load_data()"
      ],
      "execution_count": 9,
      "outputs": []
    },
    {
      "cell_type": "markdown",
      "metadata": {
        "id": "SUIvbw7OlrYg"
      },
      "source": [
        "データ拡張を行う関数（Keras.Sequentialのインスタンス）を定義します。"
      ]
    },
    {
      "cell_type": "code",
      "metadata": {
        "id": "h0WRMczhlrYg"
      },
      "source": [
        "data_augmentation = keras.Sequential(\n",
        "    [\n",
        "        layers.experimental.preprocessing.RandomFlip(\"horizontal\"),\n",
        "        layers.experimental.preprocessing.RandomRotation(0.07),\n",
        "        layers.experimental.preprocessing.RandomZoom(0.08),\n",
        "    ]\n",
        ")"
      ],
      "execution_count": 10,
      "outputs": []
    },
    {
      "cell_type": "markdown",
      "metadata": {
        "id": "F_QMTNjllrYg"
      },
      "source": [
        "データ拡張結果を確認します。"
      ]
    },
    {
      "cell_type": "code",
      "metadata": {
        "colab": {
          "base_uri": "https://localhost:8080/",
          "height": 593
        },
        "id": "fC3dcpv8lrYg",
        "outputId": "39c835d5-c926-40eb-a279-30a620b85cf1"
      },
      "source": [
        "fig_num = 4\n",
        "plt.figure(figsize=(10,10))\n",
        "for i in range(9):\n",
        "    im = data_augmentation(np.expand_dims(X_train[fig_num], axis=0))\n",
        "    plt.subplot(3, 3, i+1)\n",
        "    plt.imshow(im[0])\n",
        "plt.show()"
      ],
      "execution_count": 11,
      "outputs": [
        {
          "output_type": "display_data",
          "data": {
            "image/png": "[encoded data removed]",
            "text/plain": [
              "<Figure size 720x720 with 9 Axes>"
            ]
          },
          "metadata": {
            "tags": [],
            "needs_background": "light"
          }
        }
      ]
    },
    {
      "cell_type": "code",
      "metadata": {
        "id": "hpFh4i2UlrYg"
      },
      "source": [
        "X_train = X_train / 255.0\n",
        "X_test = X_test / 255.0\n",
        "y_train = keras.utils.to_categorical(y_train, 10)\n",
        "y_test = keras.utils.to_categorical(y_test, 10)"
      ],
      "execution_count": 12,
      "outputs": []
    },
    {
      "cell_type": "markdown",
      "metadata": {
        "id": "tU_wS4HclrYh"
      },
      "source": [
        "9章の課題で、正解率67.14%のモデルに対してデータ拡張を行います。入力データが変動しているので、ドロップアウトは除外しておきます。"
      ]
    },
    {
      "cell_type": "code",
      "metadata": {
        "colab": {
          "base_uri": "https://localhost:8080/"
        },
        "id": "UipLb3yClrYh",
        "outputId": "a585cd5b-23e2-4f3b-8d01-dbcc17ec529b"
      },
      "source": [
        "model3 = keras.Sequential([\n",
        "    data_augmentation,\n",
        "    layers.Conv2D(32, kernel_size=(3, 3), activation='relu'),\n",
        "    layers.MaxPooling2D(pool_size=(2, 2)),\n",
        "    layers.Conv2D(32, (3, 3), activation='relu'),\n",
        "    layers.MaxPooling2D(pool_size=(2, 2)),\n",
        "    layers.BatchNormalization(),\n",
        "    #layers.Dropout(0.5),\n",
        "    layers.Flatten(),\n",
        "    layers.Dense(128, activation='relu'),\n",
        "    layers.Dense(10, activation='softmax')\n",
        "])\n",
        "model3.build(input_shape=(None, 32, 32, 3))\n",
        "model3.summary()"
      ],
      "execution_count": 13,
      "outputs": [
        {
          "output_type": "stream",
          "text": [
            "Model: \"sequential_1\"\n",
            "_________________________________________________________________\n",
            "Layer (type)                 Output Shape              Param #   \n",
            "=================================================================\n",
            "sequential (Sequential)      (None, 32, 32, 3)         0         \n",
            "_________________________________________________________________\n",
            "conv2d (Conv2D)              (None, 30, 30, 32)        896       \n",
            "_________________________________________________________________\n",
            "max_pooling2d (MaxPooling2D) (None, 15, 15, 32)        0         \n",
            "_________________________________________________________________\n",
            "conv2d_1 (Conv2D)            (None, 13, 13, 32)        9248      \n",
            "_________________________________________________________________\n",
            "max_pooling2d_1 (MaxPooling2 (None, 6, 6, 32)          0         \n",
            "_________________________________________________________________\n",
            "batch_normalization (BatchNo (None, 6, 6, 32)          128       \n",
            "_________________________________________________________________\n",
            "flatten (Flatten)            (None, 1152)              0         \n",
            "_________________________________________________________________\n",
            "dense (Dense)                (None, 128)               147584    \n",
            "_________________________________________________________________\n",
            "dense_1 (Dense)              (None, 10)                1290      \n",
            "=================================================================\n",
            "Total params: 159,146\n",
            "Trainable params: 159,082\n",
            "Non-trainable params: 64\n",
            "_________________________________________________________________\n"
          ],
          "name": "stdout"
        }
      ]
    },
    {
      "cell_type": "code",
      "metadata": {
        "id": "33y9S69XlrYh"
      },
      "source": [
        "model3.compile(optimizer='adam', loss='categorical_crossentropy', metrics=['accuracy'])"
      ],
      "execution_count": 14,
      "outputs": []
    },
    {
      "cell_type": "markdown",
      "metadata": {
        "id": "5JBUf_BCqq-5"
      },
      "source": [
        "損失(loss)の減り具合などを見ながら、繰り返し回数(epochs)を調整します。"
      ]
    },
    {
      "cell_type": "code",
      "metadata": {
        "colab": {
          "base_uri": "https://localhost:8080/"
        },
        "id": "3XNLVgm6lrYh",
        "outputId": "6dcfa072-6fb4-4b60-e069-36ea1819e0d9"
      },
      "source": [
        "model3.fit(X_train, y_train, epochs=15, batch_size=128)"
      ],
      "execution_count": 15,
      "outputs": [
        {
          "output_type": "stream",
          "text": [
            "Epoch 1/15\n",
            "391/391 [==============================] - 5s 5ms/step - loss: 1.6231 - accuracy: 0.4152\n",
            "Epoch 2/15\n",
            "391/391 [==============================] - 2s 5ms/step - loss: 1.2108 - accuracy: 0.5723\n",
            "Epoch 3/15\n",
            "391/391 [==============================] - 2s 5ms/step - loss: 1.0916 - accuracy: 0.6159\n",
            "Epoch 4/15\n",
            "391/391 [==============================] - 2s 4ms/step - loss: 1.0098 - accuracy: 0.6431\n",
            "Epoch 5/15\n",
            "391/391 [==============================] - 2s 5ms/step - loss: 0.9651 - accuracy: 0.6630\n",
            "Epoch 6/15\n",
            "391/391 [==============================] - 2s 4ms/step - loss: 0.9174 - accuracy: 0.6765\n",
            "Epoch 7/15\n",
            "391/391 [==============================] - 2s 4ms/step - loss: 0.8959 - accuracy: 0.6879\n",
            "Epoch 8/15\n",
            "391/391 [==============================] - 2s 4ms/step - loss: 0.8715 - accuracy: 0.6972\n",
            "Epoch 9/15\n",
            "391/391 [==============================] - 2s 4ms/step - loss: 0.8421 - accuracy: 0.7063\n",
            "Epoch 10/15\n",
            "391/391 [==============================] - 2s 4ms/step - loss: 0.8197 - accuracy: 0.7151\n",
            "Epoch 11/15\n",
            "391/391 [==============================] - 2s 4ms/step - loss: 0.8005 - accuracy: 0.7209\n",
            "Epoch 12/15\n",
            "391/391 [==============================] - 2s 4ms/step - loss: 0.7966 - accuracy: 0.7240\n",
            "Epoch 13/15\n",
            "391/391 [==============================] - 2s 4ms/step - loss: 0.7737 - accuracy: 0.7324\n",
            "Epoch 14/15\n",
            "391/391 [==============================] - 2s 4ms/step - loss: 0.7767 - accuracy: 0.7277\n",
            "Epoch 15/15\n",
            "391/391 [==============================] - 2s 4ms/step - loss: 0.7608 - accuracy: 0.7342\n"
          ],
          "name": "stdout"
        },
        {
          "output_type": "execute_result",
          "data": {
            "text/plain": [
              "<tensorflow.python.keras.callbacks.History at 0x7f5fe6053490>"
            ]
          },
          "metadata": {
            "tags": []
          },
          "execution_count": 15
        }
      ]
    },
    {
      "cell_type": "code",
      "metadata": {
        "colab": {
          "base_uri": "https://localhost:8080/"
        },
        "id": "oEaaJjSClrYi",
        "outputId": "cdf31792-4afa-4d66-faa4-060f48072482"
      },
      "source": [
        "test_loss, test_acc = model3.evaluate(X_test, y_test)\n",
        "print('Test accuracy:', test_acc)"
      ],
      "execution_count": 16,
      "outputs": [
        {
          "output_type": "stream",
          "text": [
            "313/313 [==============================] - 1s 2ms/step - loss: 1.0180 - accuracy: 0.6778\n",
            "Test accuracy: 0.6777999997138977\n"
          ],
          "name": "stdout"
        }
      ]
    },
    {
      "cell_type": "markdown",
      "metadata": {
        "id": "owc9pP32lrYi"
      },
      "source": [
        "## 課題1\n",
        "\n",
        "例題14.3の手順で、使用するデータをbreast_cancerに変更して半教師あり学習を行ってください。その際、以下の点に注意してください。\n",
        "\n",
        "* 学習時にエラーが出てしまう場合は、irisデータとbreast_cancerデータの両方のデータを見て、何が違うかを考えてみてください。\n",
        "* 低い性能しか出ないときは、LabelPropagationのハイパーパラメータ調整を試みてください。\n"
      ]
    },
    {
      "cell_type": "markdown",
      "metadata": {
        "id": "BoYNdQvdlrYi"
      },
      "source": [
        "## 課題2\n",
        "\n",
        "CNNを用いたCIFER10の識別において、データ拡張のパラメータや方法を変更して性能評価をしてください。"
      ]
    }
  ]
}