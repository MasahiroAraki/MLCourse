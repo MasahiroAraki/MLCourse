{
  "nbformat": 4,
  "nbformat_minor": 0,
  "metadata": {
    "kernelspec": {
      "name": "python3",
      "display_name": "Python 3"
    },
    "colab": {
      "name": "13a_sequence.ipynb",
      "provenance": [],
      "collapsed_sections": []
    },
    "language_info": {
      "name": "python"
    }
  },
  "cells": [
    {
      "cell_type": "markdown",
      "metadata": {
        "id": "m9eqLTgATnKv"
      },
      "source": [
        "<a href=\"https://colab.research.google.com/github/MasahiroAraki/MLCourse/blob/master/Python/answer/13a_sequence.ipynb\" target=\"_parent\"><img src=\"https://colab.research.google.com/assets/colab-badge.svg\" alt=\"Open In Colab\"/></a>"
      ]
    },
    {
      "cell_type": "markdown",
      "metadata": {
        "id": "jQMUXVoVq-Ia"
      },
      "source": [
        "## 課題\n",
        "\n",
        "効果の高そうな素性をいくつか当たりを付けて、その素性を削除した条件で実験を行うことで、素性の有効性を評価する実験を行ってください。"
      ]
    },
    {
      "cell_type": "markdown",
      "metadata": {
        "id": "xVRfi2ttRnGc"
      },
      "source": [
        "データセットをダウンロードします。このデータは、 GMB(Groningen Meaning Bank) コーパス（英文）に品詞タグと固有表現タグを付けたものです。"
      ]
    },
    {
      "cell_type": "code",
      "metadata": {
        "id": "20SOlMYSTiB0",
        "colab": {
          "base_uri": "https://localhost:8080/"
        },
        "outputId": "48249fb8-c838-4495-cd69-12a885b27e0b"
      },
      "source": [
        "import pandas as pd\n",
        "\n",
        "df = pd.read_csv('https://github.com/dipanjanS/nlp_workshop_dhs18/raw/master/Unit%2008%20-%20Project%206%20-%20Build%20your%20NER%20Tagger/ner_dataset.csv.gz', compression='gzip', encoding='ISO-8859-1')\n",
        "df.info()"
      ],
      "execution_count": 1,
      "outputs": [
        {
          "output_type": "stream",
          "text": [
            "<class 'pandas.core.frame.DataFrame'>\n",
            "RangeIndex: 1048575 entries, 0 to 1048574\n",
            "Data columns (total 4 columns):\n",
            " #   Column      Non-Null Count    Dtype \n",
            "---  ------      --------------    ----- \n",
            " 0   Sentence #  47959 non-null    object\n",
            " 1   Word        1048575 non-null  object\n",
            " 2   POS         1048575 non-null  object\n",
            " 3   Tag         1048575 non-null  object\n",
            "dtypes: object(4)\n",
            "memory usage: 32.0+ MB\n"
          ],
          "name": "stdout"
        }
      ]
    },
    {
      "cell_type": "markdown",
      "metadata": {
        "id": "l7ZvE70kSMkZ"
      },
      "source": [
        "文番号(sentence #) が文の先頭単語にしか付いていないので、同一文中の後続単語にも同じ番号を付与します。"
      ]
    },
    {
      "cell_type": "code",
      "metadata": {
        "id": "nHtZvIgdTiB9",
        "colab": {
          "base_uri": "https://localhost:8080/"
        },
        "outputId": "18d94417-ae30-432d-b597-7b51260eec64"
      },
      "source": [
        "df = df.fillna(method='ffill')\n",
        "df.info()"
      ],
      "execution_count": 2,
      "outputs": [
        {
          "output_type": "stream",
          "text": [
            "<class 'pandas.core.frame.DataFrame'>\n",
            "RangeIndex: 1048575 entries, 0 to 1048574\n",
            "Data columns (total 4 columns):\n",
            " #   Column      Non-Null Count    Dtype \n",
            "---  ------      --------------    ----- \n",
            " 0   Sentence #  1048575 non-null  object\n",
            " 1   Word        1048575 non-null  object\n",
            " 2   POS         1048575 non-null  object\n",
            " 3   Tag         1048575 non-null  object\n",
            "dtypes: object(4)\n",
            "memory usage: 32.0+ MB\n"
          ],
          "name": "stdout"
        }
      ]
    },
    {
      "cell_type": "markdown",
      "metadata": {
        "id": "G3joYxUObdig"
      },
      "source": [
        "文中から素性値を求めるメソッドを定義します。素性値は以下のもので、先頭単語と末尾単語のみ前後の単語に関する処理が異なります。\n",
        "\n",
        "* 小文字に変換した単語の見出し表記\n",
        "* 単語の末尾3文字\n",
        "* 単語の末尾2文字\n",
        "* すべて大文字、先頭文字のみ大文字、数値、品詞の情報"
      ]
    },
    {
      "cell_type": "code",
      "metadata": {
        "id": "0a8sFLVuTiCR"
      },
      "source": [
        "def word2features(sent, i):\n",
        "    word = sent[i][0]\n",
        "    postag = sent[i][1]\n",
        "\n",
        "    features = {\n",
        "        'bias': 1.0,\n",
        "        'word.lower()': word.lower(),\n",
        "        'word[-3:]': word[-3:],\n",
        "        'word[-2:]': word[-2:],\n",
        "        'word.isupper()': word.isupper(),\n",
        "        'word.istitle()': word.istitle(),\n",
        "        'word.isdigit()': word.isdigit(),\n",
        "        'postag': postag,\n",
        "        'postag[:2]': postag[:2],\n",
        "    }\n",
        "    if i > 0:\n",
        "        word1 = sent[i-1][0]\n",
        "        postag1 = sent[i-1][1]\n",
        "        features.update({\n",
        "            '-1:word.lower()': word1.lower(),\n",
        "            '-1:word.istitle()': word1.istitle(),\n",
        "            '-1:word.isupper()': word1.isupper(),\n",
        "            '-1:postag': postag1,\n",
        "            '-1:postag[:2]': postag1[:2],\n",
        "            'BOS' : False,\n",
        "        })\n",
        "    else:\n",
        "        features['BOS'] = True\n",
        "\n",
        "    if i < len(sent)-1:\n",
        "        word1 = sent[i+1][0]\n",
        "        postag1 = sent[i+1][1]\n",
        "        features.update({\n",
        "            '+1:word.lower()': word1.lower(),\n",
        "            '+1:word.istitle()': word1.istitle(),\n",
        "            '+1:word.isupper()': word1.isupper(),\n",
        "            '+1:postag': postag1,\n",
        "            '+1:postag[:2]': postag1[:2],\n",
        "            'EOS' : False\n",
        "        })\n",
        "    else:\n",
        "        features['EOS'] = True\n",
        "\n",
        "    return features\n",
        "\n",
        "\n",
        "def sent2features(sent):\n",
        "    return [word2features(sent, i) for i in range(len(sent))]\n",
        "\n",
        "def sent2labels(sent):\n",
        "    return [label for token, postag, label in sent]"
      ],
      "execution_count": 3,
      "outputs": []
    },
    {
      "cell_type": "markdown",
      "metadata": {
        "id": "mdvlZtXTlWdp"
      },
      "source": [
        "(単語, 品詞, NEタグ) のタプルのリストからなる文のリスト (sentences) を作成します。"
      ]
    },
    {
      "cell_type": "code",
      "metadata": {
        "id": "EEz01_S8TiCV"
      },
      "source": [
        "agg_func = lambda s: [(w, p, t) for w, p, t in zip(s['Word'].values.tolist(), \n",
        "                                                   s['POS'].values.tolist(), \n",
        "                                                   s['Tag'].values.tolist())]"
      ],
      "execution_count": 4,
      "outputs": []
    },
    {
      "cell_type": "code",
      "metadata": {
        "id": "ui1owUAVTiCa"
      },
      "source": [
        "grouped_df = df.groupby('Sentence #').apply(agg_func)"
      ],
      "execution_count": 5,
      "outputs": []
    },
    {
      "cell_type": "code",
      "metadata": {
        "id": "bCZC4fFbTiCd",
        "colab": {
          "base_uri": "https://localhost:8080/"
        },
        "outputId": "ccf3573d-88f5-4002-b788-91e701626b40"
      },
      "source": [
        "print(grouped_df[grouped_df.index == 'Sentence: 1'].values)"
      ],
      "execution_count": 6,
      "outputs": [
        {
          "output_type": "stream",
          "text": [
            "[list([('Thousands', 'NNS', 'O'), ('of', 'IN', 'O'), ('demonstrators', 'NNS', 'O'), ('have', 'VBP', 'O'), ('marched', 'VBN', 'O'), ('through', 'IN', 'O'), ('London', 'NNP', 'B-geo'), ('to', 'TO', 'O'), ('protest', 'VB', 'O'), ('the', 'DT', 'O'), ('war', 'NN', 'O'), ('in', 'IN', 'O'), ('Iraq', 'NNP', 'B-geo'), ('and', 'CC', 'O'), ('demand', 'VB', 'O'), ('the', 'DT', 'O'), ('withdrawal', 'NN', 'O'), ('of', 'IN', 'O'), ('British', 'JJ', 'B-gpe'), ('troops', 'NNS', 'O'), ('from', 'IN', 'O'), ('that', 'DT', 'O'), ('country', 'NN', 'O'), ('.', '.', 'O')])]\n"
          ],
          "name": "stdout"
        }
      ]
    },
    {
      "cell_type": "code",
      "metadata": {
        "id": "F0wUFmfmTiCg",
        "colab": {
          "base_uri": "https://localhost:8080/"
        },
        "outputId": "0f3bb6e9-ea52-4989-9243-91fa14453fd6"
      },
      "source": [
        "grouped_df.shape"
      ],
      "execution_count": 7,
      "outputs": [
        {
          "output_type": "execute_result",
          "data": {
            "text/plain": [
              "(47959,)"
            ]
          },
          "metadata": {
            "tags": []
          },
          "execution_count": 7
        }
      ]
    },
    {
      "cell_type": "code",
      "metadata": {
        "id": "dDlJKsDUTiCm",
        "colab": {
          "base_uri": "https://localhost:8080/"
        },
        "outputId": "049422b3-3590-4413-80da-304db5c424da"
      },
      "source": [
        "sentences = [s for s in grouped_df]\n",
        "sentences[0]"
      ],
      "execution_count": 8,
      "outputs": [
        {
          "output_type": "execute_result",
          "data": {
            "text/plain": [
              "[('Thousands', 'NNS', 'O'),\n",
              " ('of', 'IN', 'O'),\n",
              " ('demonstrators', 'NNS', 'O'),\n",
              " ('have', 'VBP', 'O'),\n",
              " ('marched', 'VBN', 'O'),\n",
              " ('through', 'IN', 'O'),\n",
              " ('London', 'NNP', 'B-geo'),\n",
              " ('to', 'TO', 'O'),\n",
              " ('protest', 'VB', 'O'),\n",
              " ('the', 'DT', 'O'),\n",
              " ('war', 'NN', 'O'),\n",
              " ('in', 'IN', 'O'),\n",
              " ('Iraq', 'NNP', 'B-geo'),\n",
              " ('and', 'CC', 'O'),\n",
              " ('demand', 'VB', 'O'),\n",
              " ('the', 'DT', 'O'),\n",
              " ('withdrawal', 'NN', 'O'),\n",
              " ('of', 'IN', 'O'),\n",
              " ('British', 'JJ', 'B-gpe'),\n",
              " ('troops', 'NNS', 'O'),\n",
              " ('from', 'IN', 'O'),\n",
              " ('that', 'DT', 'O'),\n",
              " ('country', 'NN', 'O'),\n",
              " ('.', '.', 'O')]"
            ]
          },
          "metadata": {
            "tags": []
          },
          "execution_count": 8
        }
      ]
    },
    {
      "cell_type": "markdown",
      "metadata": {
        "id": "5oTsgWN4logQ"
      },
      "source": [
        "文の一部を取り出して、素性値の計算がうまく行われているか確認します。一部を取り出しているので、文頭・文末を表すBOS, EOSの値は本来の値とは異なります。"
      ]
    },
    {
      "cell_type": "code",
      "metadata": {
        "id": "Bgo0w5ThTiCq",
        "colab": {
          "base_uri": "https://localhost:8080/"
        },
        "outputId": "2ceb6884-69d1-43b5-e546-78c086e217e7"
      },
      "source": [
        "sent2features(sentences[0][5:7])"
      ],
      "execution_count": 9,
      "outputs": [
        {
          "output_type": "execute_result",
          "data": {
            "text/plain": [
              "[{'+1:postag': 'NNP',\n",
              "  '+1:postag[:2]': 'NN',\n",
              "  '+1:word.istitle()': True,\n",
              "  '+1:word.isupper()': False,\n",
              "  '+1:word.lower()': 'london',\n",
              "  'BOS': True,\n",
              "  'EOS': False,\n",
              "  'bias': 1.0,\n",
              "  'postag': 'IN',\n",
              "  'postag[:2]': 'IN',\n",
              "  'word.isdigit()': False,\n",
              "  'word.istitle()': False,\n",
              "  'word.isupper()': False,\n",
              "  'word.lower()': 'through',\n",
              "  'word[-2:]': 'gh',\n",
              "  'word[-3:]': 'ugh'},\n",
              " {'-1:postag': 'IN',\n",
              "  '-1:postag[:2]': 'IN',\n",
              "  '-1:word.istitle()': False,\n",
              "  '-1:word.isupper()': False,\n",
              "  '-1:word.lower()': 'through',\n",
              "  'BOS': False,\n",
              "  'EOS': True,\n",
              "  'bias': 1.0,\n",
              "  'postag': 'NNP',\n",
              "  'postag[:2]': 'NN',\n",
              "  'word.isdigit()': False,\n",
              "  'word.istitle()': True,\n",
              "  'word.isupper()': False,\n",
              "  'word.lower()': 'london',\n",
              "  'word[-2:]': 'on',\n",
              "  'word[-3:]': 'don'}]"
            ]
          },
          "metadata": {
            "tags": []
          },
          "execution_count": 9
        }
      ]
    },
    {
      "cell_type": "markdown",
      "metadata": {
        "id": "08hbOg30mJdq"
      },
      "source": [
        "正解ラベルを確認します。"
      ]
    },
    {
      "cell_type": "code",
      "metadata": {
        "id": "r3Cy6Fd3TiCt",
        "colab": {
          "base_uri": "https://localhost:8080/"
        },
        "outputId": "0d1c788c-03c8-4d39-a758-ce7139679df0"
      },
      "source": [
        "sent2labels(sentences[0][5:7])"
      ],
      "execution_count": 10,
      "outputs": [
        {
          "output_type": "execute_result",
          "data": {
            "text/plain": [
              "['O', 'B-geo']"
            ]
          },
          "metadata": {
            "tags": []
          },
          "execution_count": 10
        }
      ]
    },
    {
      "cell_type": "markdown",
      "metadata": {
        "id": "adx04n43TiCv"
      },
      "source": [
        "データセットを学習用と評価用に分割します。"
      ]
    },
    {
      "cell_type": "code",
      "metadata": {
        "id": "Jpp1oPhGTiCv",
        "colab": {
          "base_uri": "https://localhost:8080/"
        },
        "outputId": "28a3d1e7-a9d3-4ba3-ba54-82a28385c347"
      },
      "source": [
        "from sklearn.model_selection import train_test_split\n",
        "import numpy as np\n",
        "\n",
        "X = np.array([sent2features(s) for s in sentences], dtype=object)\n",
        "y = np.array([sent2labels(s) for s in sentences], dtype=object)\n",
        "\n",
        "X_train, X_test, y_train, y_test = train_test_split(X, y, test_size=0.25, random_state=42)\n",
        "X_train.shape, X_test.shape"
      ],
      "execution_count": 11,
      "outputs": [
        {
          "output_type": "execute_result",
          "data": {
            "text/plain": [
              "((35969,), (11990,))"
            ]
          },
          "metadata": {
            "tags": []
          },
          "execution_count": 11
        }
      ]
    },
    {
      "cell_type": "markdown",
      "metadata": {
        "id": "B56GXmxsTiC1"
      },
      "source": [
        "[CRFsuite (python-crfsuite)](https://github.com/scrapinghub/python-crfsuite) を用いて学習します。"
      ]
    },
    {
      "cell_type": "code",
      "metadata": {
        "id": "qlgimPwTTiC4",
        "colab": {
          "base_uri": "https://localhost:8080/"
        },
        "outputId": "8d3181bc-7ea2-4bec-8ab4-e9d046798e89"
      },
      "source": [
        "!pip install sklearn-crfsuite"
      ],
      "execution_count": 12,
      "outputs": [
        {
          "output_type": "stream",
          "text": [
            "Requirement already satisfied: sklearn-crfsuite in /usr/local/lib/python3.7/dist-packages (0.3.6)\n",
            "Requirement already satisfied: six in /usr/local/lib/python3.7/dist-packages (from sklearn-crfsuite) (1.15.0)\n",
            "Requirement already satisfied: python-crfsuite>=0.8.3 in /usr/local/lib/python3.7/dist-packages (from sklearn-crfsuite) (0.9.7)\n",
            "Requirement already satisfied: tqdm>=2.0 in /usr/local/lib/python3.7/dist-packages (from sklearn-crfsuite) (4.41.1)\n",
            "Requirement already satisfied: tabulate in /usr/local/lib/python3.7/dist-packages (from sklearn-crfsuite) (0.8.9)\n"
          ],
          "name": "stdout"
        }
      ]
    },
    {
      "cell_type": "markdown",
      "metadata": {
        "id": "2oYdt58KnOSK"
      },
      "source": [
        "CRFのインスタンスを作成します。ハイパーパラメータの意味を以下に示します。\n",
        "\n",
        "* algorithim: 最適化アルゴリズムの指定\n",
        "* c1 : L1正則化項の重み\n",
        "* c2 : L2正則化項の重み\n",
        "* max_iterations: 繰り返し回数の上限\n",
        "* all_possible_transitions : 学習データに出現しないラベルの遷移も素性とする\n",
        "* verbose : 学習過程の詳細な情報を出力\n"
      ]
    },
    {
      "cell_type": "code",
      "metadata": {
        "id": "YUMlk4QFTiDA"
      },
      "source": [
        "import sklearn_crfsuite\n",
        "\n",
        "crf = sklearn_crfsuite.CRF(algorithm='lbfgs',\n",
        "                           c1=0.1,\n",
        "                           c2=0.1,\n",
        "                           max_iterations=50,\n",
        "                           all_possible_transitions=True,\n",
        "                           verbose=True)"
      ],
      "execution_count": 13,
      "outputs": []
    },
    {
      "cell_type": "code",
      "metadata": {
        "scrolled": true,
        "id": "hXTph2l8TiDH",
        "colab": {
          "base_uri": "https://localhost:8080/"
        },
        "outputId": "28f3b128-56b9-4ff6-e1a9-c8ffd77ca58a"
      },
      "source": [
        "crf.fit(X_train, y_train)"
      ],
      "execution_count": 14,
      "outputs": [
        {
          "output_type": "stream",
          "text": [
            "loading training data to CRFsuite: 100%|██████████| 35969/35969 [00:11<00:00, 3004.01it/s]\n"
          ],
          "name": "stderr"
        },
        {
          "output_type": "stream",
          "text": [
            "\n",
            "Feature generation\n",
            "type: CRF1d\n",
            "feature.minfreq: 0.000000\n",
            "feature.possible_states: 0\n",
            "feature.possible_transitions: 1\n",
            "0....1....2....3....4....5....6....7....8....9....10\n",
            "Number of features: 133645\n",
            "Seconds required: 2.122\n",
            "\n",
            "L-BFGS optimization\n",
            "c1: 0.100000\n",
            "c2: 0.100000\n",
            "num_memories: 6\n",
            "max_iterations: 50\n",
            "epsilon: 0.000010\n",
            "stop: 10\n",
            "delta: 0.000010\n",
            "linesearch: MoreThuente\n",
            "linesearch.max_iterations: 20\n",
            "\n",
            "Iter 1   time=3.81  loss=1263996.98 active=132653 feature_norm=1.00\n",
            "Iter 2   time=3.96  loss=994013.75 active=131310 feature_norm=4.42\n",
            "Iter 3   time=1.99  loss=776364.07 active=125987 feature_norm=3.87\n",
            "Iter 4   time=9.85  loss=421961.16 active=127027 feature_norm=3.24\n",
            "Iter 5   time=2.00  loss=354425.51 active=129045 feature_norm=4.04\n",
            "Iter 6   time=2.00  loss=260017.69 active=122707 feature_norm=6.18\n",
            "Iter 7   time=2.00  loss=219836.67 active=115755 feature_norm=7.98\n",
            "Iter 8   time=1.99  loss=196203.95 active=110953 feature_norm=8.86\n",
            "Iter 9   time=2.00  loss=177983.48 active=106540 feature_norm=10.22\n",
            "Iter 10  time=1.97  loss=159716.67 active=102765 feature_norm=11.88\n",
            "Iter 11  time=2.01  loss=147410.63 active=101230 feature_norm=13.17\n",
            "Iter 12  time=1.99  loss=139159.86 active=100097 feature_norm=14.20\n",
            "Iter 13  time=2.00  loss=128009.09 active=95826 feature_norm=17.09\n",
            "Iter 14  time=2.00  loss=116836.68 active=94912 feature_norm=18.35\n",
            "Iter 15  time=1.98  loss=109458.24 active=93047 feature_norm=20.44\n",
            "Iter 16  time=1.99  loss=104553.72 active=91726 feature_norm=22.35\n",
            "Iter 17  time=1.99  loss=99672.55 active=90893 feature_norm=24.22\n",
            "Iter 18  time=2.01  loss=94965.86 active=90032 feature_norm=26.33\n",
            "Iter 19  time=2.01  loss=87964.23 active=87334 feature_norm=30.97\n",
            "Iter 20  time=2.00  loss=82534.81 active=86869 feature_norm=35.92\n",
            "Iter 21  time=2.00  loss=78466.74 active=86706 feature_norm=39.07\n",
            "Iter 22  time=1.98  loss=74354.21 active=85261 feature_norm=44.21\n",
            "Iter 23  time=1.96  loss=70888.87 active=84840 feature_norm=46.81\n",
            "Iter 24  time=2.01  loss=67951.44 active=83924 feature_norm=50.54\n",
            "Iter 25  time=1.98  loss=64059.22 active=82223 feature_norm=57.45\n",
            "Iter 26  time=1.98  loss=62254.99 active=81281 feature_norm=64.41\n",
            "Iter 27  time=1.98  loss=59559.88 active=81539 feature_norm=66.15\n",
            "Iter 28  time=1.99  loss=58040.78 active=81209 feature_norm=68.79\n",
            "Iter 29  time=1.97  loss=55491.04 active=80074 feature_norm=74.58\n",
            "Iter 30  time=1.97  loss=53454.84 active=79699 feature_norm=80.08\n",
            "Iter 31  time=2.00  loss=51628.64 active=79687 feature_norm=83.96\n",
            "Iter 32  time=1.98  loss=49830.30 active=78886 feature_norm=89.46\n",
            "Iter 33  time=1.98  loss=47970.60 active=77823 feature_norm=97.18\n",
            "Iter 34  time=1.99  loss=46489.84 active=76469 feature_norm=103.51\n",
            "Iter 35  time=2.00  loss=44888.17 active=76242 feature_norm=110.62\n",
            "Iter 36  time=1.96  loss=43195.77 active=75223 feature_norm=120.46\n",
            "Iter 37  time=2.02  loss=41791.67 active=73883 feature_norm=131.62\n",
            "Iter 38  time=2.01  loss=40489.91 active=73540 feature_norm=139.62\n",
            "Iter 39  time=1.99  loss=39378.42 active=73197 feature_norm=148.07\n",
            "Iter 40  time=1.99  loss=38719.61 active=71284 feature_norm=171.66\n",
            "Iter 41  time=1.99  loss=37542.96 active=71901 feature_norm=173.23\n",
            "Iter 42  time=1.98  loss=37364.10 active=71990 feature_norm=174.29\n",
            "Iter 43  time=1.98  loss=36862.19 active=71621 feature_norm=178.48\n",
            "Iter 44  time=1.99  loss=36426.44 active=70833 feature_norm=190.17\n",
            "Iter 45  time=1.98  loss=35844.03 active=70965 feature_norm=191.47\n",
            "Iter 46  time=1.98  loss=35673.48 active=70953 feature_norm=192.47\n",
            "Iter 47  time=1.98  loss=35170.23 active=68816 feature_norm=199.29\n",
            "Iter 48  time=1.97  loss=35025.42 active=69134 feature_norm=197.57\n",
            "Iter 49  time=1.98  loss=34917.53 active=69273 feature_norm=197.44\n",
            "Iter 50  time=1.97  loss=34853.16 active=68991 feature_norm=197.51\n",
            "L-BFGS terminated with the maximum number of iterations\n",
            "Total seconds required for training: 111.058\n",
            "\n",
            "Storing the model\n",
            "Number of active features: 68991 (133645)\n",
            "Number of active attributes: 34830 (90250)\n",
            "Number of active labels: 17 (17)\n",
            "Writing labels\n",
            "Writing attributes\n",
            "Writing feature references for transitions\n",
            "Writing feature references for attributes\n",
            "Seconds required: 0.039\n",
            "\n"
          ],
          "name": "stdout"
        },
        {
          "output_type": "stream",
          "text": [
            "/usr/local/lib/python3.7/dist-packages/sklearn/base.py:197: FutureWarning: From version 0.24, get_params will raise an AttributeError if a parameter cannot be retrieved as an instance attribute. Previously it would return None.\n",
            "  FutureWarning)\n"
          ],
          "name": "stderr"
        },
        {
          "output_type": "execute_result",
          "data": {
            "text/plain": [
              "CRF(algorithm='lbfgs', all_possible_states=None, all_possible_transitions=True,\n",
              "    averaging=None, c=None, c1=0.1, c2=0.1, calibration_candidates=None,\n",
              "    calibration_eta=None, calibration_max_trials=None, calibration_rate=None,\n",
              "    calibration_samples=None, delta=None, epsilon=None, error_sensitive=None,\n",
              "    gamma=None, keep_tempfiles=None, linesearch=None, max_iterations=50,\n",
              "    max_linesearch=None, min_freq=None, model_filename=None, num_memories=None,\n",
              "    pa_type=None, period=None, trainer_cls=None, variance=None, verbose=True)"
            ]
          },
          "metadata": {
            "tags": []
          },
          "execution_count": 14
        }
      ]
    },
    {
      "cell_type": "markdown",
      "metadata": {
        "id": "dhjilYi9ogu5"
      },
      "source": [
        "O以外のタグで性能評価を行います。\n"
      ]
    },
    {
      "cell_type": "code",
      "metadata": {
        "id": "EYQ1NgLhvca8"
      },
      "source": [
        "y_pred = crf.predict(X_test)"
      ],
      "execution_count": 15,
      "outputs": []
    },
    {
      "cell_type": "code",
      "metadata": {
        "id": "f7lIbMwpTiDs",
        "colab": {
          "base_uri": "https://localhost:8080/"
        },
        "outputId": "ca3097fe-6fa7-4d83-82e3-86a787dcaf14"
      },
      "source": [
        "from sklearn_crfsuite import metrics as crf_metrics\n",
        "\n",
        "labels = list(crf.classes_)\n",
        "labels.remove('O')\n",
        "print(crf_metrics.flat_classification_report(y_test, y_pred, labels=labels))"
      ],
      "execution_count": 16,
      "outputs": [
        {
          "output_type": "stream",
          "text": [
            "              precision    recall  f1-score   support\n",
            "\n",
            "       B-org       0.81      0.73      0.77      5116\n",
            "       B-per       0.85      0.83      0.84      4239\n",
            "       I-per       0.86      0.90      0.88      4273\n",
            "       B-geo       0.86      0.92      0.89      9403\n",
            "       I-geo       0.82      0.80      0.81      1826\n",
            "       B-tim       0.93      0.88      0.91      5095\n",
            "       I-org       0.81      0.80      0.80      4195\n",
            "       B-gpe       0.98      0.94      0.96      3961\n",
            "       I-tim       0.84      0.80      0.82      1604\n",
            "       B-nat       0.67      0.25      0.37        55\n",
            "       B-eve       0.48      0.33      0.39        80\n",
            "       B-art       0.31      0.11      0.16       102\n",
            "       I-art       0.10      0.02      0.04        90\n",
            "       I-eve       0.40      0.19      0.26        74\n",
            "       I-gpe       0.95      0.50      0.65        36\n",
            "       I-nat       1.00      0.22      0.36        18\n",
            "\n",
            "   micro avg       0.86      0.85      0.86     40167\n",
            "   macro avg       0.73      0.58      0.62     40167\n",
            "weighted avg       0.86      0.85      0.85     40167\n",
            "\n"
          ],
          "name": "stdout"
        }
      ]
    },
    {
      "cell_type": "markdown",
      "metadata": {
        "id": "0g1MNOboomqs"
      },
      "source": [
        "単語表記と文区切り以外の情報を削除して性能の変化を見ます。"
      ]
    },
    {
      "cell_type": "code",
      "metadata": {
        "id": "vwGJtBumtI-f"
      },
      "source": [
        "def word2features(sent, i):\n",
        "    word = sent[i][0]\n",
        "    postag = sent[i][1]\n",
        "\n",
        "    features = {\n",
        "        'bias': 1.0,\n",
        "        'word.lower()': word.lower(),\n",
        "        #'word[-3:]': word[-3:],\n",
        "        #'word[-2:]': word[-2:],\n",
        "        #'word.isupper()': word.isupper(),\n",
        "        #'word.istitle()': word.istitle(),\n",
        "        #'word.isdigit()': word.isdigit(),\n",
        "        #'postag': postag,\n",
        "        #'postag[:2]': postag[:2],\n",
        "    }\n",
        "    if i > 0:\n",
        "        word1 = sent[i-1][0]\n",
        "        postag1 = sent[i-1][1]\n",
        "        features.update({\n",
        "            '-1:word.lower()': word1.lower(),\n",
        "            #'-1:word.istitle()': word1.istitle(),\n",
        "            #'-1:word.isupper()': word1.isupper(),\n",
        "            #'-1:postag': postag1,\n",
        "            #'-1:postag[:2]': postag1[:2],\n",
        "            'BOS' : False,\n",
        "        })\n",
        "    else:\n",
        "        features['BOS'] = True\n",
        "\n",
        "    if i < len(sent)-1:\n",
        "        word1 = sent[i+1][0]\n",
        "        postag1 = sent[i+1][1]\n",
        "        features.update({\n",
        "            '+1:word.lower()': word1.lower(),\n",
        "            #'+1:word.istitle()': word1.istitle(),\n",
        "            #'+1:word.isupper()': word1.isupper(),\n",
        "            #'+1:postag': postag1,\n",
        "            #'+1:postag[:2]': postag1[:2],\n",
        "            'EOS' : False\n",
        "        })\n",
        "    else:\n",
        "        features['EOS'] = True\n",
        "\n",
        "    return features\n",
        "\n",
        "\n",
        "def sent2features(sent):\n",
        "    return [word2features(sent, i) for i in range(len(sent))]\n",
        "\n",
        "def sent2labels(sent):\n",
        "    return [label for token, postag, label in sent]"
      ],
      "execution_count": 17,
      "outputs": []
    },
    {
      "cell_type": "markdown",
      "metadata": {
        "id": "VENIOOsytuy9"
      },
      "source": [
        "データにはPOS情報が含まれていますが、素性テンプレートで除外しています。"
      ]
    },
    {
      "cell_type": "code",
      "metadata": {
        "id": "HPGQJKV-tWlI"
      },
      "source": [
        "agg_func = lambda s: [(w, p, t) for w, p, t in zip(s['Word'].values.tolist(), \n",
        "                                                   s['POS'].values.tolist(), \n",
        "                                                   s['Tag'].values.tolist())]\n",
        "grouped_df = df.groupby('Sentence #').apply(agg_func)\n",
        "sentences = [s for s in grouped_df]"
      ],
      "execution_count": 18,
      "outputs": []
    },
    {
      "cell_type": "code",
      "metadata": {
        "colab": {
          "base_uri": "https://localhost:8080/"
        },
        "id": "1VIo2_rDuASe",
        "outputId": "ff440466-2188-4f75-c46b-545ed507d800"
      },
      "source": [
        "X = np.array([sent2features(s) for s in sentences], dtype=object)\n",
        "y = np.array([sent2labels(s) for s in sentences], dtype=object)\n",
        "\n",
        "X_train, X_test, y_train, y_test = train_test_split(X, y, test_size=0.25, random_state=42)\n",
        "X_train.shape, X_test.shape"
      ],
      "execution_count": 19,
      "outputs": [
        {
          "output_type": "execute_result",
          "data": {
            "text/plain": [
              "((35969,), (11990,))"
            ]
          },
          "metadata": {
            "tags": []
          },
          "execution_count": 19
        }
      ]
    },
    {
      "cell_type": "code",
      "metadata": {
        "id": "ibZ9F6fOuAPZ"
      },
      "source": [
        "crf2 = sklearn_crfsuite.CRF(algorithm='lbfgs',\n",
        "                           c1=0.1,\n",
        "                           c2=0.1,\n",
        "                           max_iterations=50,\n",
        "                           all_possible_transitions=True,\n",
        "                           verbose=True)"
      ],
      "execution_count": 20,
      "outputs": []
    },
    {
      "cell_type": "code",
      "metadata": {
        "colab": {
          "base_uri": "https://localhost:8080/"
        },
        "id": "m67-kWM3uAU-",
        "outputId": "ebab2956-5bca-423e-d0b2-41d1ae79d2e1"
      },
      "source": [
        "crf2.fit(X_train, y_train)"
      ],
      "execution_count": 21,
      "outputs": [
        {
          "output_type": "stream",
          "text": [
            "loading training data to CRFsuite: 100%|██████████| 35969/35969 [00:04<00:00, 8103.66it/s]\n"
          ],
          "name": "stderr"
        },
        {
          "output_type": "stream",
          "text": [
            "\n",
            "Feature generation\n",
            "type: CRF1d\n",
            "feature.minfreq: 0.000000\n",
            "feature.possible_states: 0\n",
            "feature.possible_transitions: 1\n",
            "0....1....2....3....4....5....6....7....8....9....10\n",
            "Number of features: 116001\n",
            "Seconds required: 0.845\n",
            "\n",
            "L-BFGS optimization\n",
            "c1: 0.100000\n",
            "c2: 0.100000\n",
            "num_memories: 6\n",
            "max_iterations: 50\n",
            "epsilon: 0.000010\n",
            "stop: 10\n",
            "delta: 0.000010\n",
            "linesearch: MoreThuente\n",
            "linesearch.max_iterations: 20\n",
            "\n",
            "Iter 1   time=2.45  loss=1396483.27 active=115148 feature_norm=1.00\n",
            "Iter 2   time=3.87  loss=1006822.14 active=114704 feature_norm=4.52\n",
            "Iter 3   time=1.29  loss=818328.93 active=109168 feature_norm=3.74\n",
            "Iter 4   time=5.14  loss=764373.37 active=109525 feature_norm=2.33\n",
            "Iter 5   time=1.31  loss=651847.75 active=115944 feature_norm=3.32\n",
            "Iter 6   time=1.30  loss=594746.56 active=115882 feature_norm=3.18\n",
            "Iter 7   time=1.31  loss=582570.11 active=109226 feature_norm=3.34\n",
            "Iter 8   time=1.29  loss=562759.36 active=112466 feature_norm=3.46\n",
            "Iter 9   time=1.31  loss=553197.63 active=114551 feature_norm=3.71\n",
            "Iter 10  time=1.33  loss=502175.29 active=115028 feature_norm=5.59\n",
            "Iter 11  time=1.29  loss=435245.01 active=114892 feature_norm=9.51\n",
            "Iter 12  time=1.32  loss=389049.87 active=112744 feature_norm=13.57\n",
            "Iter 13  time=1.31  loss=372553.15 active=112517 feature_norm=15.75\n",
            "Iter 14  time=1.30  loss=357413.83 active=112465 feature_norm=16.02\n",
            "Iter 15  time=1.30  loss=340073.04 active=112368 feature_norm=18.05\n",
            "Iter 16  time=1.32  loss=324174.02 active=111762 feature_norm=21.86\n",
            "Iter 17  time=1.29  loss=307392.85 active=111423 feature_norm=23.29\n",
            "Iter 18  time=1.29  loss=288852.19 active=109678 feature_norm=27.23\n",
            "Iter 19  time=1.30  loss=263457.15 active=109228 feature_norm=32.46\n",
            "Iter 20  time=1.34  loss=245636.34 active=107498 feature_norm=39.96\n",
            "Iter 21  time=1.31  loss=237888.36 active=107848 feature_norm=39.80\n",
            "Iter 22  time=1.30  loss=229697.58 active=107434 feature_norm=41.83\n",
            "Iter 23  time=1.32  loss=212030.52 active=105869 feature_norm=47.34\n",
            "Iter 24  time=1.29  loss=192955.57 active=103998 feature_norm=57.50\n",
            "Iter 25  time=1.31  loss=176810.93 active=102199 feature_norm=69.25\n",
            "Iter 26  time=1.31  loss=167611.78 active=101966 feature_norm=75.22\n",
            "Iter 27  time=1.32  loss=152710.45 active=100691 feature_norm=90.21\n",
            "Iter 28  time=1.30  loss=144363.67 active=100757 feature_norm=96.27\n",
            "Iter 29  time=1.30  loss=133256.12 active=99740 feature_norm=108.98\n",
            "Iter 30  time=1.31  loss=128904.82 active=98052 feature_norm=121.95\n",
            "Iter 31  time=1.30  loss=117644.86 active=98168 feature_norm=132.25\n",
            "Iter 32  time=1.31  loss=113155.28 active=97686 feature_norm=138.57\n",
            "Iter 33  time=1.30  loss=103017.32 active=95612 feature_norm=164.65\n",
            "Iter 34  time=2.62  loss=101028.07 active=95258 feature_norm=170.43\n",
            "Iter 35  time=1.29  loss=96638.81 active=95537 feature_norm=176.46\n",
            "Iter 36  time=1.29  loss=93317.76 active=94825 feature_norm=183.96\n",
            "Iter 37  time=1.31  loss=87435.79 active=92444 feature_norm=201.29\n",
            "Iter 38  time=1.29  loss=84129.78 active=91698 feature_norm=209.14\n",
            "Iter 39  time=1.30  loss=80239.74 active=90156 feature_norm=220.50\n",
            "Iter 40  time=2.58  loss=78339.96 active=88367 feature_norm=227.22\n",
            "Iter 41  time=1.30  loss=75589.92 active=87356 feature_norm=234.46\n",
            "Iter 42  time=1.30  loss=73343.17 active=85838 feature_norm=245.41\n",
            "Iter 43  time=1.31  loss=70430.02 active=84556 feature_norm=265.84\n",
            "Iter 44  time=2.60  loss=70196.30 active=83380 feature_norm=279.10\n",
            "Iter 45  time=1.29  loss=68138.16 active=83218 feature_norm=283.25\n",
            "Iter 46  time=1.32  loss=67363.68 active=83233 feature_norm=286.96\n",
            "Iter 47  time=1.31  loss=65604.02 active=79509 feature_norm=303.01\n",
            "Iter 48  time=5.19  loss=65356.06 active=79739 feature_norm=302.21\n",
            "Iter 49  time=1.33  loss=64789.21 active=79577 feature_norm=304.10\n",
            "Iter 50  time=1.30  loss=63754.12 active=79187 feature_norm=308.68\n",
            "L-BFGS terminated with the maximum number of iterations\n",
            "Total seconds required for training: 80.628\n",
            "\n",
            "Storing the model\n",
            "Number of active features: 79187 (116001)\n",
            "Number of active attributes: 51069 (84270)\n",
            "Number of active labels: 17 (17)\n",
            "Writing labels\n",
            "Writing attributes\n",
            "Writing feature references for transitions\n",
            "Writing feature references for attributes\n",
            "Seconds required: 0.047\n",
            "\n"
          ],
          "name": "stdout"
        },
        {
          "output_type": "stream",
          "text": [
            "/usr/local/lib/python3.7/dist-packages/sklearn/base.py:197: FutureWarning: From version 0.24, get_params will raise an AttributeError if a parameter cannot be retrieved as an instance attribute. Previously it would return None.\n",
            "  FutureWarning)\n"
          ],
          "name": "stderr"
        },
        {
          "output_type": "execute_result",
          "data": {
            "text/plain": [
              "CRF(algorithm='lbfgs', all_possible_states=None, all_possible_transitions=True,\n",
              "    averaging=None, c=None, c1=0.1, c2=0.1, calibration_candidates=None,\n",
              "    calibration_eta=None, calibration_max_trials=None, calibration_rate=None,\n",
              "    calibration_samples=None, delta=None, epsilon=None, error_sensitive=None,\n",
              "    gamma=None, keep_tempfiles=None, linesearch=None, max_iterations=50,\n",
              "    max_linesearch=None, min_freq=None, model_filename=None, num_memories=None,\n",
              "    pa_type=None, period=None, trainer_cls=None, variance=None, verbose=True)"
            ]
          },
          "metadata": {
            "tags": []
          },
          "execution_count": 21
        }
      ]
    },
    {
      "cell_type": "code",
      "metadata": {
        "colab": {
          "base_uri": "https://localhost:8080/"
        },
        "id": "iKUoGvNSuAYZ",
        "outputId": "9cb76600-7b14-49ea-e2d6-0ca61ebcccae"
      },
      "source": [
        "y_pred = crf2.predict(X_test)\n",
        "labels = list(crf2.classes_)\n",
        "labels.remove('O')\n",
        "print(crf_metrics.flat_classification_report(y_test, y_pred, labels=labels))"
      ],
      "execution_count": 22,
      "outputs": [
        {
          "output_type": "stream",
          "text": [
            "              precision    recall  f1-score   support\n",
            "\n",
            "       B-org       0.79      0.60      0.68      5116\n",
            "       B-per       0.85      0.73      0.79      4239\n",
            "       I-per       0.85      0.84      0.85      4273\n",
            "       B-geo       0.86      0.86      0.86      9403\n",
            "       I-geo       0.79      0.74      0.77      1826\n",
            "       B-tim       0.93      0.86      0.89      5095\n",
            "       I-org       0.70      0.62      0.66      4195\n",
            "       B-gpe       0.96      0.93      0.95      3961\n",
            "       I-tim       0.81      0.77      0.79      1604\n",
            "       B-nat       0.71      0.27      0.39        55\n",
            "       B-eve       0.64      0.38      0.47        80\n",
            "       B-art       0.36      0.09      0.14       102\n",
            "       I-art       0.16      0.04      0.07        90\n",
            "       I-eve       0.51      0.32      0.40        74\n",
            "       I-gpe       0.95      0.50      0.65        36\n",
            "       I-nat       0.75      0.17      0.27        18\n",
            "\n",
            "   micro avg       0.85      0.78      0.81     40167\n",
            "   macro avg       0.73      0.54      0.60     40167\n",
            "weighted avg       0.84      0.78      0.81     40167\n",
            "\n"
          ],
          "name": "stdout"
        }
      ]
    },
    {
      "cell_type": "markdown",
      "metadata": {
        "id": "6GfNGUNi1AuJ"
      },
      "source": [
        "それほど極端に性能は落ちていません。データが十分にあると、遷移素性と単語そのものの情報でそれなりの性能が実現できそうです。"
      ]
    }
  ]
}