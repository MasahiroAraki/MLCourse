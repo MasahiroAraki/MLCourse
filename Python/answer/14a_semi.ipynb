{
  "nbformat": 4,
  "nbformat_minor": 0,
  "metadata": {
    "colab": {
      "name": "14a_semi.ipynb",
      "provenance": [],
      "collapsed_sections": []
    },
    "kernelspec": {
      "name": "python3",
      "display_name": "Python 3"
    },
    "language_info": {
      "name": "python"
    },
    "accelerator": "GPU"
  },
  "cells": [
    {
      "cell_type": "markdown",
      "metadata": {
        "id": "p44aacv21F9_"
      },
      "source": [
        "<a href=\"https://colab.research.google.com/github/MasahiroAraki/MLCourse/blob/master/Python/answer/14a_semi.ipynb\" target=\"_parent\"><img src=\"https://colab.research.google.com/assets/colab-badge.svg\" alt=\"Open In Colab\"/></a>"
      ]
    },
    {
      "cell_type": "markdown",
      "metadata": {
        "id": "SOA2r_Tz1N7Y"
      },
      "source": [
        "# 第14章 半教師あり学習\n",
        "\n",
        "## 課題1\n",
        "\n",
        "使用するデータをbreast_cancerに変更して、同様の手順で半教師あり学習を行ってください。その際、以下の点に注意してください。\n",
        "\n",
        "* 学習時にエラーが出てしまう場合は、irisデータとbreast_cancerデータの両方のデータを見て、何が違うかを考えてみてください。\n",
        "* 低い性能しか出ないときは、LabelPropagationのハイパーパラメータ調整を試みてください。\n"
      ]
    },
    {
      "cell_type": "markdown",
      "metadata": {
        "id": "cMqLayXK1N7b"
      },
      "source": [
        "ライブラリの読み込み"
      ]
    },
    {
      "cell_type": "code",
      "metadata": {
        "id": "XTn3q7aL1ohD"
      },
      "source": [
        "import numpy as np\n",
        "from sklearn.datasets import load_breast_cancer\n",
        "from sklearn.semi_supervised import LabelPropagation\n",
        "from sklearn.preprocessing import normalize"
      ],
      "execution_count": 1,
      "outputs": []
    },
    {
      "cell_type": "code",
      "metadata": {
        "colab": {
          "base_uri": "https://localhost:8080/"
        },
        "id": "riU-VhSt1F-D",
        "outputId": "6389efcd-02a3-441a-eeac-13d446876903"
      },
      "source": [
        "bc = load_breast_cancer()\n",
        "X = bc.data\n",
        "y = bc.target\n",
        "print(bc.DESCR)"
      ],
      "execution_count": 2,
      "outputs": [
        {
          "output_type": "stream",
          "text": [
            ".. _breast_cancer_dataset:\n",
            "\n",
            "Breast cancer wisconsin (diagnostic) dataset\n",
            "--------------------------------------------\n",
            "\n",
            "**Data Set Characteristics:**\n",
            "\n",
            "    :Number of Instances: 569\n",
            "\n",
            "    :Number of Attributes: 30 numeric, predictive attributes and the class\n",
            "\n",
            "    :Attribute Information:\n",
            "        - radius (mean of distances from center to points on the perimeter)\n",
            "        - texture (standard deviation of gray-scale values)\n",
            "        - perimeter\n",
            "        - area\n",
            "        - smoothness (local variation in radius lengths)\n",
            "        - compactness (perimeter^2 / area - 1.0)\n",
            "        - concavity (severity of concave portions of the contour)\n",
            "        - concave points (number of concave portions of the contour)\n",
            "        - symmetry \n",
            "        - fractal dimension (\"coastline approximation\" - 1)\n",
            "\n",
            "        The mean, standard error, and \"worst\" or largest (mean of the three\n",
            "        largest values) of these features were computed for each image,\n",
            "        resulting in 30 features.  For instance, field 3 is Mean Radius, field\n",
            "        13 is Radius SE, field 23 is Worst Radius.\n",
            "\n",
            "        - class:\n",
            "                - WDBC-Malignant\n",
            "                - WDBC-Benign\n",
            "\n",
            "    :Summary Statistics:\n",
            "\n",
            "    ===================================== ====== ======\n",
            "                                           Min    Max\n",
            "    ===================================== ====== ======\n",
            "    radius (mean):                        6.981  28.11\n",
            "    texture (mean):                       9.71   39.28\n",
            "    perimeter (mean):                     43.79  188.5\n",
            "    area (mean):                          143.5  2501.0\n",
            "    smoothness (mean):                    0.053  0.163\n",
            "    compactness (mean):                   0.019  0.345\n",
            "    concavity (mean):                     0.0    0.427\n",
            "    concave points (mean):                0.0    0.201\n",
            "    symmetry (mean):                      0.106  0.304\n",
            "    fractal dimension (mean):             0.05   0.097\n",
            "    radius (standard error):              0.112  2.873\n",
            "    texture (standard error):             0.36   4.885\n",
            "    perimeter (standard error):           0.757  21.98\n",
            "    area (standard error):                6.802  542.2\n",
            "    smoothness (standard error):          0.002  0.031\n",
            "    compactness (standard error):         0.002  0.135\n",
            "    concavity (standard error):           0.0    0.396\n",
            "    concave points (standard error):      0.0    0.053\n",
            "    symmetry (standard error):            0.008  0.079\n",
            "    fractal dimension (standard error):   0.001  0.03\n",
            "    radius (worst):                       7.93   36.04\n",
            "    texture (worst):                      12.02  49.54\n",
            "    perimeter (worst):                    50.41  251.2\n",
            "    area (worst):                         185.2  4254.0\n",
            "    smoothness (worst):                   0.071  0.223\n",
            "    compactness (worst):                  0.027  1.058\n",
            "    concavity (worst):                    0.0    1.252\n",
            "    concave points (worst):               0.0    0.291\n",
            "    symmetry (worst):                     0.156  0.664\n",
            "    fractal dimension (worst):            0.055  0.208\n",
            "    ===================================== ====== ======\n",
            "\n",
            "    :Missing Attribute Values: None\n",
            "\n",
            "    :Class Distribution: 212 - Malignant, 357 - Benign\n",
            "\n",
            "    :Creator:  Dr. William H. Wolberg, W. Nick Street, Olvi L. Mangasarian\n",
            "\n",
            "    :Donor: Nick Street\n",
            "\n",
            "    :Date: November, 1995\n",
            "\n",
            "This is a copy of UCI ML Breast Cancer Wisconsin (Diagnostic) datasets.\n",
            "https://goo.gl/U2Uwz2\n",
            "\n",
            "Features are computed from a digitized image of a fine needle\n",
            "aspirate (FNA) of a breast mass.  They describe\n",
            "characteristics of the cell nuclei present in the image.\n",
            "\n",
            "Separating plane described above was obtained using\n",
            "Multisurface Method-Tree (MSM-T) [K. P. Bennett, \"Decision Tree\n",
            "Construction Via Linear Programming.\" Proceedings of the 4th\n",
            "Midwest Artificial Intelligence and Cognitive Science Society,\n",
            "pp. 97-101, 1992], a classification method which uses linear\n",
            "programming to construct a decision tree.  Relevant features\n",
            "were selected using an exhaustive search in the space of 1-4\n",
            "features and 1-3 separating planes.\n",
            "\n",
            "The actual linear program used to obtain the separating plane\n",
            "in the 3-dimensional space is that described in:\n",
            "[K. P. Bennett and O. L. Mangasarian: \"Robust Linear\n",
            "Programming Discrimination of Two Linearly Inseparable Sets\",\n",
            "Optimization Methods and Software 1, 1992, 23-34].\n",
            "\n",
            "This database is also available through the UW CS ftp server:\n",
            "\n",
            "ftp ftp.cs.wisc.edu\n",
            "cd math-prog/cpo-dataset/machine-learn/WDBC/\n",
            "\n",
            ".. topic:: References\n",
            "\n",
            "   - W.N. Street, W.H. Wolberg and O.L. Mangasarian. Nuclear feature extraction \n",
            "     for breast tumor diagnosis. IS&T/SPIE 1993 International Symposium on \n",
            "     Electronic Imaging: Science and Technology, volume 1905, pages 861-870,\n",
            "     San Jose, CA, 1993.\n",
            "   - O.L. Mangasarian, W.N. Street and W.H. Wolberg. Breast cancer diagnosis and \n",
            "     prognosis via linear programming. Operations Research, 43(4), pages 570-577, \n",
            "     July-August 1995.\n",
            "   - W.H. Wolberg, W.N. Street, and O.L. Mangasarian. Machine learning techniques\n",
            "     to diagnose breast cancer from fine-needle aspirates. Cancer Letters 77 (1994) \n",
            "     163-171.\n"
          ],
          "name": "stdout"
        }
      ]
    },
    {
      "cell_type": "markdown",
      "metadata": {
        "id": "ODfrChzG1F-E"
      },
      "source": [
        "breast_cancerデータは各次元の値の範囲が大きく異なるので、データの距離に基づくアルゴリズムを使う場合は標準化が必要です。"
      ]
    },
    {
      "cell_type": "code",
      "metadata": {
        "id": "Q4pbZY1o1F-E"
      },
      "source": [
        "X = normalize(X)\n",
        "unlabeled_points = np.random.choice(np.arange(y.size), int((y.size)*.7), replace=False)\n",
        "labels = np.copy(y)\n",
        "labels[unlabeled_points] = -1"
      ],
      "execution_count": 3,
      "outputs": []
    },
    {
      "cell_type": "code",
      "metadata": {
        "colab": {
          "base_uri": "https://localhost:8080/"
        },
        "id": "RU4C7rCV1F-F",
        "outputId": "d37fc32c-95ba-4c4c-d7af-33541e3cd72a"
      },
      "source": [
        "lp = LabelPropagation()\n",
        "lp.fit(X, labels)"
      ],
      "execution_count": 4,
      "outputs": [
        {
          "output_type": "execute_result",
          "data": {
            "text/plain": [
              "LabelPropagation(gamma=20, kernel='rbf', max_iter=1000, n_jobs=None,\n",
              "                 n_neighbors=7, tol=0.001)"
            ]
          },
          "metadata": {
            "tags": []
          },
          "execution_count": 4
        }
      ]
    },
    {
      "cell_type": "code",
      "metadata": {
        "colab": {
          "base_uri": "https://localhost:8080/"
        },
        "id": "3jOZ7-IP1F-F",
        "outputId": "8e7aaf42-ffbf-49b3-b02f-554479be9a5b"
      },
      "source": [
        "lp.score(X[unlabeled_points], y[unlabeled_points])"
      ],
      "execution_count": 5,
      "outputs": [
        {
          "output_type": "execute_result",
          "data": {
            "text/plain": [
              "0.628140703517588"
            ]
          },
          "metadata": {
            "tags": []
          },
          "execution_count": 5
        }
      ]
    },
    {
      "cell_type": "markdown",
      "metadata": {
        "id": "-FxtjyZ71F-G"
      },
      "source": [
        "すべて多数クラス(Benign: 良性)に分類したとしても$\\frac{357}{212+357} \\fallingdotseq 0.63$の正解率なので、学習はうまくいっていません。"
      ]
    },
    {
      "cell_type": "markdown",
      "metadata": {
        "id": "75hYaTFV1F-G"
      },
      "source": [
        "RBFカーネルの範囲gammaを調整してみます。大きくするほど、近くのデータにしか影響を受けないようになります。"
      ]
    },
    {
      "cell_type": "code",
      "metadata": {
        "id": "KQHge4DnqA78",
        "colab": {
          "base_uri": "https://localhost:8080/"
        },
        "outputId": "3f4e38d6-ccd6-4ea5-9a84-8f26a8a6ab26"
      },
      "source": [
        "lp = LabelPropagation(gamma=2000)\n",
        "lp.fit(X, labels)"
      ],
      "execution_count": 6,
      "outputs": [
        {
          "output_type": "execute_result",
          "data": {
            "text/plain": [
              "LabelPropagation(gamma=2000, kernel='rbf', max_iter=1000, n_jobs=None,\n",
              "                 n_neighbors=7, tol=0.001)"
            ]
          },
          "metadata": {
            "tags": []
          },
          "execution_count": 6
        }
      ]
    },
    {
      "cell_type": "code",
      "metadata": {
        "id": "S34BuUnsrTRz",
        "colab": {
          "base_uri": "https://localhost:8080/"
        },
        "outputId": "d414f642-cf64-4e01-abcf-aa0d03409d5c"
      },
      "source": [
        "lp.score(X[unlabeled_points], y[unlabeled_points])"
      ],
      "execution_count": 7,
      "outputs": [
        {
          "output_type": "execute_result",
          "data": {
            "text/plain": [
              "0.9120603015075377"
            ]
          },
          "metadata": {
            "tags": []
          },
          "execution_count": 7
        }
      ]
    },
    {
      "cell_type": "markdown",
      "metadata": {
        "id": "HY-Lq_P61F-H"
      },
      "source": [
        "よい結果が出ているようなので、複数回実行して正解付きデータの割合と性能の関係を調べます。"
      ]
    },
    {
      "cell_type": "code",
      "metadata": {
        "id": "BxACmqEgpvDt",
        "colab": {
          "base_uri": "https://localhost:8080/"
        },
        "outputId": "d449a77a-546e-4ee7-8bcd-a3e48a53b801"
      },
      "source": [
        "labeled_percent = [0.05, 0.1, 0.2, 0.3, 0.5]\n",
        "num = y.size\n",
        "for labeled in labeled_percent :\n",
        "    score = 0\n",
        "    for i in range(100):\n",
        "        unlabeled_points = np.random.choice(np.arange(num),int(num-num*labeled), replace=False)\n",
        "        labels = np.copy(y)\n",
        "        labels[unlabeled_points] = -1\n",
        "        lp.fit(X, labels)\n",
        "        score += lp.score(X[unlabeled_points], y[unlabeled_points])\n",
        "    print(\"{0}{1:4.1f}{2}{3:6.3f}\".format(\"labeled:\", labeled*100, \"%, score=\", score/100))  "
      ],
      "execution_count": 8,
      "outputs": [
        {
          "output_type": "stream",
          "text": [
            "/usr/local/lib/python3.7/dist-packages/sklearn/semi_supervised/_label_propagation.py:288: ConvergenceWarning: max_iter=1000 was reached without convergence.\n",
            "  category=ConvergenceWarning\n"
          ],
          "name": "stderr"
        },
        {
          "output_type": "stream",
          "text": [
            "labeled: 5.0%, score= 0.849\n",
            "labeled:10.0%, score= 0.891\n",
            "labeled:20.0%, score= 0.907\n",
            "labeled:30.0%, score= 0.909\n",
            "labeled:50.0%, score= 0.917\n"
          ],
          "name": "stdout"
        }
      ]
    },
    {
      "cell_type": "markdown",
      "metadata": {
        "id": "WmpZI8h71F-H"
      },
      "source": [
        "breast_cancerデータでは、LabelPropagationのハイパーパラメータをうまく調整すると、10%程度の正解付きデータである程度の性能を達成することができそうです。"
      ]
    },
    {
      "cell_type": "markdown",
      "metadata": {
        "id": "ZIV18q8I1F-H"
      },
      "source": [
        "## 課題2\n",
        "\n",
        "CNNを用いたCIFER10の識別において、データ拡張のパラメータや方法を変更して性能評価をしてください。"
      ]
    },
    {
      "cell_type": "code",
      "metadata": {
        "id": "gll5_3rD1F-I"
      },
      "source": [
        "import numpy as np\n",
        "import matplotlib.pyplot as plt\n",
        "import tensorflow as tf\n",
        "from tensorflow import keras\n",
        "from tensorflow.keras import layers"
      ],
      "execution_count": 9,
      "outputs": []
    },
    {
      "cell_type": "code",
      "metadata": {
        "colab": {
          "base_uri": "https://localhost:8080/"
        },
        "id": "oXjaNIFA1F-I",
        "outputId": "a462c167-1346-4ce2-acec-068485420d26"
      },
      "source": [
        "cf10 = keras.datasets.cifar10\n",
        "(X_train,y_train),(X_test,y_test)=keras.datasets.cifar10.load_data()"
      ],
      "execution_count": 10,
      "outputs": [
        {
          "output_type": "stream",
          "text": [
            "Downloading data from https://www.cs.toronto.edu/~kriz/cifar-10-python.tar.gz\n",
            "170500096/170498071 [==============================] - 6s 0us/step\n"
          ],
          "name": "stdout"
        }
      ]
    },
    {
      "cell_type": "code",
      "metadata": {
        "id": "ooQ9IY571F-I"
      },
      "source": [
        "data_augmentation = keras.Sequential(\n",
        "    [\n",
        "        layers.experimental.preprocessing.RandomFlip(\"horizontal\"),\n",
        "        layers.experimental.preprocessing.RandomRotation(0.2),\n",
        "        layers.experimental.preprocessing.RandomZoom(0.2),\n",
        "    ]\n",
        ")"
      ],
      "execution_count": 11,
      "outputs": []
    },
    {
      "cell_type": "code",
      "metadata": {
        "id": "Zy9i0-0B1F-I"
      },
      "source": [
        "X_train = X_train / 255.0\n",
        "X_test = X_test / 255.0\n",
        "y_train = keras.utils.to_categorical(y_train, 10)\n",
        "y_test = keras.utils.to_categorical(y_test, 10)"
      ],
      "execution_count": 12,
      "outputs": []
    },
    {
      "cell_type": "code",
      "metadata": {
        "colab": {
          "base_uri": "https://localhost:8080/"
        },
        "id": "1ItGxmpx1F-I",
        "outputId": "e1b51d1b-b438-4030-f185-ead7abf0f41b"
      },
      "source": [
        "model3 = keras.Sequential([\n",
        "    data_augmentation,\n",
        "    layers.Conv2D(32, kernel_size=(3, 3), activation='relu'),\n",
        "    layers.MaxPooling2D(pool_size=(2, 2)),\n",
        "    layers.Conv2D(32, (3, 3), activation='relu'),\n",
        "    layers.MaxPooling2D(pool_size=(2, 2)),\n",
        "    layers.BatchNormalization(),\n",
        "    #layers.Dropout(0.5),\n",
        "    layers.Flatten(),\n",
        "    layers.Dense(128, activation='relu'),\n",
        "    layers.Dense(10, activation='softmax')\n",
        "])\n",
        "model3.build(input_shape=(None, 32, 32, 3))\n",
        "model3.summary()"
      ],
      "execution_count": 13,
      "outputs": [
        {
          "output_type": "stream",
          "text": [
            "Model: \"sequential_1\"\n",
            "_________________________________________________________________\n",
            "Layer (type)                 Output Shape              Param #   \n",
            "=================================================================\n",
            "sequential (Sequential)      (None, 32, 32, 3)         0         \n",
            "_________________________________________________________________\n",
            "conv2d (Conv2D)              (None, 30, 30, 32)        896       \n",
            "_________________________________________________________________\n",
            "max_pooling2d (MaxPooling2D) (None, 15, 15, 32)        0         \n",
            "_________________________________________________________________\n",
            "conv2d_1 (Conv2D)            (None, 13, 13, 32)        9248      \n",
            "_________________________________________________________________\n",
            "max_pooling2d_1 (MaxPooling2 (None, 6, 6, 32)          0         \n",
            "_________________________________________________________________\n",
            "batch_normalization (BatchNo (None, 6, 6, 32)          128       \n",
            "_________________________________________________________________\n",
            "flatten (Flatten)            (None, 1152)              0         \n",
            "_________________________________________________________________\n",
            "dense (Dense)                (None, 128)               147584    \n",
            "_________________________________________________________________\n",
            "dense_1 (Dense)              (None, 10)                1290      \n",
            "=================================================================\n",
            "Total params: 159,146\n",
            "Trainable params: 159,082\n",
            "Non-trainable params: 64\n",
            "_________________________________________________________________\n"
          ],
          "name": "stdout"
        }
      ]
    },
    {
      "cell_type": "code",
      "metadata": {
        "colab": {
          "base_uri": "https://localhost:8080/"
        },
        "id": "hI_GRs4Q1F-J",
        "outputId": "2276a5ab-e3a5-48e2-bddc-33acc5f54487"
      },
      "source": [
        "model3.compile(optimizer='adam', loss='categorical_crossentropy', metrics=['accuracy'])\n",
        "model3.fit(X_train, y_train, epochs=10, batch_size=128)"
      ],
      "execution_count": 14,
      "outputs": [
        {
          "output_type": "stream",
          "text": [
            "Epoch 1/10\n",
            "391/391 [==============================] - 19s 5ms/step - loss: 1.7938 - accuracy: 0.3542\n",
            "Epoch 2/10\n",
            "391/391 [==============================] - 2s 4ms/step - loss: 1.4693 - accuracy: 0.4777\n",
            "Epoch 3/10\n",
            "391/391 [==============================] - 2s 4ms/step - loss: 1.3695 - accuracy: 0.5095\n",
            "Epoch 4/10\n",
            "391/391 [==============================] - 2s 5ms/step - loss: 1.2871 - accuracy: 0.5465\n",
            "Epoch 5/10\n",
            "391/391 [==============================] - 2s 5ms/step - loss: 1.2418 - accuracy: 0.5605\n",
            "Epoch 6/10\n",
            "391/391 [==============================] - 2s 5ms/step - loss: 1.2175 - accuracy: 0.5701\n",
            "Epoch 7/10\n",
            "391/391 [==============================] - 2s 5ms/step - loss: 1.1757 - accuracy: 0.5856\n",
            "Epoch 8/10\n",
            "391/391 [==============================] - 2s 5ms/step - loss: 1.1634 - accuracy: 0.5920\n",
            "Epoch 9/10\n",
            "391/391 [==============================] - 2s 5ms/step - loss: 1.1384 - accuracy: 0.5998\n",
            "Epoch 10/10\n",
            "391/391 [==============================] - 2s 5ms/step - loss: 1.1325 - accuracy: 0.6023\n"
          ],
          "name": "stdout"
        },
        {
          "output_type": "execute_result",
          "data": {
            "text/plain": [
              "<tensorflow.python.keras.callbacks.History at 0x7fb1c04e17d0>"
            ]
          },
          "metadata": {
            "tags": []
          },
          "execution_count": 14
        }
      ]
    },
    {
      "cell_type": "code",
      "metadata": {
        "colab": {
          "base_uri": "https://localhost:8080/"
        },
        "id": "2y0jwURH1F-J",
        "outputId": "d021b914-53b5-4344-969f-259b6b151b4f"
      },
      "source": [
        "test_loss, test_acc = model3.evaluate(X_test, y_test)\n",
        "print('Test accuracy:', test_acc)"
      ],
      "execution_count": 15,
      "outputs": [
        {
          "output_type": "stream",
          "text": [
            "313/313 [==============================] - 1s 3ms/step - loss: 1.2014 - accuracy: 0.5948\n",
            "Test accuracy: 0.5947999954223633\n"
          ],
          "name": "stdout"
        }
      ]
    },
    {
      "cell_type": "markdown",
      "metadata": {
        "id": "W2WUiE0J1F-J"
      },
      "source": [
        "データ拡張において極端な変形を行うと性能が下がります。データ拡張は対象データの性質をよく検討し、慎重に行う必要があります。"
      ]
    }
  ]
}