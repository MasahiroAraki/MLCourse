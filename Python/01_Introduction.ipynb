{
 "metadata": {
  "language_info": {
   "codemirror_mode": {
    "name": "ipython",
    "version": 3
   },
   "file_extension": ".py",
   "mimetype": "text/x-python",
   "name": "python",
   "nbconvert_exporter": "python",
   "pygments_lexer": "ipython3",
   "version": "3.8.5"
  },
  "orig_nbformat": 2,
  "kernelspec": {
   "name": "python385jvsc74a57bd02db524e06e9f5f4ffedc911c917cb75e12dbc923643829bf417064a77eb14d37",
   "display_name": "Python 3.8.5 64-bit"
  },
  "metadata": {
   "interpreter": {
    "hash": "2db524e06e9f5f4ffedc911c917cb75e12dbc923643829bf417064a77eb14d37"
   }
  }
 },
 "nbformat": 4,
 "nbformat_minor": 2,
 "cells": [
  {
   "source": [
    "<a href=\"https://colab.research.google.com/github/MasahiroAraki/MLCourse/blob/master/Python/01_Introduction.ipynb\" target=\"_parent\"><img src=\"https://colab.research.google.com/assets/colab-badge.svg\" alt=\"Open In Colab\"/></a>"
   ],
   "cell_type": "markdown",
   "metadata": {}
  },
  {
   "source": [
    "# Google Colaboratory"
   ],
   "cell_type": "markdown",
   "metadata": {}
  },
  {
   "source": [
    "## Jupyter notebookとは\n",
    "\n",
    "Jupyter notebook は、web ブラウザ上で Python を対話的に実行できる環境です。コードだけではなく、Markdown 記法や LaTeX の数式記法を用いてメモを残すこともできます。Jupyter notebook を利用することで小規模なプログラムを対話的に作成し、そのプロセスをメモとして記録することができるので、機械学習の勉強用に Jupyter notebook がよく用いられます。"
   ],
   "cell_type": "markdown",
   "metadata": {}
  },
  {
   "source": [
    "<img src=\"images/fig1-1.png\" width=\"70%\"/>"
   ],
   "cell_type": "markdown",
   "metadata": {}
  },
  {
   "source": [
    "## Google Colaboratory について\n",
    "\n",
    "Google Colaboratoryは、クラウドで実行される Jupyter notebook 環境です。Google Colaboratoryでは、クラウド上の仮想マシンに対してwebブラウザ経由でコードの記述と実行を行うことができ、実行結果やドキュメントをGoogle Driveに保存することができます。ただし、実行環境である仮想マシンは起動後最大12時間（またはセッション終了後90分）でリセットされることや、外部データは仮想マシンにアップロードするかGoogle Drive上に置く必要があるなど、業務として使用することは難しく、主として勉強のための環境です。\n",
    "\n",
    "Google Colaboratoryの実行環境を以下の図に示します。仮想マシンはGPU（Graphics Processing Unit : 行列演算を並列で高速に行うことができるプロセッサ）やTPU（Tensor Processing Unit : 機械学習に特化したGoogleの自社開発プロセッサ）を使うものも選択できますが、CPUに比べてタイムアウトが頻繁に起こります。仮想マシンで提供されるPython環境には機械学習のためのパッケージはすでにインストールされています。また、仮想マシンに対してパッケージの追加・更新等を行うこともできますが、それらの操作は仮想マシンを起動する毎に行う必要があります。パッケージ一覧は `!pip list` で確認することができます。また、バージョンを指定したパッケージのインストールは、`!pip install tensorflow==2.0.0-alpha0` のように行います。"
   ],
   "cell_type": "markdown",
   "metadata": {}
  },
  {
   "source": [
    "<img src=\"images/fig1-2.png\" width=\"70%\"/>"
   ],
   "cell_type": "markdown",
   "metadata": {}
  },
  {
   "source": [
    "仮想マシン上で起動したPython実行環境をランタイムとよび、複数のランタイムでそれぞれ Jupyter notebook を実行することができます。それぞれのランタイムでは、代入された変数の値や関数定義などの情報が保持されます。これらをクリアするには、ランタイムを再起動します。\n",
    "\n",
    "Google Colaboratoryへは https://colab.research.google.com/ でアクセスします。Googleアカウントにログインした状態でこのページにアクセスすると、最近使ったファイルやGoogle Drive上のファイルにアクセスできる他、notebookを新規作成することもできます。また、GitHub上にあるipynbファイルをGoogle Colaboratoryで開くには、ブラウザでGitHub上のipynbファイルにアクセスし、アドレスの https://github.com/ を https://colab.research.google.com/github/ に書き換えます。"
   ],
   "cell_type": "markdown",
   "metadata": {}
  },
  {
   "source": [
    "## Markdownによるメモ\n",
    "\n",
    "「+テキスト」ボタンを押すと、Markdown記法でメモを記述できるセルが追加されます。よく使うMarkdown記法を以下にまとめておきます。\n",
    "\n",
    "- 見出し：\"\\#\" (レベルは\"\\#\\#\", \"\\#\\#\\#\"などで調整)\n",
    "- 改行：行末で2つ以上の空白\n",
    "- 箇条書き：\"-\" または \"*\" と空白を先頭に。入れ子は先頭に空白を入れる\n",
    "- 数式：\"\\$\\$\" で囲み、LaTeXの数式記法で書く\n",
    "- 図：\"\\!\\[代替テキスト\\](画像ファイルのURL)\"またはHTMLのimgタグの記法を用いる"
   ],
   "cell_type": "markdown",
   "metadata": {}
  },
  {
   "source": [
    "## Google Colaboratoryのキーボードショートカット\n",
    "\n",
    "以下のキーボードショートカットは便利なのでぜひ憶えておきましょう。\n",
    "\n",
    "- セル選択時\n",
    "  - Markdownモードへの変更 : Ctrl+M $\\to$ M\n",
    "  - コードモードへの変更 : Ctrl+M $\\to$ Y\n",
    "  - セルを上に追加: Ctrl+M $\\to$ A\n",
    "  - セルを下に追加: Ctrl+M $\\to$ B\n",
    "  - セルの消去: Ctrl+M $\\to$ D\n",
    "- セル編集時\n",
    "  - セルの実行、次のセルへ移動 : Shift + Enter \n",
    "  - セルの実行のみ : Ctrl + Enter\n",
    "  - コメントアウト : （範囲を選択して）Ctrl + /"
   ],
   "cell_type": "markdown",
   "metadata": {}
  },
  {
   "source": [
    "## 参考資料\n",
    "\n",
    "Chainer チュートリアル [1. はじめに](https://tutorials.chainer.org/ja/01_Welcome_to_Chainer_Tutorial.html)"
   ],
   "cell_type": "markdown",
   "metadata": {}
  },
  {
   "source": [
    "# Python入門\n",
    "\n"
   ],
   "cell_type": "markdown",
   "metadata": {}
  },
  {
   "source": [
    "## プログラミング言語Python\n",
    "\n",
    "プログラミング言語Pythonはオブジェクト指向スクリプト言語です。コンパイルが不要なので、短いコードを書いてその実行結果を確認しながらプログラムを組んでゆくことができます。他のプログラミング言語と比較したときのPythonの特徴は、動的型付け・インデントによるブロック化・デフォルト引数を用いた関数呼び出しなどがあります。 \n",
    "\n",
    "Pythonではひとつのファイルからなるスクリプトをモジュールとよび、そのファイル名から拡張子(.py)を取り除いたものがモジュール名となります。モジュールは、他のスクリプトで `import` 文を使って読み込むことができ、読み込んだモジュールのクラス・関数・変数は「モジュール名.識別子」で参照することができます。また、複数のモジュールをまとめたものをパッケージとよびます。Pythonコミュニティでは、最新の技術や研究成果が即座にパッケージとなって提供されます。その機動性は魅力なのですが、古くなってほとんど使われなくなったパッケージの情報がwebを検索すると出てきたりするので、少なくとも自分の関心のある分野に関しては、他の開発者が現在どのパッケージを使っているのかという情報を収集しておくことが重要です。"
   ],
   "cell_type": "markdown",
   "metadata": {}
  },
  {
   "source": [
    "## Pythonでの機械学習環境\n",
    "\n",
    "Pythonは数値計算・データ可視化・機械学習・深層学習などのパッケージが充実しており、科学技術計算のプログラム作成に適しています。特に機械学習に関しては、最新の手法のほとんどがPythonで実装されており、深層学習も含めパッケージ化が進んでいます。\n",
    "\n",
    "機械学習に関連するPythonのパッケージには以下のものがあります。\n",
    "\n",
    "-  numpy : 多次元配列を効率よく扱う\n",
    "-  scipy : 高度な数値計算\n",
    "-  matplotlib : グラフ描画のため\n",
    "-  pandas : データの読み込み・解析を支援\n",
    "-  scikit-learn : 多くの機械学習アルゴリズム\n",
    "-  tensorflow : 深層学習 "
   ],
   "cell_type": "markdown",
   "metadata": {}
  },
  {
   "source": [
    "## 参考資料\n",
    "\n",
    "- お勧め：Chainer チュートリアル [2. Python入門](https://tutorials.chainer.org/ja/02_Basics_of_Python.html)\n",
    "- プログラミングの基礎から学びたい場合： [ゼロからのPython入門講座](https://www.python.jp/train/index.html)\n",
    "- 本格的にPythonを学びたい場合\n",
    "  - [京都大学 プログラミング演習 Python 2019](https://repository.kulib.kyoto-u.ac.jp/dspace/handle/2433/245698)\n",
    "  - [東京大学 Pythonプログラミング入門](https://utokyo-ipp.github.io/IPP_textbook.pdf)"
   ],
   "cell_type": "markdown",
   "metadata": {}
  }
 ]
}