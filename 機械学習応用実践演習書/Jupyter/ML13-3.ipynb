{
 "cells": [
  {
   "cell_type": "markdown",
   "metadata": {},
   "source": [
    "## 実践演習13-3\n",
    "\n",
    "scikit-learnのLabelPropagationでirisデータの半教師あり学習を行います。"
   ]
  },
  {
   "cell_type": "markdown",
   "metadata": {},
   "source": [
    "ライブラリの読み込み"
   ]
  },
  {
   "cell_type": "code",
   "execution_count": 1,
   "metadata": {
    "collapsed": true
   },
   "outputs": [],
   "source": [
    "import numpy as np\n",
    "from sklearn.datasets import load_iris\n",
    "from sklearn.semi_supervised import LabelPropagation"
   ]
  },
  {
   "cell_type": "markdown",
   "metadata": {},
   "source": [
    "irisデータの読み込み"
   ]
  },
  {
   "cell_type": "code",
   "execution_count": 2,
   "metadata": {},
   "outputs": [],
   "source": [
    "iris = load_iris()\n",
    "X = iris.data\n",
    "y = iris.target"
   ]
  },
  {
   "cell_type": "markdown",
   "metadata": {},
   "source": [
    "### 半教師ありデータの作成\n",
    "\n",
    "まず、どのデータの教師信号を消すかを決めます。\n",
    "[np.random.choice](https://docs.scipy.org/doc/numpy-dev/reference/generated/numpy.random.choice.html)を使って、データのインデックスを表すndarrayから、指定された個数のインデックスを、重複なしで抜き出します。"
   ]
  },
  {
   "cell_type": "code",
   "execution_count": 3,
   "metadata": {},
   "outputs": [
    {
     "data": {
      "text/plain": [
       "array([ 29,  81,  52, 101,  79,  20,  73,  69,  59,  27,  25,  98,   2,\n",
       "        76, 141,  39,  26,  37, 110,   1, 131,  21, 138, 104, 117, 100,\n",
       "       139,  51, 134, 132,   0,  32,  96, 107,  24,  67, 149,  54, 109,\n",
       "        95,   6, 147, 118,  14,  23, 102,  65,  31,  84,  38,  97,   7,\n",
       "        85, 105,  90, 144,  44, 129,   3, 111, 122,  60,  62,  78,  57,\n",
       "        49,  12,  71, 136,  83,  28,  17,  93, 120, 148, 143, 121, 114,\n",
       "       103,  36, 133,  53,  82, 130,  41,  10, 140,  77,  45,  64,  66,\n",
       "       126,  88,  74,  50, 119,   5,  61,  46, 128,  91,  18,  19, 115,  47])"
      ]
     },
     "execution_count": 3,
     "metadata": {},
     "output_type": "execute_result"
    }
   ],
   "source": [
    "np.random.choice(np.arange(y.size), int((y.size)*.7), replace=False)"
   ]
  },
  {
   "cell_type": "markdown",
   "metadata": {},
   "source": [
    "教師ベクトルyを[np.copy](https://docs.scipy.org/doc/numpy/reference/generated/numpy.copy.html)を使って変数labelsにコピーし（代入文でコピーすると、オブジェクトが共有されます）、先ほど抜き出したインデックスに対応する値を-1に書き換えます。"
   ]
  },
  {
   "cell_type": "code",
   "execution_count": 4,
   "metadata": {},
   "outputs": [
    {
     "data": {
      "text/plain": [
       "array([ 0,  0,  0,  0,  0,  0, -1,  0, -1, -1, -1, -1, -1, -1, -1, -1, -1,\n",
       "       -1,  0, -1, -1, -1,  0, -1, -1, -1, -1, -1, -1, -1, -1, -1,  0,  0,\n",
       "       -1,  0, -1, -1,  0, -1, -1,  0, -1, -1,  0, -1,  0, -1, -1,  0, -1,\n",
       "       -1, -1, -1, -1, -1, -1, -1, -1, -1, -1,  1, -1,  1, -1, -1, -1, -1,\n",
       "        1,  1,  1, -1, -1, -1, -1, -1, -1, -1, -1,  1,  1, -1, -1, -1, -1,\n",
       "        1,  1, -1, -1, -1,  1, -1,  1, -1, -1, -1, -1, -1, -1, -1, -1, -1,\n",
       "        2,  2,  2, -1, -1,  2,  2,  2, -1, -1, -1, -1,  2,  2, -1, -1, -1,\n",
       "        2, -1, -1,  2,  2, -1,  2, -1, -1, -1,  2,  2, -1, -1, -1, -1,  2,\n",
       "       -1, -1, -1,  2, -1, -1,  2, -1, -1, -1, -1, -1, -1, -1])"
      ]
     },
     "execution_count": 4,
     "metadata": {},
     "output_type": "execute_result"
    }
   ],
   "source": [
    "unlabeled_points = np.random.choice(np.arange(y.size), int((y.size)*.7), replace=False)\n",
    "labels = np.copy(y)\n",
    "labels[unlabeled_points] = -1\n",
    "labels"
   ]
  },
  {
   "cell_type": "markdown",
   "metadata": {},
   "source": [
    "これを教師ベクトルとして、[LabelPropagation](http://scikit-learn.org/stable/modules/generated/sklearn.semi_supervised.LabelPropagation.html)で半教師あり学習を行います。"
   ]
  },
  {
   "cell_type": "code",
   "execution_count": 5,
   "metadata": {},
   "outputs": [
    {
     "data": {
      "text/plain": [
       "LabelPropagation(alpha=1, gamma=20, kernel='rbf', max_iter=30, n_jobs=1,\n",
       "         n_neighbors=7, tol=0.001)"
      ]
     },
     "execution_count": 5,
     "metadata": {},
     "output_type": "execute_result"
    }
   ],
   "source": [
    "lp = LabelPropagation()\n",
    "lp.fit(X, labels)"
   ]
  },
  {
   "cell_type": "markdown",
   "metadata": {},
   "source": [
    "結果を表示します。"
   ]
  },
  {
   "cell_type": "code",
   "execution_count": 6,
   "metadata": {},
   "outputs": [
    {
     "data": {
      "text/plain": [
       "0.97333333333333338"
      ]
     },
     "execution_count": 6,
     "metadata": {},
     "output_type": "execute_result"
    }
   ],
   "source": [
    "lp.score(X, y)"
   ]
  },
  {
   "cell_type": "markdown",
   "metadata": {},
   "source": [
    "正解付きデータを5%, 10%, 20%, 30%と変えて、それぞれ100回ずつ学習を試みて性能を評価します。"
   ]
  },
  {
   "cell_type": "code",
   "execution_count": 7,
   "metadata": {},
   "outputs": [
    {
     "name": "stdout",
     "output_type": "stream",
     "text": [
      "labeled: 5.0%, score= 0.882\n",
      "labeled:10.0%, score= 0.938\n",
      "labeled:20.0%, score= 0.956\n",
      "labeled:30.0%, score= 0.965\n"
     ]
    }
   ],
   "source": [
    "labeled_percent = [0.05, 0.1, 0.2, 0.3]\n",
    "num = y.size\n",
    "for labeled in labeled_percent :\n",
    "    score = 0\n",
    "    for i in range(100):\n",
    "        unlabeled_points = np.random.choice(np.arange(num),int(num-num*labeled), replace=False)\n",
    "        labels = np.copy(y)\n",
    "        labels[unlabeled_points] = -1\n",
    "        lp.fit(X, labels)\n",
    "        score += lp.score(X, y)\n",
    "    print(\"{0}{1:4.1f}{2}{3:6.3f}\".format(\"labeled:\", labeled*100, \"%, score=\", score/100))        "
   ]
  }
 ],
 "metadata": {
  "anaconda-cloud": {},
  "kernelspec": {
   "display_name": "Python 3",
   "language": "python",
   "name": "python3"
  },
  "language_info": {
   "codemirror_mode": {
    "name": "ipython",
    "version": 3
   },
   "file_extension": ".py",
   "mimetype": "text/x-python",
   "name": "python",
   "nbconvert_exporter": "python",
   "pygments_lexer": "ipython3",
   "version": "3.6.1"
  }
 },
 "nbformat": 4,
 "nbformat_minor": 1
}
