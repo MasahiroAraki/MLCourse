{
 "cells": [
  {
   "cell_type": "markdown",
   "metadata": {},
   "source": [
    "## 実践演習12-2\n",
    "\n",
    "多層ニューラルネットワークでGridSearchを行います。"
   ]
  },
  {
   "cell_type": "code",
   "execution_count": 1,
   "metadata": {
    "collapsed": true
   },
   "outputs": [],
   "source": [
    "from sklearn.datasets import load_digits\n",
    "from sklearn.neural_network import MLPClassifier\n",
    "from sklearn.model_selection import GridSearchCV"
   ]
  },
  {
   "cell_type": "markdown",
   "metadata": {},
   "source": [
    "digitsデータを読み込み、パターン行列Xと教師ベクトルyにデータを格納します。"
   ]
  },
  {
   "cell_type": "code",
   "execution_count": 2,
   "metadata": {
    "collapsed": true
   },
   "outputs": [],
   "source": [
    "digits = load_digits()\n",
    "X = digits.data\n",
    "y = digits.target"
   ]
  },
  {
   "cell_type": "markdown",
   "metadata": {},
   "source": [
    "[MLPClassifier](http://scikit-learn.org/stable/modules/generated/sklearn.neural_network.MLPClassifier.html)のインスタンスを作成し、パラメータを確認します。"
   ]
  },
  {
   "cell_type": "code",
   "execution_count": 3,
   "metadata": {},
   "outputs": [
    {
     "data": {
      "text/plain": [
       "MLPClassifier(activation='relu', alpha=0.0001, batch_size='auto', beta_1=0.9,\n",
       "       beta_2=0.999, early_stopping=False, epsilon=1e-08,\n",
       "       hidden_layer_sizes=(100,), learning_rate='constant',\n",
       "       learning_rate_init=0.001, max_iter=200, momentum=0.9,\n",
       "       nesterovs_momentum=True, power_t=0.5, random_state=None,\n",
       "       shuffle=True, solver='adam', tol=0.0001, validation_fraction=0.1,\n",
       "       verbose=False, warm_start=False)"
      ]
     },
     "execution_count": 3,
     "metadata": {},
     "output_type": "execute_result"
    }
   ],
   "source": [
    "nn = MLPClassifier()\n",
    "nn"
   ]
  },
  {
   "cell_type": "markdown",
   "metadata": {},
   "source": [
    "変数param_gridにグリッドを設定します。活性化関数(activation)と隠れ層（層数、ユニット数）を組み合わせてみます。"
   ]
  },
  {
   "cell_type": "code",
   "execution_count": 4,
   "metadata": {
    "collapsed": true
   },
   "outputs": [],
   "source": [
    "param_grid = [\n",
    "  {'activation': ['logistic', 'relu'],\n",
    "   'hidden_layer_sizes': [(50,), (50, 50), (50,50,50), (100,), (100,100), (100,100,100)]}\n",
    " ]"
   ]
  },
  {
   "cell_type": "markdown",
   "metadata": {},
   "source": [
    "GridSearchを実行します。"
   ]
  },
  {
   "cell_type": "code",
   "execution_count": 5,
   "metadata": {},
   "outputs": [
    {
     "name": "stderr",
     "output_type": "stream",
     "text": [
      "C:\\usr\\Anaconda3\\lib\\site-packages\\sklearn\\neural_network\\multilayer_perceptron.py:563: ConvergenceWarning: Stochastic Optimizer: Maximum iterations reached and the optimization hasn't converged yet.\n",
      "  % (), ConvergenceWarning)\n",
      "C:\\usr\\Anaconda3\\lib\\site-packages\\sklearn\\neural_network\\multilayer_perceptron.py:563: ConvergenceWarning: Stochastic Optimizer: Maximum iterations reached and the optimization hasn't converged yet.\n",
      "  % (), ConvergenceWarning)\n",
      "C:\\usr\\Anaconda3\\lib\\site-packages\\sklearn\\neural_network\\multilayer_perceptron.py:563: ConvergenceWarning: Stochastic Optimizer: Maximum iterations reached and the optimization hasn't converged yet.\n",
      "  % (), ConvergenceWarning)\n",
      "C:\\usr\\Anaconda3\\lib\\site-packages\\sklearn\\neural_network\\multilayer_perceptron.py:563: ConvergenceWarning: Stochastic Optimizer: Maximum iterations reached and the optimization hasn't converged yet.\n",
      "  % (), ConvergenceWarning)\n",
      "C:\\usr\\Anaconda3\\lib\\site-packages\\sklearn\\neural_network\\multilayer_perceptron.py:563: ConvergenceWarning: Stochastic Optimizer: Maximum iterations reached and the optimization hasn't converged yet.\n",
      "  % (), ConvergenceWarning)\n",
      "C:\\usr\\Anaconda3\\lib\\site-packages\\sklearn\\neural_network\\multilayer_perceptron.py:563: ConvergenceWarning: Stochastic Optimizer: Maximum iterations reached and the optimization hasn't converged yet.\n",
      "  % (), ConvergenceWarning)\n",
      "C:\\usr\\Anaconda3\\lib\\site-packages\\sklearn\\neural_network\\multilayer_perceptron.py:563: ConvergenceWarning: Stochastic Optimizer: Maximum iterations reached and the optimization hasn't converged yet.\n",
      "  % (), ConvergenceWarning)\n",
      "C:\\usr\\Anaconda3\\lib\\site-packages\\sklearn\\neural_network\\multilayer_perceptron.py:563: ConvergenceWarning: Stochastic Optimizer: Maximum iterations reached and the optimization hasn't converged yet.\n",
      "  % (), ConvergenceWarning)\n",
      "C:\\usr\\Anaconda3\\lib\\site-packages\\sklearn\\neural_network\\multilayer_perceptron.py:563: ConvergenceWarning: Stochastic Optimizer: Maximum iterations reached and the optimization hasn't converged yet.\n",
      "  % (), ConvergenceWarning)\n"
     ]
    },
    {
     "data": {
      "text/plain": [
       "GridSearchCV(cv=None, error_score='raise',\n",
       "       estimator=MLPClassifier(activation='relu', alpha=0.0001, batch_size='auto', beta_1=0.9,\n",
       "       beta_2=0.999, early_stopping=False, epsilon=1e-08,\n",
       "       hidden_layer_sizes=(100,), learning_rate='constant',\n",
       "       learning_rate_init=0.001, max_iter=200, momentum=0.9,\n",
       "       nesterovs_momentum=True, power_t=0.5, random_state=None,\n",
       "       shuffle=True, solver='adam', tol=0.0001, validation_fraction=0.1,\n",
       "       verbose=False, warm_start=False),\n",
       "       fit_params={}, iid=True, n_jobs=1,\n",
       "       param_grid=[{'activation': ['logistic', 'relu'], 'hidden_layer_sizes': [(50,), (50, 50), (50, 50, 50), (100,), (100, 100), (100, 100, 100)]}],\n",
       "       pre_dispatch='2*n_jobs', refit=True, return_train_score=True,\n",
       "       scoring=None, verbose=0)"
      ]
     },
     "execution_count": 5,
     "metadata": {},
     "output_type": "execute_result"
    }
   ],
   "source": [
    "clf = GridSearchCV(nn, param_grid)\n",
    "clf.fit(X, y)                            "
   ]
  },
  {
   "cell_type": "markdown",
   "metadata": {},
   "source": [
    "結果を表示します。"
   ]
  },
  {
   "cell_type": "code",
   "execution_count": 6,
   "metadata": {},
   "outputs": [
    {
     "data": {
      "text/plain": [
       "{'mean_fit_time': array([ 0.72398663,  1.07258439,  1.68619363,  0.98994112,  1.49540981,\n",
       "         2.03916558,  0.45640039,  0.56404567,  0.65794627,  0.61986685,\n",
       "         0.61316935,  0.74233754]),\n",
       " 'mean_score_time': array([ 0.00183813,  0.00167195,  0.00334295,  0.00216619,  0.00250642,\n",
       "         0.0040102 ,  0.00117151,  0.00133681,  0.0020051 ,  0.00133721,\n",
       "         0.00233976,  0.00267569]),\n",
       " 'mean_test_score': array([ 0.93989983,  0.93377852,  0.91096272,  0.94045632,  0.93989983,\n",
       "         0.92487479,  0.90762382,  0.93489149,  0.9115192 ,  0.92543127,\n",
       "         0.91263216,  0.93934335]),\n",
       " 'mean_train_score': array([ 0.99139606,  0.98973078,  0.99722384,  0.99472662,  0.99306134,\n",
       "         0.99417152,  0.97946156,  0.99611435,  0.96613933,  0.99944491,\n",
       "         0.97085762,  1.        ]),\n",
       " 'param_activation': masked_array(data = ['logistic' 'logistic' 'logistic' 'logistic' 'logistic' 'logistic' 'relu'\n",
       "  'relu' 'relu' 'relu' 'relu' 'relu'],\n",
       "              mask = [False False False False False False False False False False False False],\n",
       "        fill_value = ?),\n",
       " 'param_hidden_layer_sizes': masked_array(data = [(50,) (50, 50) (50, 50, 50) (100,) (100, 100) (100, 100, 100) (50,)\n",
       "  (50, 50) (50, 50, 50) (100,) (100, 100) (100, 100, 100)],\n",
       "              mask = [False False False False False False False False False False False False],\n",
       "        fill_value = ?),\n",
       " 'params': ({'activation': 'logistic', 'hidden_layer_sizes': (50,)},\n",
       "  {'activation': 'logistic', 'hidden_layer_sizes': (50, 50)},\n",
       "  {'activation': 'logistic', 'hidden_layer_sizes': (50, 50, 50)},\n",
       "  {'activation': 'logistic', 'hidden_layer_sizes': (100,)},\n",
       "  {'activation': 'logistic', 'hidden_layer_sizes': (100, 100)},\n",
       "  {'activation': 'logistic', 'hidden_layer_sizes': (100, 100, 100)},\n",
       "  {'activation': 'relu', 'hidden_layer_sizes': (50,)},\n",
       "  {'activation': 'relu', 'hidden_layer_sizes': (50, 50)},\n",
       "  {'activation': 'relu', 'hidden_layer_sizes': (50, 50, 50)},\n",
       "  {'activation': 'relu', 'hidden_layer_sizes': (100,)},\n",
       "  {'activation': 'relu', 'hidden_layer_sizes': (100, 100)},\n",
       "  {'activation': 'relu', 'hidden_layer_sizes': (100, 100, 100)}),\n",
       " 'rank_test_score': array([ 2,  6, 11,  1,  2,  8, 12,  5, 10,  7,  9,  4]),\n",
       " 'split0_test_score': array([ 0.95348837,  0.94518272,  0.90697674,  0.94352159,  0.94850498,\n",
       "         0.93853821,  0.9269103 ,  0.95016611,  0.94186047,  0.93521595,\n",
       "         0.94019934,  0.93853821]),\n",
       " 'split0_train_score': array([ 1.,  1.,  1.,  1.,  1.,  1.,  1.,  1.,  1.,  1.,  1.,  1.]),\n",
       " 'split1_test_score': array([ 0.94824708,  0.94323873,  0.92487479,  0.95325543,  0.96494157,\n",
       "         0.93823038,  0.92821369,  0.95492487,  0.95993322,  0.93656093,\n",
       "         0.94657763,  0.95826377]),\n",
       " 'split1_train_score': array([ 1.        ,  1.        ,  0.99916528,  1.        ,  1.        ,\n",
       "         1.        ,  1.        ,  1.        ,  1.        ,  1.        ,\n",
       "         1.        ,  1.        ]),\n",
       " 'split2_test_score': array([ 0.91778523,  0.91275168,  0.90100671,  0.92449664,  0.90604027,\n",
       "         0.89765101,  0.86744966,  0.89932886,  0.83221477,  0.90436242,\n",
       "         0.85067114,  0.92114094]),\n",
       " 'split2_train_score': array([ 0.97418818,  0.96919234,  0.99250624,  0.98417985,  0.97918401,\n",
       "         0.98251457,  0.93838468,  0.98834305,  0.89841799,  0.99833472,\n",
       "         0.91257286,  1.        ]),\n",
       " 'std_fit_time': array([ 0.22975862,  0.22937109,  0.09624242,  0.36116603,  0.38792691,\n",
       "         0.27182126,  0.20308997,  0.19900746,  0.33672738,  0.14831461,\n",
       "         0.23399662,  0.07645594]),\n",
       " 'std_score_time': array([  2.36134823e-04,   2.35404218e-04,   1.25010276e-03,\n",
       "          6.28116068e-04,   4.09485435e-04,   0.00000000e+00,\n",
       "          2.38775966e-04,   2.36359607e-04,   5.84003864e-07,\n",
       "          4.72101712e-04,   4.71257962e-04,   4.71314650e-04]),\n",
       " 'std_test_score': array([ 0.01572531,  0.01483371,  0.01013474,  0.0119261 ,  0.02478061,\n",
       "         0.01917827,  0.02830579,  0.02512758,  0.05635251,  0.01485219,\n",
       "         0.04372638,  0.01514708]),\n",
       " 'std_train_score': array([ 0.01216781,  0.01452287,  0.0033532 ,  0.00745769,  0.00981275,\n",
       "         0.00824271,  0.02904574,  0.00549514,  0.04788622,  0.00078502,\n",
       "         0.04121355,  0.        ])}"
      ]
     },
     "execution_count": 6,
     "metadata": {},
     "output_type": "execute_result"
    }
   ],
   "source": [
    "clf.cv_results_"
   ]
  },
  {
   "cell_type": "markdown",
   "metadata": {},
   "source": [
    "すべてのパラメータの組み合わせについて、スコアを表示します。"
   ]
  },
  {
   "cell_type": "code",
   "execution_count": 7,
   "metadata": {},
   "outputs": [
    {
     "name": "stdout",
     "output_type": "stream",
     "text": [
      "0.940 (+/- 0.008) for {'activation': 'logistic', 'hidden_layer_sizes': (50,)}\n",
      "0.934 (+/- 0.007) for {'activation': 'logistic', 'hidden_layer_sizes': (50, 50)}\n",
      "0.911 (+/- 0.005) for {'activation': 'logistic', 'hidden_layer_sizes': (50, 50, 50)}\n",
      "0.940 (+/- 0.006) for {'activation': 'logistic', 'hidden_layer_sizes': (100,)}\n",
      "0.940 (+/- 0.012) for {'activation': 'logistic', 'hidden_layer_sizes': (100, 100)}\n",
      "0.925 (+/- 0.010) for {'activation': 'logistic', 'hidden_layer_sizes': (100, 100, 100)}\n",
      "0.908 (+/- 0.014) for {'activation': 'relu', 'hidden_layer_sizes': (50,)}\n",
      "0.935 (+/- 0.013) for {'activation': 'relu', 'hidden_layer_sizes': (50, 50)}\n",
      "0.912 (+/- 0.028) for {'activation': 'relu', 'hidden_layer_sizes': (50, 50, 50)}\n",
      "0.925 (+/- 0.007) for {'activation': 'relu', 'hidden_layer_sizes': (100,)}\n",
      "0.913 (+/- 0.022) for {'activation': 'relu', 'hidden_layer_sizes': (100, 100)}\n",
      "0.939 (+/- 0.008) for {'activation': 'relu', 'hidden_layer_sizes': (100, 100, 100)}\n"
     ]
    }
   ],
   "source": [
    "re = clf.cv_results_\n",
    "for params, mean_score, std_score in zip(re['params'], re['mean_test_score'], re['std_test_score']):\n",
    "    print(\"{:.3f} (+/- {:.3f}) for {}\".format(mean_score, std_score / 2, params))"
   ]
  },
  {
   "cell_type": "markdown",
   "metadata": {},
   "source": [
    "性能が最大となるパラメータとそのときのスコアを表示します。"
   ]
  },
  {
   "cell_type": "code",
   "execution_count": 8,
   "metadata": {},
   "outputs": [
    {
     "data": {
      "text/plain": [
       "{'activation': 'logistic', 'hidden_layer_sizes': (100,)}"
      ]
     },
     "execution_count": 8,
     "metadata": {},
     "output_type": "execute_result"
    }
   ],
   "source": [
    "clf.best_params_"
   ]
  },
  {
   "cell_type": "code",
   "execution_count": 9,
   "metadata": {},
   "outputs": [
    {
     "data": {
      "text/plain": [
       "0.94045631608235947"
      ]
     },
     "execution_count": 9,
     "metadata": {},
     "output_type": "execute_result"
    }
   ],
   "source": [
    "clf.best_score_"
   ]
  }
 ],
 "metadata": {
  "anaconda-cloud": {},
  "kernelspec": {
   "display_name": "Python 3",
   "language": "python",
   "name": "python3"
  },
  "language_info": {
   "codemirror_mode": {
    "name": "ipython",
    "version": 3
   },
   "file_extension": ".py",
   "mimetype": "text/x-python",
   "name": "python",
   "nbconvert_exporter": "python",
   "pygments_lexer": "ipython3",
   "version": "3.6.1"
  }
 },
 "nbformat": 4,
 "nbformat_minor": 1
}
