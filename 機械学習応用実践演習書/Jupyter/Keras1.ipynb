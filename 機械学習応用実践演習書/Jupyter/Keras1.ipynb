{
 "cells": [
  {
   "cell_type": "markdown",
   "metadata": {},
   "source": [
    "# Kerasのサンプル"
   ]
  },
  {
   "cell_type": "markdown",
   "metadata": {},
   "source": [
    "バージョン確認"
   ]
  },
  {
   "cell_type": "code",
   "execution_count": 1,
   "metadata": {},
   "outputs": [
    {
     "name": "stderr",
     "output_type": "stream",
     "text": [
      "Using TensorFlow backend.\n"
     ]
    },
    {
     "data": {
      "text/plain": [
       "'2.0.6'"
      ]
     },
     "execution_count": 1,
     "metadata": {},
     "output_type": "execute_result"
    }
   ],
   "source": [
    "import keras\n",
    "keras.__version__"
   ]
  },
  {
   "cell_type": "markdown",
   "metadata": {},
   "source": [
    "MNISTデータのロード"
   ]
  },
  {
   "cell_type": "code",
   "execution_count": 2,
   "metadata": {
    "collapsed": true
   },
   "outputs": [],
   "source": [
    "from keras.datasets import mnist\n",
    "(X_train, y_train), (X_test, y_test) = mnist.load_data()"
   ]
  },
  {
   "cell_type": "markdown",
   "metadata": {},
   "source": [
    "入力をフラットな配列に変換し、学習データは10,000個、テストデータは1000個だけ利用します。また、元データでは濃淡が0から255までで表現されており、最大値が大きすぎるので、特徴の値の最大値を1としておきます。"
   ]
  },
  {
   "cell_type": "code",
   "execution_count": 3,
   "metadata": {
    "collapsed": true
   },
   "outputs": [],
   "source": [
    "# input image dimensions\n",
    "img_rows, img_cols = 28, 28\n",
    "\n",
    "X_train = X_train.reshape(X_train.shape[0], img_rows * img_cols)[0:10000]\n",
    "X_test = X_test.reshape(X_test.shape[0], img_rows * img_cols)[0:1000]\n",
    "input_shape = (img_rows, img_cols)\n",
    "\n",
    "X_train = X_train.astype('float32')\n",
    "X_test = X_test.astype('float32')\n",
    "X_train /= 255\n",
    "X_test /= 255"
   ]
  },
  {
   "cell_type": "markdown",
   "metadata": {},
   "source": [
    "出力をone-hotに変換します。"
   ]
  },
  {
   "cell_type": "code",
   "execution_count": 4,
   "metadata": {
    "collapsed": true
   },
   "outputs": [],
   "source": [
    "from keras.utils import np_utils\n",
    "Y_train = np_utils.to_categorical(y_train)[0:10000]\n",
    "Y_test = np_utils.to_categorical(y_test)[0:1000]"
   ]
  },
  {
   "cell_type": "markdown",
   "metadata": {
    "collapsed": true
   },
   "source": [
    "## 多層パーセプトロン (MLP)"
   ]
  },
  {
   "cell_type": "markdown",
   "metadata": {},
   "source": [
    "準備"
   ]
  },
  {
   "cell_type": "code",
   "execution_count": 5,
   "metadata": {
    "collapsed": true
   },
   "outputs": [],
   "source": [
    "import numpy as np\n",
    "from keras.models import Sequential\n",
    "from keras.layers import Dense, Activation\n",
    "from keras.optimizers import SGD"
   ]
  },
  {
   "cell_type": "markdown",
   "metadata": {},
   "source": [
    "まず、中間層1層のモデルを設定します。ユニット数は入力の次元数を考えて、適切に設定してください。活性化関数は、パラメータ[activation](https://keras.io/ja/activations/)で指定します。"
   ]
  },
  {
   "cell_type": "code",
   "execution_count": 6,
   "metadata": {
    "collapsed": true
   },
   "outputs": [],
   "source": [
    "input_shape = X_train[0].shape\n",
    "n_hidden = 200\n",
    "n_out = len(Y_train[0])  # 10\n",
    "\n",
    "model = Sequential()\n",
    "model.add(Dense(n_hidden, input_shape=input_shape, activation='sigmoid'))\n",
    "model.add(Dense(n_out, activation='softmax'))"
   ]
  },
  {
   "cell_type": "markdown",
   "metadata": {},
   "source": [
    "損失関数 ([loss](https://keras.io/ja/losses/))、最適化アルゴリズム([optimizer](https://keras.io/ja/optimizers/))、評価基準([metrics](https://keras.io/ja/metrics/))を指定して、モデルをcompileします。"
   ]
  },
  {
   "cell_type": "code",
   "execution_count": 7,
   "metadata": {
    "collapsed": true
   },
   "outputs": [],
   "source": [
    "model.compile(loss = 'categorical_crossentropy',\n",
    "              optimizer = SGD(lr=0.1),\n",
    "              metrics = ['accuracy'])"
   ]
  },
  {
   "cell_type": "markdown",
   "metadata": {},
   "source": [
    "[fit](https://keras.io/ja/models/sequential/#fit)メソッドで学習します。繰り返し回数はパラメータepocksで、バッチサイズはパラメータbatch\\_sizeで指定します。"
   ]
  },
  {
   "cell_type": "code",
   "execution_count": 8,
   "metadata": {},
   "outputs": [
    {
     "name": "stdout",
     "output_type": "stream",
     "text": [
      "Epoch 1/10\n",
      "10000/10000 [==============================] - 0s - loss: 1.9751 - acc: 0.4757     \n",
      "Epoch 2/10\n",
      "10000/10000 [==============================] - 0s - loss: 1.4174 - acc: 0.7287     \n",
      "Epoch 3/10\n",
      "10000/10000 [==============================] - 0s - loss: 1.0610 - acc: 0.7948     \n",
      "Epoch 4/10\n",
      "10000/10000 [==============================] - 0s - loss: 0.8530 - acc: 0.8282     \n",
      "Epoch 5/10\n",
      "10000/10000 [==============================] - 0s - loss: 0.7253 - acc: 0.8498     \n",
      "Epoch 6/10\n",
      "10000/10000 [==============================] - 0s - loss: 0.6400 - acc: 0.8596     \n",
      "Epoch 7/10\n",
      "10000/10000 [==============================] - 0s - loss: 0.5811 - acc: 0.8683     \n",
      "Epoch 8/10\n",
      "10000/10000 [==============================] - 0s - loss: 0.5368 - acc: 0.8738     \n",
      "Epoch 9/10\n",
      "10000/10000 [==============================] - 0s - loss: 0.5027 - acc: 0.8791     \n",
      "Epoch 10/10\n",
      "10000/10000 [==============================] - 0s - loss: 0.4757 - acc: 0.8838     \n"
     ]
    },
    {
     "data": {
      "text/plain": [
       "<keras.callbacks.History at 0x1b1e5c5d1d0>"
      ]
     },
     "execution_count": 8,
     "metadata": {},
     "output_type": "execute_result"
    }
   ],
   "source": [
    "model.fit(X_train, Y_train, epochs=10, batch_size=200)"
   ]
  },
  {
   "cell_type": "markdown",
   "metadata": {},
   "source": [
    "[evaluate](https://keras.io/ja/models/sequential/#evaluate)メソッドで評価します。"
   ]
  },
  {
   "cell_type": "code",
   "execution_count": 9,
   "metadata": {},
   "outputs": [
    {
     "name": "stdout",
     "output_type": "stream",
     "text": [
      "Test loss: 0.532082397461\n",
      "Test accuracy: 0.861\n"
     ]
    }
   ],
   "source": [
    "score = model.evaluate(X_test, Y_test, verbose=0)\n",
    "print('Test loss:', score[0])\n",
    "print('Test accuracy:', score[1])"
   ]
  },
  {
   "cell_type": "markdown",
   "metadata": {},
   "source": [
    "### 中間層の層数を増やす\n",
    "\n",
    "中間層の層数を増やしてみます。その際、活性化関数sigmoid, tanh, reluのそれぞれの違いを確認します。"
   ]
  },
  {
   "cell_type": "code",
   "execution_count": 10,
   "metadata": {
    "collapsed": true
   },
   "outputs": [],
   "source": [
    "model = Sequential()\n",
    "af = 'sigmoid'\n",
    "model.add(Dense(n_hidden, input_shape=input_shape, activation=af))\n",
    "model.add(Dense(n_hidden, activation=af))\n",
    "model.add(Dense(n_hidden, activation=af))\n",
    "model.add(Dense(n_hidden, activation=af))\n",
    "model.add(Dense(n_hidden, activation=af))\n",
    "model.add(Dense(n_out, activation='softmax'))"
   ]
  },
  {
   "cell_type": "code",
   "execution_count": 11,
   "metadata": {},
   "outputs": [
    {
     "name": "stdout",
     "output_type": "stream",
     "text": [
      "Epoch 1/10\n",
      "10000/10000 [==============================] - 0s - loss: 2.3161 - acc: 0.1019     \n",
      "Epoch 2/10\n",
      "10000/10000 [==============================] - 0s - loss: 2.3098 - acc: 0.1059     \n",
      "Epoch 3/10\n",
      "10000/10000 [==============================] - 0s - loss: 2.3109 - acc: 0.1024     \n",
      "Epoch 4/10\n",
      "10000/10000 [==============================] - 0s - loss: 2.3112 - acc: 0.1052     \n",
      "Epoch 5/10\n",
      "10000/10000 [==============================] - 0s - loss: 2.3099 - acc: 0.1028     \n",
      "Epoch 6/10\n",
      "10000/10000 [==============================] - 0s - loss: 2.3099 - acc: 0.1066     \n",
      "Epoch 7/10\n",
      "10000/10000 [==============================] - 0s - loss: 2.3098 - acc: 0.0993     \n",
      "Epoch 8/10\n",
      "10000/10000 [==============================] - 0s - loss: 2.3093 - acc: 0.1007     \n",
      "Epoch 9/10\n",
      "10000/10000 [==============================] - 0s - loss: 2.3074 - acc: 0.1052     \n",
      "Epoch 10/10\n",
      "10000/10000 [==============================] - 0s - loss: 2.3084 - acc: 0.1013     \n",
      "Test loss: 2.30435621071\n",
      "Test accuracy: 0.116\n"
     ]
    }
   ],
   "source": [
    "model.compile(loss = 'categorical_crossentropy',\n",
    "              optimizer = SGD(lr=0.1),\n",
    "              metrics = ['accuracy'])\n",
    "model.fit(X_train, Y_train, epochs=10, batch_size=200)\n",
    "score = model.evaluate(X_test, Y_test, verbose=0)\n",
    "print('Test loss:', score[0])\n",
    "print('Test accuracy:', score[1])"
   ]
  },
  {
   "cell_type": "code",
   "execution_count": 12,
   "metadata": {
    "collapsed": true
   },
   "outputs": [],
   "source": [
    "model = Sequential()\n",
    "af = 'tanh'\n",
    "model.add(Dense(n_hidden, input_shape=input_shape, activation=af))\n",
    "model.add(Dense(n_hidden, activation=af))\n",
    "model.add(Dense(n_hidden, activation=af))\n",
    "model.add(Dense(n_hidden, activation=af))\n",
    "model.add(Dense(n_hidden, activation=af))\n",
    "model.add(Dense(n_out, activation='softmax'))"
   ]
  },
  {
   "cell_type": "code",
   "execution_count": 13,
   "metadata": {},
   "outputs": [
    {
     "name": "stdout",
     "output_type": "stream",
     "text": [
      "Epoch 1/10\n",
      "10000/10000 [==============================] - 0s - loss: 0.7945 - acc: 0.7884     \n",
      "Epoch 2/10\n",
      "10000/10000 [==============================] - 0s - loss: 0.3765 - acc: 0.8968     \n",
      "Epoch 3/10\n",
      "10000/10000 [==============================] - 0s - loss: 0.3097 - acc: 0.9126     \n",
      "Epoch 4/10\n",
      "10000/10000 [==============================] - 0s - loss: 0.2751 - acc: 0.9215     \n",
      "Epoch 5/10\n",
      "10000/10000 [==============================] - 0s - loss: 0.2552 - acc: 0.9257     \n",
      "Epoch 6/10\n",
      "10000/10000 [==============================] - 0s - loss: 0.2349 - acc: 0.9317     \n",
      "Epoch 7/10\n",
      "10000/10000 [==============================] - 0s - loss: 0.2116 - acc: 0.9379     \n",
      "Epoch 8/10\n",
      "10000/10000 [==============================] - 0s - loss: 0.1967 - acc: 0.9428     \n",
      "Epoch 9/10\n",
      "10000/10000 [==============================] - 0s - loss: 0.1802 - acc: 0.9474     \n",
      "Epoch 10/10\n",
      "10000/10000 [==============================] - 0s - loss: 0.1732 - acc: 0.9482     \n",
      "Test loss: 0.288588508368\n",
      "Test accuracy: 0.91\n"
     ]
    }
   ],
   "source": [
    "model.compile(loss = 'categorical_crossentropy',\n",
    "              optimizer = SGD(lr=0.1),\n",
    "              metrics = ['accuracy'])\n",
    "model.fit(X_train, Y_train, epochs=10, batch_size=200)\n",
    "score = model.evaluate(X_test, Y_test, verbose=0)\n",
    "print('Test loss:', score[0])\n",
    "print('Test accuracy:', score[1])"
   ]
  },
  {
   "cell_type": "code",
   "execution_count": 14,
   "metadata": {
    "collapsed": true
   },
   "outputs": [],
   "source": [
    "model = Sequential()\n",
    "af = 'relu'\n",
    "model.add(Dense(n_hidden, input_shape=input_shape, activation=af))\n",
    "model.add(Dense(n_hidden, activation=af))\n",
    "model.add(Dense(n_hidden, activation=af))\n",
    "model.add(Dense(n_hidden, activation=af))\n",
    "model.add(Dense(n_hidden, activation=af))\n",
    "model.add(Dense(n_out, activation='softmax'))"
   ]
  },
  {
   "cell_type": "code",
   "execution_count": 15,
   "metadata": {},
   "outputs": [
    {
     "name": "stdout",
     "output_type": "stream",
     "text": [
      "Epoch 1/10\n",
      "10000/10000 [==============================] - 0s - loss: 1.7704 - acc: 0.5010     \n",
      "Epoch 2/10\n",
      "10000/10000 [==============================] - 0s - loss: 0.6877 - acc: 0.7868     \n",
      "Epoch 3/10\n",
      "10000/10000 [==============================] - 0s - loss: 0.3903 - acc: 0.8854     \n",
      "Epoch 4/10\n",
      "10000/10000 [==============================] - 0s - loss: 0.3127 - acc: 0.9067     \n",
      "Epoch 5/10\n",
      "10000/10000 [==============================] - 0s - loss: 0.2559 - acc: 0.9237     \n",
      "Epoch 6/10\n",
      "10000/10000 [==============================] - 0s - loss: 0.2214 - acc: 0.9327     \n",
      "Epoch 7/10\n",
      "10000/10000 [==============================] - 0s - loss: 0.1796 - acc: 0.9485     \n",
      "Epoch 8/10\n",
      "10000/10000 [==============================] - 0s - loss: 0.1746 - acc: 0.9474     \n",
      "Epoch 9/10\n",
      "10000/10000 [==============================] - 0s - loss: 0.1405 - acc: 0.9605     \n",
      "Epoch 10/10\n",
      "10000/10000 [==============================] - 0s - loss: 0.1416 - acc: 0.9578     \n",
      "Test loss: 0.193576118708\n",
      "Test accuracy: 0.94\n"
     ]
    }
   ],
   "source": [
    "model.compile(loss = 'categorical_crossentropy',\n",
    "              optimizer = SGD(lr=0.1),\n",
    "              metrics = ['accuracy'])\n",
    "model.fit(X_train, Y_train, epochs=10, batch_size=200)\n",
    "score = model.evaluate(X_test, Y_test, verbose=0)\n",
    "print('Test loss:', score[0])\n",
    "print('Test accuracy:', score[1])"
   ]
  },
  {
   "cell_type": "markdown",
   "metadata": {},
   "source": [
    "dropoutを入れてみます。学習データとテストデータの正解率の差に注目してください。"
   ]
  },
  {
   "cell_type": "code",
   "execution_count": 16,
   "metadata": {
    "collapsed": true
   },
   "outputs": [],
   "source": [
    "from keras.layers.core import Dropout\n",
    "\n",
    "model = Sequential()\n",
    "af = 'relu'\n",
    "model.add(Dense(n_hidden, input_shape=input_shape, activation=af))\n",
    "model.add(Dropout(0.5))\n",
    "model.add(Dense(n_hidden, activation=af))\n",
    "model.add(Dropout(0.5))\n",
    "model.add(Dense(n_hidden, activation=af))\n",
    "model.add(Dropout(0.5))\n",
    "model.add(Dense(n_hidden, activation=af))\n",
    "model.add(Dropout(0.5))\n",
    "model.add(Dense(n_hidden, activation=af))\n",
    "model.add(Dropout(0.5))\n",
    "model.add(Dense(n_out, activation='softmax'))"
   ]
  },
  {
   "cell_type": "code",
   "execution_count": 17,
   "metadata": {},
   "outputs": [
    {
     "name": "stdout",
     "output_type": "stream",
     "text": [
      "Epoch 1/20\n",
      "10000/10000 [==============================] - 1s - loss: 2.3216 - acc: 0.1174     \n",
      "Epoch 2/20\n",
      "10000/10000 [==============================] - 0s - loss: 2.2211 - acc: 0.1737     \n",
      "Epoch 3/20\n",
      "10000/10000 [==============================] - 0s - loss: 1.9988 - acc: 0.2868     \n",
      "Epoch 4/20\n",
      "10000/10000 [==============================] - 1s - loss: 1.7006 - acc: 0.4221     \n",
      "Epoch 5/20\n",
      "10000/10000 [==============================] - 1s - loss: 1.4405 - acc: 0.4921     \n",
      "Epoch 6/20\n",
      "10000/10000 [==============================] - 1s - loss: 1.2276 - acc: 0.5561     \n",
      "Epoch 7/20\n",
      "10000/10000 [==============================] - 0s - loss: 1.0981 - acc: 0.5921     \n",
      "Epoch 8/20\n",
      "10000/10000 [==============================] - 0s - loss: 1.0066 - acc: 0.6358     \n",
      "Epoch 9/20\n",
      "10000/10000 [==============================] - 0s - loss: 0.9306 - acc: 0.6763     \n",
      "Epoch 10/20\n",
      "10000/10000 [==============================] - 1s - loss: 0.8546 - acc: 0.7089     \n",
      "Epoch 11/20\n",
      "10000/10000 [==============================] - 1s - loss: 0.7913 - acc: 0.7329     \n",
      "Epoch 12/20\n",
      "10000/10000 [==============================] - 0s - loss: 0.7259 - acc: 0.7622     \n",
      "Epoch 13/20\n",
      "10000/10000 [==============================] - 0s - loss: 0.6751 - acc: 0.7852     \n",
      "Epoch 14/20\n",
      "10000/10000 [==============================] - 0s - loss: 0.6550 - acc: 0.8006     \n",
      "Epoch 15/20\n",
      "10000/10000 [==============================] - 0s - loss: 0.5816 - acc: 0.8255     \n",
      "Epoch 16/20\n",
      "10000/10000 [==============================] - 1s - loss: 0.5487 - acc: 0.8411     \n",
      "Epoch 17/20\n",
      "10000/10000 [==============================] - 1s - loss: 0.5348 - acc: 0.8488     \n",
      "Epoch 18/20\n",
      "10000/10000 [==============================] - 0s - loss: 0.5058 - acc: 0.8534     \n",
      "Epoch 19/20\n",
      "10000/10000 [==============================] - 0s - loss: 0.4793 - acc: 0.8654     \n",
      "Epoch 20/20\n",
      "10000/10000 [==============================] - 1s - loss: 0.4569 - acc: 0.8705     \n",
      "Test loss: 0.366372843504\n",
      "Test accuracy: 0.896\n"
     ]
    }
   ],
   "source": [
    "model.compile(loss = 'categorical_crossentropy',\n",
    "              optimizer = SGD(lr=0.1),\n",
    "              metrics = ['accuracy'])\n",
    "model.fit(X_train, Y_train, epochs=20, batch_size=200)\n",
    "score = model.evaluate(X_test, Y_test, verbose=0)\n",
    "print('Test loss:', score[0])\n",
    "print('Test accuracy:', score[1])"
   ]
  }
 ],
 "metadata": {
  "kernelspec": {
   "display_name": "tensorflow",
   "language": "python",
   "name": "tensorflow"
  },
  "language_info": {
   "codemirror_mode": {
    "name": "ipython",
    "version": 3
   },
   "file_extension": ".py",
   "mimetype": "text/x-python",
   "name": "python",
   "nbconvert_exporter": "python",
   "pygments_lexer": "ipython3",
   "version": "3.5.3"
  }
 },
 "nbformat": 4,
 "nbformat_minor": 2
}
