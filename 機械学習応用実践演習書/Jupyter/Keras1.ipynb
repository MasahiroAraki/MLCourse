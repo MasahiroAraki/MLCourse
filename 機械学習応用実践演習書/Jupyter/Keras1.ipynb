{
 "cells": [
  {
   "cell_type": "markdown",
   "metadata": {},
   "source": [
    "# Kerasのサンプル"
   ]
  },
  {
   "cell_type": "markdown",
   "metadata": {},
   "source": [
    "バージョン確認"
   ]
  },
  {
   "cell_type": "code",
   "execution_count": 1,
   "metadata": {},
   "outputs": [
    {
     "name": "stderr",
     "output_type": "stream",
     "text": [
      "Using TensorFlow backend.\n"
     ]
    },
    {
     "data": {
      "text/plain": [
       "'2.0.6'"
      ]
     },
     "execution_count": 1,
     "metadata": {},
     "output_type": "execute_result"
    }
   ],
   "source": [
    "import keras\n",
    "keras.__version__"
   ]
  },
  {
   "cell_type": "markdown",
   "metadata": {},
   "source": [
    "MNISTデータのロード"
   ]
  },
  {
   "cell_type": "code",
   "execution_count": 2,
   "metadata": {
    "collapsed": true
   },
   "outputs": [],
   "source": [
    "from keras.datasets import mnist\n",
    "(X_train, y_train), (X_test, y_test) = mnist.load_data()"
   ]
  },
  {
   "cell_type": "markdown",
   "metadata": {},
   "source": [
    "入力をフラットな配列に変換し、学習データは10,000個、テストデータは1000個だけ利用します。また、元データでは濃淡が0から255までで表現されており、最大値が大きすぎるので、特徴の値の最大値を1としておきます。"
   ]
  },
  {
   "cell_type": "code",
   "execution_count": 3,
   "metadata": {
    "collapsed": true
   },
   "outputs": [],
   "source": [
    "# input image dimensions\n",
    "img_rows, img_cols = 28, 28\n",
    "\n",
    "X_train = X_train.reshape(X_train.shape[0], img_rows * img_cols)[0:10000]\n",
    "X_test = X_test.reshape(X_test.shape[0], img_rows * img_cols)[0:1000]\n",
    "\n",
    "X_train = X_train.astype('float32')\n",
    "X_test = X_test.astype('float32')\n",
    "X_train /= 255\n",
    "X_test /= 255"
   ]
  },
  {
   "cell_type": "markdown",
   "metadata": {},
   "source": [
    "出力をone-hotに変換します。"
   ]
  },
  {
   "cell_type": "code",
   "execution_count": 4,
   "metadata": {
    "collapsed": true
   },
   "outputs": [],
   "source": [
    "from keras.utils import np_utils\n",
    "Y_train = np_utils.to_categorical(y_train)[0:10000]\n",
    "Y_test = np_utils.to_categorical(y_test)[0:1000]"
   ]
  },
  {
   "cell_type": "markdown",
   "metadata": {
    "collapsed": true
   },
   "source": [
    "## 多層パーセプトロン (MLP)"
   ]
  },
  {
   "cell_type": "markdown",
   "metadata": {},
   "source": [
    "準備"
   ]
  },
  {
   "cell_type": "code",
   "execution_count": 5,
   "metadata": {
    "collapsed": true
   },
   "outputs": [],
   "source": [
    "import numpy as np\n",
    "from keras.models import Sequential\n",
    "from keras.layers import Dense, Activation\n",
    "from keras.optimizers import SGD"
   ]
  },
  {
   "cell_type": "markdown",
   "metadata": {},
   "source": [
    "まず、中間層1層のモデルを設定します。ユニット数は入力の次元数を考えて、適切に設定してください。活性化関数は、パラメータ[activation](https://keras.io/ja/activations/)で指定します。"
   ]
  },
  {
   "cell_type": "code",
   "execution_count": 6,
   "metadata": {},
   "outputs": [
    {
     "name": "stdout",
     "output_type": "stream",
     "text": [
      "_________________________________________________________________\n",
      "Layer (type)                 Output Shape              Param #   \n",
      "=================================================================\n",
      "dense_1 (Dense)              (None, 200)               157000    \n",
      "_________________________________________________________________\n",
      "dense_2 (Dense)              (None, 10)                2010      \n",
      "=================================================================\n",
      "Total params: 159,010\n",
      "Trainable params: 159,010\n",
      "Non-trainable params: 0\n",
      "_________________________________________________________________\n"
     ]
    }
   ],
   "source": [
    "input_shape = X_train[0].shape\n",
    "n_hidden = 200\n",
    "n_out = len(Y_train[0])  # 10\n",
    "\n",
    "model = Sequential()\n",
    "model.add(Dense(n_hidden, input_shape=input_shape, activation='sigmoid'))\n",
    "model.add(Dense(n_out, activation='softmax'))\n",
    "model.summary()"
   ]
  },
  {
   "cell_type": "markdown",
   "metadata": {},
   "source": [
    "損失関数 ([loss](https://keras.io/ja/losses/))、最適化アルゴリズム([optimizer](https://keras.io/ja/optimizers/))、評価基準([metrics](https://keras.io/ja/metrics/))を指定して、モデルをcompileします。"
   ]
  },
  {
   "cell_type": "code",
   "execution_count": 7,
   "metadata": {
    "collapsed": true
   },
   "outputs": [],
   "source": [
    "model.compile(loss = 'categorical_crossentropy',\n",
    "              optimizer = SGD(lr=0.1),\n",
    "              metrics = ['accuracy'])"
   ]
  },
  {
   "cell_type": "markdown",
   "metadata": {},
   "source": [
    "[fit](https://keras.io/ja/models/sequential/#fit)メソッドで学習します。繰り返し回数はパラメータepocksで、バッチサイズはパラメータbatch\\_sizeで指定します。"
   ]
  },
  {
   "cell_type": "code",
   "execution_count": 8,
   "metadata": {},
   "outputs": [
    {
     "name": "stdout",
     "output_type": "stream",
     "text": [
      "Epoch 1/10\n",
      "10000/10000 [==============================] - 0s - loss: 2.0087 - acc: 0.4679     \n",
      "Epoch 2/10\n",
      "10000/10000 [==============================] - 0s - loss: 1.4472 - acc: 0.7301     \n",
      "Epoch 3/10\n",
      "10000/10000 [==============================] - 0s - loss: 1.0749 - acc: 0.7928     \n",
      "Epoch 4/10\n",
      "10000/10000 [==============================] - 0s - loss: 0.8602 - acc: 0.8251     \n",
      "Epoch 5/10\n",
      "10000/10000 [==============================] - 0s - loss: 0.7288 - acc: 0.8471     \n",
      "Epoch 6/10\n",
      "10000/10000 [==============================] - 0s - loss: 0.6439 - acc: 0.8607     \n",
      "Epoch 7/10\n",
      "10000/10000 [==============================] - 0s - loss: 0.5832 - acc: 0.8661     \n",
      "Epoch 8/10\n",
      "10000/10000 [==============================] - 0s - loss: 0.5385 - acc: 0.8739     \n",
      "Epoch 9/10\n",
      "10000/10000 [==============================] - 0s - loss: 0.5048 - acc: 0.8789     \n",
      "Epoch 10/10\n",
      "10000/10000 [==============================] - 0s - loss: 0.4770 - acc: 0.8857     \n"
     ]
    },
    {
     "data": {
      "text/plain": [
       "<keras.callbacks.History at 0x1af1dac4eb8>"
      ]
     },
     "execution_count": 8,
     "metadata": {},
     "output_type": "execute_result"
    }
   ],
   "source": [
    "model.fit(X_train, Y_train, epochs=10, batch_size=200)"
   ]
  },
  {
   "cell_type": "markdown",
   "metadata": {},
   "source": [
    "[evaluate](https://keras.io/ja/models/sequential/#evaluate)メソッドで評価します。"
   ]
  },
  {
   "cell_type": "code",
   "execution_count": 9,
   "metadata": {},
   "outputs": [
    {
     "name": "stdout",
     "output_type": "stream",
     "text": [
      "Test loss: 0.531298254967\n",
      "Test accuracy: 0.863\n"
     ]
    }
   ],
   "source": [
    "score = model.evaluate(X_test, Y_test, verbose=0)\n",
    "print('Test loss:', score[0])\n",
    "print('Test accuracy:', score[1])"
   ]
  },
  {
   "cell_type": "markdown",
   "metadata": {},
   "source": [
    "### 中間層の層数を増やす\n",
    "\n",
    "中間層の層数を増やしてみます。その際、活性化関数sigmoid, tanh, reluのそれぞれの違いを確認します。"
   ]
  },
  {
   "cell_type": "code",
   "execution_count": 10,
   "metadata": {},
   "outputs": [
    {
     "name": "stdout",
     "output_type": "stream",
     "text": [
      "_________________________________________________________________\n",
      "Layer (type)                 Output Shape              Param #   \n",
      "=================================================================\n",
      "dense_3 (Dense)              (None, 200)               157000    \n",
      "_________________________________________________________________\n",
      "dense_4 (Dense)              (None, 200)               40200     \n",
      "_________________________________________________________________\n",
      "dense_5 (Dense)              (None, 200)               40200     \n",
      "_________________________________________________________________\n",
      "dense_6 (Dense)              (None, 200)               40200     \n",
      "_________________________________________________________________\n",
      "dense_7 (Dense)              (None, 200)               40200     \n",
      "_________________________________________________________________\n",
      "dense_8 (Dense)              (None, 10)                2010      \n",
      "=================================================================\n",
      "Total params: 319,810\n",
      "Trainable params: 319,810\n",
      "Non-trainable params: 0\n",
      "_________________________________________________________________\n"
     ]
    }
   ],
   "source": [
    "model = Sequential()\n",
    "af = 'sigmoid'\n",
    "model.add(Dense(n_hidden, input_shape=input_shape, activation=af))\n",
    "model.add(Dense(n_hidden, activation=af))\n",
    "model.add(Dense(n_hidden, activation=af))\n",
    "model.add(Dense(n_hidden, activation=af))\n",
    "model.add(Dense(n_hidden, activation=af))\n",
    "model.add(Dense(n_out, activation='softmax'))\n",
    "model.summary()"
   ]
  },
  {
   "cell_type": "code",
   "execution_count": 11,
   "metadata": {},
   "outputs": [
    {
     "name": "stdout",
     "output_type": "stream",
     "text": [
      "Epoch 1/10\n",
      "10000/10000 [==============================] - 0s - loss: 2.3154 - acc: 0.1041     \n",
      "Epoch 2/10\n",
      "10000/10000 [==============================] - 0s - loss: 2.3091 - acc: 0.1011     \n",
      "Epoch 3/10\n",
      "10000/10000 [==============================] - 0s - loss: 2.3098 - acc: 0.1041     \n",
      "Epoch 4/10\n",
      "10000/10000 [==============================] - 0s - loss: 2.3092 - acc: 0.1008     \n",
      "Epoch 5/10\n",
      "10000/10000 [==============================] - 0s - loss: 2.3103 - acc: 0.1061     \n",
      "Epoch 6/10\n",
      "10000/10000 [==============================] - 0s - loss: 2.3081 - acc: 0.1071     \n",
      "Epoch 7/10\n",
      "10000/10000 [==============================] - 0s - loss: 2.3079 - acc: 0.1055     \n",
      "Epoch 8/10\n",
      "10000/10000 [==============================] - 0s - loss: 2.3107 - acc: 0.1052     \n",
      "Epoch 9/10\n",
      "10000/10000 [==============================] - 0s - loss: 2.3091 - acc: 0.1073     \n",
      "Epoch 10/10\n",
      "10000/10000 [==============================] - 0s - loss: 2.3079 - acc: 0.0992     \n",
      "Test loss: 2.3076571579\n",
      "Test accuracy: 0.099\n"
     ]
    }
   ],
   "source": [
    "model.compile(loss = 'categorical_crossentropy',\n",
    "              optimizer = SGD(lr=0.1),\n",
    "              metrics = ['accuracy'])\n",
    "model.fit(X_train, Y_train, epochs=10, batch_size=200)\n",
    "score = model.evaluate(X_test, Y_test, verbose=0)\n",
    "print('Test loss:', score[0])\n",
    "print('Test accuracy:', score[1])"
   ]
  },
  {
   "cell_type": "code",
   "execution_count": 12,
   "metadata": {
    "collapsed": true
   },
   "outputs": [],
   "source": [
    "model = Sequential()\n",
    "af = 'tanh'\n",
    "model.add(Dense(n_hidden, input_shape=input_shape, activation=af))\n",
    "model.add(Dense(n_hidden, activation=af))\n",
    "model.add(Dense(n_hidden, activation=af))\n",
    "model.add(Dense(n_hidden, activation=af))\n",
    "model.add(Dense(n_hidden, activation=af))\n",
    "model.add(Dense(n_out, activation='softmax'))"
   ]
  },
  {
   "cell_type": "code",
   "execution_count": 13,
   "metadata": {},
   "outputs": [
    {
     "name": "stdout",
     "output_type": "stream",
     "text": [
      "Epoch 1/10\n",
      "10000/10000 [==============================] - 0s - loss: 0.8224 - acc: 0.7802     \n",
      "Epoch 2/10\n",
      "10000/10000 [==============================] - 0s - loss: 0.3739 - acc: 0.8952     \n",
      "Epoch 3/10\n",
      "10000/10000 [==============================] - 0s - loss: 0.3104 - acc: 0.9105     \n",
      "Epoch 4/10\n",
      "10000/10000 [==============================] - 0s - loss: 0.2728 - acc: 0.9223     \n",
      "Epoch 5/10\n",
      "10000/10000 [==============================] - 0s - loss: 0.2511 - acc: 0.9280     \n",
      "Epoch 6/10\n",
      "10000/10000 [==============================] - 0s - loss: 0.2274 - acc: 0.9343     \n",
      "Epoch 7/10\n",
      "10000/10000 [==============================] - 0s - loss: 0.2100 - acc: 0.9386     \n",
      "Epoch 8/10\n",
      "10000/10000 [==============================] - 0s - loss: 0.1931 - acc: 0.9432     \n",
      "Epoch 9/10\n",
      "10000/10000 [==============================] - 0s - loss: 0.1825 - acc: 0.9468     \n",
      "Epoch 10/10\n",
      "10000/10000 [==============================] - 0s - loss: 0.1659 - acc: 0.9512     \n",
      "Test loss: 0.283137859583\n",
      "Test accuracy: 0.906\n"
     ]
    }
   ],
   "source": [
    "model.compile(loss = 'categorical_crossentropy',\n",
    "              optimizer = SGD(lr=0.1),\n",
    "              metrics = ['accuracy'])\n",
    "model.fit(X_train, Y_train, epochs=10, batch_size=200)\n",
    "score = model.evaluate(X_test, Y_test, verbose=0)\n",
    "print('Test loss:', score[0])\n",
    "print('Test accuracy:', score[1])"
   ]
  },
  {
   "cell_type": "code",
   "execution_count": 14,
   "metadata": {
    "collapsed": true
   },
   "outputs": [],
   "source": [
    "model = Sequential()\n",
    "af = 'relu'\n",
    "model.add(Dense(n_hidden, input_shape=input_shape, activation=af))\n",
    "model.add(Dense(n_hidden, activation=af))\n",
    "model.add(Dense(n_hidden, activation=af))\n",
    "model.add(Dense(n_hidden, activation=af))\n",
    "model.add(Dense(n_hidden, activation=af))\n",
    "model.add(Dense(n_out, activation='softmax'))"
   ]
  },
  {
   "cell_type": "code",
   "execution_count": 15,
   "metadata": {},
   "outputs": [
    {
     "name": "stdout",
     "output_type": "stream",
     "text": [
      "Epoch 1/10\n",
      "10000/10000 [==============================] - 1s - loss: 1.8198 - acc: 0.4443     \n",
      "Epoch 2/10\n",
      "10000/10000 [==============================] - 0s - loss: 0.7594 - acc: 0.7511     \n",
      "Epoch 3/10\n",
      "10000/10000 [==============================] - 0s - loss: 0.4273 - acc: 0.8684     \n",
      "Epoch 4/10\n",
      "10000/10000 [==============================] - 0s - loss: 0.3227 - acc: 0.9045     \n",
      "Epoch 5/10\n",
      "10000/10000 [==============================] - 0s - loss: 0.2668 - acc: 0.9183     \n",
      "Epoch 6/10\n",
      "10000/10000 [==============================] - 0s - loss: 0.2248 - acc: 0.9347     \n",
      "Epoch 7/10\n",
      "10000/10000 [==============================] - 0s - loss: 0.1915 - acc: 0.9422     \n",
      "Epoch 8/10\n",
      "10000/10000 [==============================] - 0s - loss: 0.1703 - acc: 0.9485     \n",
      "Epoch 9/10\n",
      "10000/10000 [==============================] - 0s - loss: 0.1470 - acc: 0.9558     \n",
      "Epoch 10/10\n",
      "10000/10000 [==============================] - 0s - loss: 0.1333 - acc: 0.9618     \n",
      "Test loss: 0.211743010163\n",
      "Test accuracy: 0.926\n"
     ]
    }
   ],
   "source": [
    "model.compile(loss = 'categorical_crossentropy',\n",
    "              optimizer = SGD(lr=0.1),\n",
    "              metrics = ['accuracy'])\n",
    "model.fit(X_train, Y_train, epochs=10, batch_size=200)\n",
    "score = model.evaluate(X_test, Y_test, verbose=0)\n",
    "print('Test loss:', score[0])\n",
    "print('Test accuracy:', score[1])"
   ]
  },
  {
   "cell_type": "markdown",
   "metadata": {},
   "source": [
    "dropoutを入れてみます。学習データとテストデータの正解率の差に注目してください。"
   ]
  },
  {
   "cell_type": "code",
   "execution_count": 16,
   "metadata": {},
   "outputs": [
    {
     "name": "stdout",
     "output_type": "stream",
     "text": [
      "_________________________________________________________________\n",
      "Layer (type)                 Output Shape              Param #   \n",
      "=================================================================\n",
      "dense_21 (Dense)             (None, 200)               157000    \n",
      "_________________________________________________________________\n",
      "dropout_1 (Dropout)          (None, 200)               0         \n",
      "_________________________________________________________________\n",
      "dense_22 (Dense)             (None, 200)               40200     \n",
      "_________________________________________________________________\n",
      "dropout_2 (Dropout)          (None, 200)               0         \n",
      "_________________________________________________________________\n",
      "dense_23 (Dense)             (None, 200)               40200     \n",
      "_________________________________________________________________\n",
      "dropout_3 (Dropout)          (None, 200)               0         \n",
      "_________________________________________________________________\n",
      "dense_24 (Dense)             (None, 200)               40200     \n",
      "_________________________________________________________________\n",
      "dropout_4 (Dropout)          (None, 200)               0         \n",
      "_________________________________________________________________\n",
      "dense_25 (Dense)             (None, 200)               40200     \n",
      "_________________________________________________________________\n",
      "dropout_5 (Dropout)          (None, 200)               0         \n",
      "_________________________________________________________________\n",
      "dense_26 (Dense)             (None, 10)                2010      \n",
      "=================================================================\n",
      "Total params: 319,810\n",
      "Trainable params: 319,810\n",
      "Non-trainable params: 0\n",
      "_________________________________________________________________\n"
     ]
    }
   ],
   "source": [
    "from keras.layers.core import Dropout\n",
    "\n",
    "model = Sequential()\n",
    "af = 'relu'\n",
    "model.add(Dense(n_hidden, input_shape=input_shape, activation=af))\n",
    "model.add(Dropout(0.5))\n",
    "model.add(Dense(n_hidden, activation=af))\n",
    "model.add(Dropout(0.5))\n",
    "model.add(Dense(n_hidden, activation=af))\n",
    "model.add(Dropout(0.5))\n",
    "model.add(Dense(n_hidden, activation=af))\n",
    "model.add(Dropout(0.5))\n",
    "model.add(Dense(n_hidden, activation=af))\n",
    "model.add(Dropout(0.5))\n",
    "model.add(Dense(n_out, activation='softmax'))\n",
    "model.summary()"
   ]
  },
  {
   "cell_type": "code",
   "execution_count": 17,
   "metadata": {},
   "outputs": [
    {
     "name": "stdout",
     "output_type": "stream",
     "text": [
      "Epoch 1/20\n",
      "10000/10000 [==============================] - 1s - loss: 2.3199 - acc: 0.1155     \n",
      "Epoch 2/20\n",
      "10000/10000 [==============================] - 0s - loss: 2.1915 - acc: 0.1964     \n",
      "Epoch 3/20\n",
      "10000/10000 [==============================] - 0s - loss: 1.9650 - acc: 0.3109     \n",
      "Epoch 4/20\n",
      "10000/10000 [==============================] - 0s - loss: 1.7746 - acc: 0.3706     \n",
      "Epoch 5/20\n",
      "10000/10000 [==============================] - 0s - loss: 1.6383 - acc: 0.4086     \n",
      "Epoch 6/20\n",
      "10000/10000 [==============================] - 0s - loss: 1.4871 - acc: 0.4615     \n",
      "Epoch 7/20\n",
      "10000/10000 [==============================] - 0s - loss: 1.3441 - acc: 0.5191     \n",
      "Epoch 8/20\n",
      "10000/10000 [==============================] - 0s - loss: 1.2231 - acc: 0.5572     \n",
      "Epoch 9/20\n",
      "10000/10000 [==============================] - 0s - loss: 1.1375 - acc: 0.5951     \n",
      "Epoch 10/20\n",
      "10000/10000 [==============================] - 0s - loss: 1.0562 - acc: 0.6238     \n",
      "Epoch 11/20\n",
      "10000/10000 [==============================] - 0s - loss: 0.9771 - acc: 0.6694     \n",
      "Epoch 12/20\n",
      "10000/10000 [==============================] - 0s - loss: 0.9187 - acc: 0.7013     \n",
      "Epoch 13/20\n",
      "10000/10000 [==============================] - 1s - loss: 0.8570 - acc: 0.7338     \n",
      "Epoch 14/20\n",
      "10000/10000 [==============================] - 0s - loss: 0.7773 - acc: 0.7598     \n",
      "Epoch 15/20\n",
      "10000/10000 [==============================] - 0s - loss: 0.7323 - acc: 0.7791     \n",
      "Epoch 16/20\n",
      "10000/10000 [==============================] - 0s - loss: 0.6540 - acc: 0.8024     \n",
      "Epoch 17/20\n",
      "10000/10000 [==============================] - 1s - loss: 0.6195 - acc: 0.8177     \n",
      "Epoch 18/20\n",
      "10000/10000 [==============================] - 1s - loss: 0.5587 - acc: 0.8345     - ETA: 0s - loss: 0.5197\n",
      "Epoch 19/20\n",
      "10000/10000 [==============================] - 0s - loss: 0.5475 - acc: 0.8406     \n",
      "Epoch 20/20\n",
      "10000/10000 [==============================] - 1s - loss: 0.5223 - acc: 0.8493     \n",
      "Test loss: 0.439313820839\n",
      "Test accuracy: 0.866\n"
     ]
    }
   ],
   "source": [
    "model.compile(loss = 'categorical_crossentropy',\n",
    "              optimizer = SGD(lr=0.1),\n",
    "              metrics = ['accuracy'])\n",
    "model.fit(X_train, Y_train, epochs=20, batch_size=200)\n",
    "score = model.evaluate(X_test, Y_test, verbose=0)\n",
    "print('Test loss:', score[0])\n",
    "print('Test accuracy:', score[1])"
   ]
  }
 ],
 "metadata": {
  "kernelspec": {
   "display_name": "tensorflow",
   "language": "python",
   "name": "tensorflow"
  },
  "language_info": {
   "codemirror_mode": {
    "name": "ipython",
    "version": 3
   },
   "file_extension": ".py",
   "mimetype": "text/x-python",
   "name": "python",
   "nbconvert_exporter": "python",
   "pygments_lexer": "ipython3",
   "version": "3.5.3"
  }
 },
 "nbformat": 4,
 "nbformat_minor": 2
}
