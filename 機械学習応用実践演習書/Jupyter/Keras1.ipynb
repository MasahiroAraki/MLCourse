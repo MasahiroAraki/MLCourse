{
 "cells": [
  {
   "cell_type": "markdown",
   "metadata": {},
   "source": [
    "# Kerasのサンプル"
   ]
  },
  {
   "cell_type": "markdown",
   "metadata": {},
   "source": [
    "バージョン確認"
   ]
  },
  {
   "cell_type": "code",
   "execution_count": 1,
   "metadata": {},
   "outputs": [
    {
     "name": "stderr",
     "output_type": "stream",
     "text": [
      "Using TensorFlow backend.\n"
     ]
    },
    {
     "data": {
      "text/plain": [
       "'2.0.6'"
      ]
     },
     "execution_count": 1,
     "metadata": {},
     "output_type": "execute_result"
    }
   ],
   "source": [
    "import keras\n",
    "keras.__version__"
   ]
  },
  {
   "cell_type": "markdown",
   "metadata": {},
   "source": [
    "MNISTデータのロード"
   ]
  },
  {
   "cell_type": "code",
   "execution_count": 2,
   "metadata": {
    "collapsed": true
   },
   "outputs": [],
   "source": [
    "from keras.datasets import mnist\n",
    "(X_train, y_train), (X_test, y_test) = mnist.load_data()"
   ]
  },
  {
   "cell_type": "markdown",
   "metadata": {},
   "source": [
    "入力をフラットな配列に変換し、学習データは10,000個、テストデータは1000個だけ利用します。また、元データでは濃淡が0から255までで表現されており、最大値が大きすぎるので、特徴の値の最大値を1としておきます。"
   ]
  },
  {
   "cell_type": "code",
   "execution_count": 3,
   "metadata": {
    "collapsed": true
   },
   "outputs": [],
   "source": [
    "# input image dimensions\n",
    "img_rows, img_cols = 28, 28\n",
    "\n",
    "X_train = X_train.reshape(X_train.shape[0], img_rows * img_cols)[0:10000]\n",
    "X_test = X_test.reshape(X_test.shape[0], img_rows * img_cols)[0:1000]\n",
    "\n",
    "X_train = X_train.astype('float32')\n",
    "X_test = X_test.astype('float32')\n",
    "X_train /= 255\n",
    "X_test /= 255"
   ]
  },
  {
   "cell_type": "markdown",
   "metadata": {},
   "source": [
    "出力をone-hotに変換します。"
   ]
  },
  {
   "cell_type": "code",
   "execution_count": 4,
   "metadata": {
    "collapsed": true
   },
   "outputs": [],
   "source": [
    "from keras.utils import np_utils\n",
    "Y_train = np_utils.to_categorical(y_train)[0:10000]\n",
    "Y_test = np_utils.to_categorical(y_test)[0:1000]"
   ]
  },
  {
   "cell_type": "markdown",
   "metadata": {
    "collapsed": true
   },
   "source": [
    "## 多層パーセプトロン (MLP)"
   ]
  },
  {
   "cell_type": "markdown",
   "metadata": {},
   "source": [
    "準備"
   ]
  },
  {
   "cell_type": "code",
   "execution_count": 5,
   "metadata": {
    "collapsed": true
   },
   "outputs": [],
   "source": [
    "import numpy as np\n",
    "from keras.models import Sequential\n",
    "from keras.layers import Dense, Activation\n",
    "from keras.optimizers import SGD"
   ]
  },
  {
   "cell_type": "markdown",
   "metadata": {},
   "source": [
    "まず、中間層1層のモデルを設定します。ユニット数は入力の次元数を考えて、適切に設定してください。活性化関数は、パラメータ[activation](https://keras.io/ja/activations/)で指定します。"
   ]
  },
  {
   "cell_type": "code",
   "execution_count": 6,
   "metadata": {
    "collapsed": true
   },
   "outputs": [],
   "source": [
    "input_shape = X_train[0].shape\n",
    "n_hidden = 200\n",
    "n_out = len(Y_train[0])  # 10\n",
    "\n",
    "model = Sequential()\n",
    "model.add(Dense(n_hidden, input_shape=input_shape, activation='sigmoid'))\n",
    "model.add(Dense(n_out, activation='softmax'))"
   ]
  },
  {
   "cell_type": "markdown",
   "metadata": {},
   "source": [
    "損失関数 ([loss](https://keras.io/ja/losses/))、最適化アルゴリズム([optimizer](https://keras.io/ja/optimizers/))、評価基準([metrics](https://keras.io/ja/metrics/))を指定して、モデルをcompileします。"
   ]
  },
  {
   "cell_type": "code",
   "execution_count": 7,
   "metadata": {
    "collapsed": true
   },
   "outputs": [],
   "source": [
    "model.compile(loss = 'categorical_crossentropy',\n",
    "              optimizer = SGD(lr=0.1),\n",
    "              metrics = ['accuracy'])"
   ]
  },
  {
   "cell_type": "markdown",
   "metadata": {},
   "source": [
    "[fit](https://keras.io/ja/models/sequential/#fit)メソッドで学習します。繰り返し回数はパラメータepocksで、バッチサイズはパラメータbatch\\_sizeで指定します。"
   ]
  },
  {
   "cell_type": "code",
   "execution_count": 8,
   "metadata": {},
   "outputs": [
    {
     "name": "stdout",
     "output_type": "stream",
     "text": [
      "Epoch 1/10\n",
      "10000/10000 [==============================] - 0s - loss: 1.9989 - acc: 0.4657     \n",
      "Epoch 2/10\n",
      "10000/10000 [==============================] - 0s - loss: 1.4402 - acc: 0.7237     \n",
      "Epoch 3/10\n",
      "10000/10000 [==============================] - 0s - loss: 1.0778 - acc: 0.7960     \n",
      "Epoch 4/10\n",
      "10000/10000 [==============================] - 0s - loss: 0.8622 - acc: 0.8264     \n",
      "Epoch 5/10\n",
      "10000/10000 [==============================] - 0s - loss: 0.7310 - acc: 0.8433     \n",
      "Epoch 6/10\n",
      "10000/10000 [==============================] - 0s - loss: 0.6450 - acc: 0.8569     \n",
      "Epoch 7/10\n",
      "10000/10000 [==============================] - 0s - loss: 0.5837 - acc: 0.8621     \n",
      "Epoch 8/10\n",
      "10000/10000 [==============================] - 0s - loss: 0.5386 - acc: 0.8726     \n",
      "Epoch 9/10\n",
      "10000/10000 [==============================] - 0s - loss: 0.5048 - acc: 0.8795     \n",
      "Epoch 10/10\n",
      "10000/10000 [==============================] - 0s - loss: 0.4772 - acc: 0.8833     \n"
     ]
    },
    {
     "data": {
      "text/plain": [
       "<keras.callbacks.History at 0x1d6ad9ed438>"
      ]
     },
     "execution_count": 8,
     "metadata": {},
     "output_type": "execute_result"
    }
   ],
   "source": [
    "model.fit(X_train, Y_train, epochs=10, batch_size=200)"
   ]
  },
  {
   "cell_type": "markdown",
   "metadata": {},
   "source": [
    "[evaluate](https://keras.io/ja/models/sequential/#evaluate)メソッドで評価します。"
   ]
  },
  {
   "cell_type": "code",
   "execution_count": 9,
   "metadata": {},
   "outputs": [
    {
     "name": "stdout",
     "output_type": "stream",
     "text": [
      "Test loss: 0.529349169731\n",
      "Test accuracy: 0.863\n"
     ]
    }
   ],
   "source": [
    "score = model.evaluate(X_test, Y_test, verbose=0)\n",
    "print('Test loss:', score[0])\n",
    "print('Test accuracy:', score[1])"
   ]
  },
  {
   "cell_type": "markdown",
   "metadata": {},
   "source": [
    "### 中間層の層数を増やす\n",
    "\n",
    "中間層の層数を増やしてみます。その際、活性化関数sigmoid, tanh, reluのそれぞれの違いを確認します。"
   ]
  },
  {
   "cell_type": "code",
   "execution_count": 10,
   "metadata": {
    "collapsed": true
   },
   "outputs": [],
   "source": [
    "model = Sequential()\n",
    "af = 'sigmoid'\n",
    "model.add(Dense(n_hidden, input_shape=input_shape, activation=af))\n",
    "model.add(Dense(n_hidden, activation=af))\n",
    "model.add(Dense(n_hidden, activation=af))\n",
    "model.add(Dense(n_hidden, activation=af))\n",
    "model.add(Dense(n_hidden, activation=af))\n",
    "model.add(Dense(n_out, activation='softmax'))"
   ]
  },
  {
   "cell_type": "code",
   "execution_count": 11,
   "metadata": {},
   "outputs": [
    {
     "name": "stdout",
     "output_type": "stream",
     "text": [
      "Epoch 1/10\n",
      "10000/10000 [==============================] - 0s - loss: 2.3137 - acc: 0.1069     \n",
      "Epoch 2/10\n",
      "10000/10000 [==============================] - 0s - loss: 2.3114 - acc: 0.1020     \n",
      "Epoch 3/10\n",
      "10000/10000 [==============================] - 0s - loss: 2.3099 - acc: 0.1027     \n",
      "Epoch 4/10\n",
      "10000/10000 [==============================] - 0s - loss: 2.3082 - acc: 0.1106     \n",
      "Epoch 5/10\n",
      "10000/10000 [==============================] - 0s - loss: 2.3096 - acc: 0.1009     \n",
      "Epoch 6/10\n",
      "10000/10000 [==============================] - 0s - loss: 2.3076 - acc: 0.1063     \n",
      "Epoch 7/10\n",
      "10000/10000 [==============================] - 0s - loss: 2.3081 - acc: 0.1078     \n",
      "Epoch 8/10\n",
      "10000/10000 [==============================] - 0s - loss: 2.3096 - acc: 0.1009     - ETA: 0s - loss: 2.3080 - a\n",
      "Epoch 9/10\n",
      "10000/10000 [==============================] - 0s - loss: 2.3087 - acc: 0.1051     \n",
      "Epoch 10/10\n",
      "10000/10000 [==============================] - 0s - loss: 2.3107 - acc: 0.1017     \n",
      "Test loss: 2.29985972977\n",
      "Test accuracy: 0.11\n"
     ]
    }
   ],
   "source": [
    "model.compile(loss = 'categorical_crossentropy',\n",
    "              optimizer = SGD(lr=0.1),\n",
    "              metrics = ['accuracy'])\n",
    "model.fit(X_train, Y_train, epochs=10, batch_size=200)\n",
    "score = model.evaluate(X_test, Y_test, verbose=0)\n",
    "print('Test loss:', score[0])\n",
    "print('Test accuracy:', score[1])"
   ]
  },
  {
   "cell_type": "code",
   "execution_count": 12,
   "metadata": {
    "collapsed": true
   },
   "outputs": [],
   "source": [
    "model = Sequential()\n",
    "af = 'tanh'\n",
    "model.add(Dense(n_hidden, input_shape=input_shape, activation=af))\n",
    "model.add(Dense(n_hidden, activation=af))\n",
    "model.add(Dense(n_hidden, activation=af))\n",
    "model.add(Dense(n_hidden, activation=af))\n",
    "model.add(Dense(n_hidden, activation=af))\n",
    "model.add(Dense(n_out, activation='softmax'))"
   ]
  },
  {
   "cell_type": "code",
   "execution_count": 13,
   "metadata": {},
   "outputs": [
    {
     "name": "stdout",
     "output_type": "stream",
     "text": [
      "Epoch 1/10\n",
      "10000/10000 [==============================] - 0s - loss: 0.7747 - acc: 0.7947     \n",
      "Epoch 2/10\n",
      "10000/10000 [==============================] - 0s - loss: 0.3772 - acc: 0.8931     \n",
      "Epoch 3/10\n",
      "10000/10000 [==============================] - 0s - loss: 0.3148 - acc: 0.9108     \n",
      "Epoch 4/10\n",
      "10000/10000 [==============================] - 0s - loss: 0.2800 - acc: 0.9198     \n",
      "Epoch 5/10\n",
      "10000/10000 [==============================] - 0s - loss: 0.2546 - acc: 0.9258     \n",
      "Epoch 6/10\n",
      "10000/10000 [==============================] - 0s - loss: 0.2323 - acc: 0.9325     \n",
      "Epoch 7/10\n",
      "10000/10000 [==============================] - 0s - loss: 0.2138 - acc: 0.9366     \n",
      "Epoch 8/10\n",
      "10000/10000 [==============================] - 0s - loss: 0.2027 - acc: 0.9402     \n",
      "Epoch 9/10\n",
      "10000/10000 [==============================] - 0s - loss: 0.1826 - acc: 0.9461     \n",
      "Epoch 10/10\n",
      "10000/10000 [==============================] - 0s - loss: 0.1716 - acc: 0.9491     \n",
      "Test loss: 0.257401488662\n",
      "Test accuracy: 0.915\n"
     ]
    }
   ],
   "source": [
    "model.compile(loss = 'categorical_crossentropy',\n",
    "              optimizer = SGD(lr=0.1),\n",
    "              metrics = ['accuracy'])\n",
    "model.fit(X_train, Y_train, epochs=10, batch_size=200)\n",
    "score = model.evaluate(X_test, Y_test, verbose=0)\n",
    "print('Test loss:', score[0])\n",
    "print('Test accuracy:', score[1])"
   ]
  },
  {
   "cell_type": "code",
   "execution_count": 14,
   "metadata": {
    "collapsed": true
   },
   "outputs": [],
   "source": [
    "model = Sequential()\n",
    "af = 'relu'\n",
    "model.add(Dense(n_hidden, input_shape=input_shape, activation=af))\n",
    "model.add(Dense(n_hidden, activation=af))\n",
    "model.add(Dense(n_hidden, activation=af))\n",
    "model.add(Dense(n_hidden, activation=af))\n",
    "model.add(Dense(n_hidden, activation=af))\n",
    "model.add(Dense(n_out, activation='softmax'))"
   ]
  },
  {
   "cell_type": "code",
   "execution_count": 15,
   "metadata": {},
   "outputs": [
    {
     "name": "stdout",
     "output_type": "stream",
     "text": [
      "Epoch 1/10\n",
      "10000/10000 [==============================] - 0s - loss: 1.7802 - acc: 0.4879     \n",
      "Epoch 2/10\n",
      "10000/10000 [==============================] - 0s - loss: 0.7043 - acc: 0.7803     \n",
      "Epoch 3/10\n",
      "10000/10000 [==============================] - 0s - loss: 0.4297 - acc: 0.8712     \n",
      "Epoch 4/10\n",
      "10000/10000 [==============================] - 0s - loss: 0.3088 - acc: 0.9083     \n",
      "Epoch 5/10\n",
      "10000/10000 [==============================] - 0s - loss: 0.2801 - acc: 0.9178     \n",
      "Epoch 6/10\n",
      "10000/10000 [==============================] - 0s - loss: 0.2230 - acc: 0.9326     \n",
      "Epoch 7/10\n",
      "10000/10000 [==============================] - 0s - loss: 0.2050 - acc: 0.9369     \n",
      "Epoch 8/10\n",
      "10000/10000 [==============================] - 0s - loss: 0.1701 - acc: 0.9490     \n",
      "Epoch 9/10\n",
      "10000/10000 [==============================] - 0s - loss: 0.1597 - acc: 0.9525     \n",
      "Epoch 10/10\n",
      "10000/10000 [==============================] - 0s - loss: 0.1237 - acc: 0.9635     \n",
      "Test loss: 0.269490350723\n",
      "Test accuracy: 0.92\n"
     ]
    }
   ],
   "source": [
    "model.compile(loss = 'categorical_crossentropy',\n",
    "              optimizer = SGD(lr=0.1),\n",
    "              metrics = ['accuracy'])\n",
    "model.fit(X_train, Y_train, epochs=10, batch_size=200)\n",
    "score = model.evaluate(X_test, Y_test, verbose=0)\n",
    "print('Test loss:', score[0])\n",
    "print('Test accuracy:', score[1])"
   ]
  },
  {
   "cell_type": "markdown",
   "metadata": {},
   "source": [
    "dropoutを入れてみます。学習データとテストデータの正解率の差に注目してください。"
   ]
  },
  {
   "cell_type": "code",
   "execution_count": 16,
   "metadata": {
    "collapsed": true
   },
   "outputs": [],
   "source": [
    "from keras.layers.core import Dropout\n",
    "\n",
    "model = Sequential()\n",
    "af = 'relu'\n",
    "model.add(Dense(n_hidden, input_shape=input_shape, activation=af))\n",
    "model.add(Dropout(0.5))\n",
    "model.add(Dense(n_hidden, activation=af))\n",
    "model.add(Dropout(0.5))\n",
    "model.add(Dense(n_hidden, activation=af))\n",
    "model.add(Dropout(0.5))\n",
    "model.add(Dense(n_hidden, activation=af))\n",
    "model.add(Dropout(0.5))\n",
    "model.add(Dense(n_hidden, activation=af))\n",
    "model.add(Dropout(0.5))\n",
    "model.add(Dense(n_out, activation='softmax'))"
   ]
  },
  {
   "cell_type": "code",
   "execution_count": 17,
   "metadata": {},
   "outputs": [
    {
     "name": "stdout",
     "output_type": "stream",
     "text": [
      "Epoch 1/20\n",
      "10000/10000 [==============================] - 1s - loss: 2.3237 - acc: 0.1104     \n",
      "Epoch 2/20\n",
      "10000/10000 [==============================] - 0s - loss: 2.2614 - acc: 0.1579     \n",
      "Epoch 3/20\n",
      "10000/10000 [==============================] - 0s - loss: 2.0650 - acc: 0.2436     \n",
      "Epoch 4/20\n",
      "10000/10000 [==============================] - 0s - loss: 1.7033 - acc: 0.3605     - ETA: 0s - loss: 1.8418\n",
      "Epoch 5/20\n",
      "10000/10000 [==============================] - 0s - loss: 1.4259 - acc: 0.4613     \n",
      "Epoch 6/20\n",
      "10000/10000 [==============================] - 0s - loss: 1.1963 - acc: 0.5597     \n",
      "Epoch 7/20\n",
      "10000/10000 [==============================] - 0s - loss: 1.0455 - acc: 0.6355     \n",
      "Epoch 8/20\n",
      "10000/10000 [==============================] - 1s - loss: 0.9172 - acc: 0.6942     \n",
      "Epoch 9/20\n",
      "10000/10000 [==============================] - 1s - loss: 0.8215 - acc: 0.7359     \n",
      "Epoch 10/20\n",
      "10000/10000 [==============================] - 1s - loss: 0.7640 - acc: 0.7707     \n",
      "Epoch 11/20\n",
      "10000/10000 [==============================] - 1s - loss: 0.6998 - acc: 0.7873     \n",
      "Epoch 12/20\n",
      "10000/10000 [==============================] - 1s - loss: 0.6578 - acc: 0.8036     \n",
      "Epoch 13/20\n",
      "10000/10000 [==============================] - 0s - loss: 0.6056 - acc: 0.8245     \n",
      "Epoch 14/20\n",
      "10000/10000 [==============================] - 0s - loss: 0.5628 - acc: 0.8371     \n",
      "Epoch 15/20\n",
      "10000/10000 [==============================] - 0s - loss: 0.5314 - acc: 0.8455     \n",
      "Epoch 16/20\n",
      "10000/10000 [==============================] - 0s - loss: 0.5033 - acc: 0.8530     \n",
      "Epoch 17/20\n",
      "10000/10000 [==============================] - 0s - loss: 0.4902 - acc: 0.8595     \n",
      "Epoch 18/20\n",
      "10000/10000 [==============================] - 0s - loss: 0.4567 - acc: 0.8739     \n",
      "Epoch 19/20\n",
      "10000/10000 [==============================] - 0s - loss: 0.4280 - acc: 0.8775     \n",
      "Epoch 20/20\n",
      "10000/10000 [==============================] - 1s - loss: 0.4099 - acc: 0.8871     \n",
      "Test loss: 0.34152433604\n",
      "Test accuracy: 0.911\n"
     ]
    }
   ],
   "source": [
    "model.compile(loss = 'categorical_crossentropy',\n",
    "              optimizer = SGD(lr=0.1),\n",
    "              metrics = ['accuracy'])\n",
    "model.fit(X_train, Y_train, epochs=20, batch_size=200)\n",
    "score = model.evaluate(X_test, Y_test, verbose=0)\n",
    "print('Test loss:', score[0])\n",
    "print('Test accuracy:', score[1])"
   ]
  }
 ],
 "metadata": {
  "kernelspec": {
   "display_name": "tensorflow",
   "language": "python",
   "name": "tensorflow"
  },
  "language_info": {
   "codemirror_mode": {
    "name": "ipython",
    "version": 3
   },
   "file_extension": ".py",
   "mimetype": "text/x-python",
   "name": "python",
   "nbconvert_exporter": "python",
   "pygments_lexer": "ipython3",
   "version": "3.5.3"
  }
 },
 "nbformat": 4,
 "nbformat_minor": 2
}
