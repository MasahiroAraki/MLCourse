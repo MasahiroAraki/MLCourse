{
  "nbformat": 4,
  "nbformat_minor": 0,
  "metadata": {
    "colab": {
      "name": "chap04a.ipynb",
      "provenance": [],
      "collapsed_sections": [],
      "toc_visible": true,
      "include_colab_link": true
    },
    "kernelspec": {
      "name": "python3",
      "display_name": "Python 3"
    },
    "accelerator": "GPU"
  },
  "cells": [
    {
      "cell_type": "markdown",
      "metadata": {
        "id": "view-in-github",
        "colab_type": "text"
      },
      "source": [
        "<a href=\"https://colab.research.google.com/github/KinoshitaYstr/mmi-learning/blob/master/chap04a.ipynb\" target=\"_parent\"><img src=\"https://colab.research.google.com/assets/colab-badge.svg\" alt=\"Open In Colab\"/></a>"
      ]
    },
    {
      "cell_type": "markdown",
      "metadata": {
        "id": "6z-tkS26No49",
        "colab_type": "text"
      },
      "source": [
        "## chap04"
      ]
    },
    {
      "cell_type": "markdown",
      "metadata": {
        "id": "AYq3jqZedQjX",
        "colab_type": "text"
      },
      "source": [
        "1.   データが置かれたGoogleドライブをマウント（Colabのメニューで操作）\n",
        "\n",
        "\n",
        "> ファイル -> ドライブをマウント -> 実行可能なセルが現れる -> ログインして認証コードを入力\n",
        "\n",
        "\n",
        "\n",
        "\n",
        "2.   /content/driveにマウントされる\n",
        "\n"
      ]
    },
    {
      "cell_type": "code",
      "metadata": {
        "id": "rQX5JqooeWHq",
        "colab_type": "code",
        "outputId": "24f60eb4-d917-47f8-b2d4-53255031c554",
        "colab": {
          "base_uri": "https://localhost:8080/",
          "height": 122
        }
      },
      "source": [
        "from google.colab import drive\n",
        "drive.mount('/content/drive')"
      ],
      "execution_count": 1,
      "outputs": [
        {
          "output_type": "stream",
          "text": [
            "Go to this URL in a browser: https://accounts.google.com/o/oauth2/auth?client_id=947318989803-6bn6qk8qdgf4n4g3pfee6491hc0brc4i.apps.googleusercontent.com&redirect_uri=urn%3aietf%3awg%3aoauth%3a2.0%3aoob&response_type=code&scope=email%20https%3a%2f%2fwww.googleapis.com%2fauth%2fdocs.test%20https%3a%2f%2fwww.googleapis.com%2fauth%2fdrive%20https%3a%2f%2fwww.googleapis.com%2fauth%2fdrive.photos.readonly%20https%3a%2f%2fwww.googleapis.com%2fauth%2fpeopleapi.readonly\n",
            "\n",
            "Enter your authorization code:\n",
            "··········\n",
            "Mounted at /content/drive\n"
          ],
          "name": "stdout"
        }
      ]
    },
    {
      "cell_type": "markdown",
      "metadata": {
        "id": "V6a6iuR7XNzz",
        "colab_type": "text"
      },
      "source": [
        "GiNZAのインストール  "
      ]
    },
    {
      "cell_type": "code",
      "metadata": {
        "id": "aBbJwDXkPWpX",
        "colab_type": "code",
        "outputId": "ae1ce6df-6b96-465e-d1c8-e1bcdeeecaca",
        "colab": {
          "base_uri": "https://localhost:8080/",
          "height": 887
        }
      },
      "source": [
        "!pip install -U ginza\n",
        "import pkg_resources, imp\n",
        "imp.reload(pkg_resources)"
      ],
      "execution_count": 2,
      "outputs": [
        {
          "output_type": "stream",
          "text": [
            "Collecting ginza\n",
            "  Downloading https://files.pythonhosted.org/packages/93/43/43818861210c71a0a9f789e7350b785ba60bad38196745c2f8e88271dfa8/ginza-3.1.2.tar.gz\n",
            "Requirement already satisfied, skipping upgrade: spacy>=2.2.3 in /usr/local/lib/python3.6/dist-packages (from ginza) (2.2.4)\n",
            "Collecting ja_ginza<3.2.0,>=3.1.0\n",
            "\u001b[?25l  Downloading https://files.pythonhosted.org/packages/14/02/ad08f43df50c5d877a7b2dcd56f4ebf33a5818b517550516e8ba059069fa/ja_ginza-3.1.0.tar.gz (54.9MB)\n",
            "\u001b[K     |████████████████████████████████| 54.9MB 55kB/s \n",
            "\u001b[?25hCollecting SudachiPy>=0.4.2\n",
            "\u001b[?25l  Downloading https://files.pythonhosted.org/packages/9d/32/6a61a3ca4051583e14b70dd7b5da5af36aa8baea22feb9eafb1f920193e0/SudachiPy-0.4.4-py3-none-any.whl (73kB)\n",
            "\u001b[K     |████████████████████████████████| 81kB 12.5MB/s \n",
            "\u001b[?25hRequirement already satisfied, skipping upgrade: blis<0.5.0,>=0.4.0 in /usr/local/lib/python3.6/dist-packages (from spacy>=2.2.3->ginza) (0.4.1)\n",
            "Requirement already satisfied, skipping upgrade: tqdm<5.0.0,>=4.38.0 in /usr/local/lib/python3.6/dist-packages (from spacy>=2.2.3->ginza) (4.38.0)\n",
            "Requirement already satisfied, skipping upgrade: wasabi<1.1.0,>=0.4.0 in /usr/local/lib/python3.6/dist-packages (from spacy>=2.2.3->ginza) (0.6.0)\n",
            "Requirement already satisfied, skipping upgrade: preshed<3.1.0,>=3.0.2 in /usr/local/lib/python3.6/dist-packages (from spacy>=2.2.3->ginza) (3.0.2)\n",
            "Requirement already satisfied, skipping upgrade: thinc==7.4.0 in /usr/local/lib/python3.6/dist-packages (from spacy>=2.2.3->ginza) (7.4.0)\n",
            "Requirement already satisfied, skipping upgrade: murmurhash<1.1.0,>=0.28.0 in /usr/local/lib/python3.6/dist-packages (from spacy>=2.2.3->ginza) (1.0.2)\n",
            "Requirement already satisfied, skipping upgrade: requests<3.0.0,>=2.13.0 in /usr/local/lib/python3.6/dist-packages (from spacy>=2.2.3->ginza) (2.23.0)\n",
            "Requirement already satisfied, skipping upgrade: cymem<2.1.0,>=2.0.2 in /usr/local/lib/python3.6/dist-packages (from spacy>=2.2.3->ginza) (2.0.3)\n",
            "Requirement already satisfied, skipping upgrade: plac<1.2.0,>=0.9.6 in /usr/local/lib/python3.6/dist-packages (from spacy>=2.2.3->ginza) (1.1.3)\n",
            "Requirement already satisfied, skipping upgrade: catalogue<1.1.0,>=0.0.7 in /usr/local/lib/python3.6/dist-packages (from spacy>=2.2.3->ginza) (1.0.0)\n",
            "Requirement already satisfied, skipping upgrade: srsly<1.1.0,>=1.0.2 in /usr/local/lib/python3.6/dist-packages (from spacy>=2.2.3->ginza) (1.0.2)\n",
            "Requirement already satisfied, skipping upgrade: setuptools in /usr/local/lib/python3.6/dist-packages (from spacy>=2.2.3->ginza) (46.1.3)\n",
            "Requirement already satisfied, skipping upgrade: numpy>=1.15.0 in /usr/local/lib/python3.6/dist-packages (from spacy>=2.2.3->ginza) (1.18.3)\n",
            "Collecting ja_ginza_dict<3.2.0,>=3.1.0\n",
            "\u001b[?25l  Downloading https://files.pythonhosted.org/packages/e8/e5/c4ea3f165acb38fa125e992d1a6fcfb9a5a8ab6a14cc5010c836713c386b/ja_ginza_dict-3.1.0-1.tar.gz (44.8MB)\n",
            "\u001b[K     |████████████████████████████████| 44.8MB 69kB/s \n",
            "\u001b[?25hRequirement already satisfied, skipping upgrade: sortedcontainers~=2.1.0 in /usr/local/lib/python3.6/dist-packages (from SudachiPy>=0.4.2->ginza) (2.1.0)\n",
            "Collecting dartsclone~=0.9.0\n",
            "\u001b[?25l  Downloading https://files.pythonhosted.org/packages/6d/34/987a076369ed086ee953e2f0b9ab5ff3e1a682ba4f781678ac5648144896/dartsclone-0.9.0-cp36-cp36m-manylinux1_x86_64.whl (474kB)\n",
            "\u001b[K     |████████████████████████████████| 481kB 49.4MB/s \n",
            "\u001b[?25hRequirement already satisfied, skipping upgrade: certifi>=2017.4.17 in /usr/local/lib/python3.6/dist-packages (from requests<3.0.0,>=2.13.0->spacy>=2.2.3->ginza) (2020.4.5.1)\n",
            "Requirement already satisfied, skipping upgrade: urllib3!=1.25.0,!=1.25.1,<1.26,>=1.21.1 in /usr/local/lib/python3.6/dist-packages (from requests<3.0.0,>=2.13.0->spacy>=2.2.3->ginza) (1.24.3)\n",
            "Requirement already satisfied, skipping upgrade: idna<3,>=2.5 in /usr/local/lib/python3.6/dist-packages (from requests<3.0.0,>=2.13.0->spacy>=2.2.3->ginza) (2.9)\n",
            "Requirement already satisfied, skipping upgrade: chardet<4,>=3.0.2 in /usr/local/lib/python3.6/dist-packages (from requests<3.0.0,>=2.13.0->spacy>=2.2.3->ginza) (3.0.4)\n",
            "Requirement already satisfied, skipping upgrade: importlib-metadata>=0.20; python_version < \"3.8\" in /usr/local/lib/python3.6/dist-packages (from catalogue<1.1.0,>=0.0.7->spacy>=2.2.3->ginza) (1.6.0)\n",
            "Requirement already satisfied, skipping upgrade: Cython in /usr/local/lib/python3.6/dist-packages (from dartsclone~=0.9.0->SudachiPy>=0.4.2->ginza) (0.29.17)\n",
            "Requirement already satisfied, skipping upgrade: zipp>=0.5 in /usr/local/lib/python3.6/dist-packages (from importlib-metadata>=0.20; python_version < \"3.8\"->catalogue<1.1.0,>=0.0.7->spacy>=2.2.3->ginza) (3.1.0)\n",
            "Building wheels for collected packages: ginza, ja-ginza, ja-ginza-dict\n",
            "  Building wheel for ginza (setup.py) ... \u001b[?25l\u001b[?25hdone\n",
            "  Created wheel for ginza: filename=ginza-3.1.2-cp36-none-any.whl size=17311 sha256=41668821f137c8391a7056cc0782d4c34fffd645e94d2e87258b63416b547cc1\n",
            "  Stored in directory: /root/.cache/pip/wheels/70/8d/57/f089078acc0dbaebffc08c178e9f20924fa794c114ad36f7f7\n",
            "  Building wheel for ja-ginza (setup.py) ... \u001b[?25l\u001b[?25hdone\n",
            "  Created wheel for ja-ginza: filename=ja_ginza-3.1.0-cp36-none-any.whl size=54963619 sha256=4ec07c4dc44d715471667d5a2fe1772a29026e8d13f9026ae4a9d1d262cb7bed\n",
            "  Stored in directory: /root/.cache/pip/wheels/f2/8a/07/1837eeb5c5648fa8d266102b78a894e495234585ac3f024cf1\n",
            "  Building wheel for ja-ginza-dict (setup.py) ... \u001b[?25l\u001b[?25hdone\n",
            "  Created wheel for ja-ginza-dict: filename=ja_ginza_dict-3.1.0-cp36-none-any.whl size=70877544 sha256=0b87a54a0716aa5e4948dc9ecc0d0f45716a56aeb5d4056b8627949c45ab2e08\n",
            "  Stored in directory: /root/.cache/pip/wheels/30/88/d7/7f0692ba26060966af34538e1079438d16640c54e04a15a76a\n",
            "Successfully built ginza ja-ginza ja-ginza-dict\n",
            "Installing collected packages: ja-ginza-dict, ja-ginza, dartsclone, SudachiPy, ginza\n",
            "Successfully installed SudachiPy-0.4.4 dartsclone-0.9.0 ginza-3.1.2 ja-ginza-3.1.0 ja-ginza-dict-3.1.0\n"
          ],
          "name": "stdout"
        },
        {
          "output_type": "execute_result",
          "data": {
            "text/plain": [
              "<module 'pkg_resources' from '/usr/local/lib/python3.6/dist-packages/pkg_resources/__init__.py'>"
            ]
          },
          "metadata": {
            "tags": []
          },
          "execution_count": 2
        }
      ]
    },
    {
      "cell_type": "markdown",
      "metadata": {
        "id": "o9mgMUqQw5Ph",
        "colab_type": "text"
      },
      "source": [
        "GiNZAの使用準備"
      ]
    },
    {
      "cell_type": "code",
      "metadata": {
        "id": "zPMUtsvZw5oF",
        "colab_type": "code",
        "colab": {}
      },
      "source": [
        "import spacy\n",
        "nlp = spacy.load('ja_ginza')"
      ],
      "execution_count": 0,
      "outputs": []
    },
    {
      "cell_type": "markdown",
      "metadata": {
        "id": "QxgxnxLCfUos",
        "colab_type": "text"
      },
      "source": [
        "京都大学情報学研究科--NTTコミュニケーション科学基礎研究所 共同研究ユニット \n",
        " [解析済みブログコーパス](http://nlp.ist.i.kyoto-u.ac.jp/kuntt/#ga739fe2)\n",
        "の読み込み"
      ]
    },
    {
      "cell_type": "code",
      "metadata": {
        "id": "QPzN0IgXmrIM",
        "colab_type": "code",
        "colab": {}
      },
      "source": [
        "Dpath = '/content/drive/My Drive/Resources/KNBC_v1.0_090925_utf8/corpus2/'\n",
        "topics = ['Gourmet', 'Keitai', 'Kyoto', 'Sports']"
      ],
      "execution_count": 0,
      "outputs": []
    },
    {
      "cell_type": "code",
      "metadata": {
        "id": "KQ6S2qa1CjMj",
        "colab_type": "code",
        "colab": {}
      },
      "source": [
        "import pandas as pd\n",
        "import re\n",
        "\n",
        "cols = ['doc', 'label']\n",
        "df = pd.DataFrame(index=[], columns=cols)\n",
        "p = re.compile(r'(［.*］)(.*)')\n",
        "\n",
        "for topic in topics:\n",
        "  data = pd.read_table(Dpath+topic+'.tsv', header=None, dtype=str, usecols=[1])\n",
        "  for d in data.itertuples():\n",
        "    m = p.match(d[1])\n",
        "    if m != None:  # first line of the document\n",
        "      if d[0] != 0:\n",
        "        df = df.append(pd.DataFrame([doc.strip(), topic], index = cols).T)\n",
        "      sent = m.groups()[1]\n",
        "      doc = ''\n",
        "    else:\n",
        "      sent = d[1]\n",
        "    doc = doc + ' ' +  ' '.join([t.text for t in nlp(sent)])\n",
        "  df = df.append(pd.DataFrame([doc.strip(), topic], index = cols).T)"
      ],
      "execution_count": 0,
      "outputs": []
    },
    {
      "cell_type": "code",
      "metadata": {
        "id": "mfyoY_8KHP_7",
        "colab_type": "code",
        "outputId": "009f7ffe-cf0c-49a8-d56f-ea8b52a76acc",
        "colab": {
          "base_uri": "https://localhost:8080/",
          "height": 419
        }
      },
      "source": [
        "df"
      ],
      "execution_count": 62,
      "outputs": [
        {
          "output_type": "execute_result",
          "data": {
            "text/html": [
              "<div>\n",
              "<style scoped>\n",
              "    .dataframe tbody tr th:only-of-type {\n",
              "        vertical-align: middle;\n",
              "    }\n",
              "\n",
              "    .dataframe tbody tr th {\n",
              "        vertical-align: top;\n",
              "    }\n",
              "\n",
              "    .dataframe thead th {\n",
              "        text-align: right;\n",
              "    }\n",
              "</style>\n",
              "<table border=\"1\" class=\"dataframe\">\n",
              "  <thead>\n",
              "    <tr style=\"text-align: right;\">\n",
              "      <th></th>\n",
              "      <th>doc</th>\n",
              "      <th>label</th>\n",
              "    </tr>\n",
              "  </thead>\n",
              "  <tbody>\n",
              "    <tr>\n",
              "      <th>0</th>\n",
              "      <td>烏丸 六角 の おかき 屋 さん 六角堂 の 前 に ある 、 蕪村 庵 と いう お店 に...</td>\n",
              "      <td>Gourmet</td>\n",
              "    </tr>\n",
              "    <tr>\n",
              "      <th>0</th>\n",
              "      <td>河原町 の 居酒屋 この 間 先輩 たち に つれ られ 、 河原町 の 居酒屋 へ 行っ ...</td>\n",
              "      <td>Gourmet</td>\n",
              "    </tr>\n",
              "    <tr>\n",
              "      <th>0</th>\n",
              "      <td>ちょっと 贅沢 ほんの ちょこっと な ん だ けど 、 贅沢 し たい とき に 何 を ...</td>\n",
              "      <td>Gourmet</td>\n",
              "    </tr>\n",
              "    <tr>\n",
              "      <th>0</th>\n",
              "      <td>食欲 の 秋 最近 おなか が 減っ て 仕方 あり ませ ん か 。 仕方 あり ませ ん...</td>\n",
              "      <td>Gourmet</td>\n",
              "    </tr>\n",
              "    <tr>\n",
              "      <th>0</th>\n",
              "      <td>季節 限定 も のっ て … １０ 月 と いえ ば 秋 本番 で ある 。 栗 や 秋刀魚...</td>\n",
              "      <td>Gourmet</td>\n",
              "    </tr>\n",
              "    <tr>\n",
              "      <th>...</th>\n",
              "      <td>...</td>\n",
              "      <td>...</td>\n",
              "    </tr>\n",
              "    <tr>\n",
              "      <th>0</th>\n",
              "      <td>クライマックス シリーズ 今年 の 阪神 は なん やっ た ん や ！ ！ 初め 弱く て...</td>\n",
              "      <td>Sports</td>\n",
              "    </tr>\n",
              "    <tr>\n",
              "      <th>0</th>\n",
              "      <td>京都 サンガ に つい て この ブログ の 右側 に 検索 窓 ある じゃ ない です か...</td>\n",
              "      <td>Sports</td>\n",
              "    </tr>\n",
              "    <tr>\n",
              "      <th>0</th>\n",
              "      <td>サッカー から 伺える ルール と の 付き合い 方 私自身 は 全く の サッカー 素人 ...</td>\n",
              "      <td>Sports</td>\n",
              "    </tr>\n",
              "    <tr>\n",
              "      <th>0</th>\n",
              "      <td>する か 見る か スポーツ は する 派 です か ？ し たい 見る 派 です か ？ ...</td>\n",
              "      <td>Sports</td>\n",
              "    </tr>\n",
              "    <tr>\n",
              "      <th>0</th>\n",
              "      <td>運動 は 好き な ほう です 。 よく ドン くさい って 言わ れる けど 、 運動 神...</td>\n",
              "      <td>Sports</td>\n",
              "    </tr>\n",
              "  </tbody>\n",
              "</table>\n",
              "<p>249 rows × 2 columns</p>\n",
              "</div>"
            ],
            "text/plain": [
              "                                                  doc    label\n",
              "0   烏丸 六角 の おかき 屋 さん 六角堂 の 前 に ある 、 蕪村 庵 と いう お店 に...  Gourmet\n",
              "0   河原町 の 居酒屋 この 間 先輩 たち に つれ られ 、 河原町 の 居酒屋 へ 行っ ...  Gourmet\n",
              "0   ちょっと 贅沢 ほんの ちょこっと な ん だ けど 、 贅沢 し たい とき に 何 を ...  Gourmet\n",
              "0   食欲 の 秋 最近 おなか が 減っ て 仕方 あり ませ ん か 。 仕方 あり ませ ん...  Gourmet\n",
              "0   季節 限定 も のっ て … １０ 月 と いえ ば 秋 本番 で ある 。 栗 や 秋刀魚...  Gourmet\n",
              "..                                                ...      ...\n",
              "0   クライマックス シリーズ 今年 の 阪神 は なん やっ た ん や ！ ！ 初め 弱く て...   Sports\n",
              "0   京都 サンガ に つい て この ブログ の 右側 に 検索 窓 ある じゃ ない です か...   Sports\n",
              "0   サッカー から 伺える ルール と の 付き合い 方 私自身 は 全く の サッカー 素人 ...   Sports\n",
              "0   する か 見る か スポーツ は する 派 です か ？ し たい 見る 派 です か ？ ...   Sports\n",
              "0   運動 は 好き な ほう です 。 よく ドン くさい って 言わ れる けど 、 運動 神...   Sports\n",
              "\n",
              "[249 rows x 2 columns]"
            ]
          },
          "metadata": {
            "tags": []
          },
          "execution_count": 62
        }
      ]
    },
    {
      "cell_type": "code",
      "metadata": {
        "id": "-qqCnS4vq4KM",
        "colab_type": "code",
        "outputId": "fd50a3c0-3404-4230-bf65-c94b2108d751",
        "colab": {
          "base_uri": "https://localhost:8080/",
          "height": 102
        }
      },
      "source": [
        "df['label'].value_counts(sort=False)"
      ],
      "execution_count": 63,
      "outputs": [
        {
          "output_type": "execute_result",
          "data": {
            "text/plain": [
              "Keitai     79\n",
              "Sports     22\n",
              "Gourmet    57\n",
              "Kyoto      91\n",
              "Name: label, dtype: int64"
            ]
          },
          "metadata": {
            "tags": []
          },
          "execution_count": 63
        }
      ]
    },
    {
      "cell_type": "markdown",
      "metadata": {
        "id": "gzpWu6vYsdki",
        "colab_type": "text"
      },
      "source": [
        "# 文書分類"
      ]
    },
    {
      "cell_type": "markdown",
      "metadata": {
        "id": "WqWAjbJStesp",
        "colab_type": "text"
      },
      "source": [
        "test"
      ]
    },
    {
      "cell_type": "markdown",
      "metadata": {
        "id": "-Ti097bQzgdI",
        "colab_type": "text"
      },
      "source": [
        "方針\n",
        "* 一回すべての文からBoWを作成or取得する\n",
        "* ラベルの用意\n",
        "* それらをscikit-learnのモデルに入れる？"
      ]
    },
    {
      "cell_type": "code",
      "metadata": {
        "id": "JIxXDOzbVNUz",
        "colab_type": "code",
        "outputId": "c6d519a9-73ab-4c73-c709-e72514d67935",
        "colab": {
          "base_uri": "https://localhost:8080/",
          "height": 51
        }
      },
      "source": [
        "import numpy as np\n",
        "from sklearn.model_selection import train_test_split\n",
        "from sklearn.feature_extraction.text import CountVectorizer, TfidfTransformer\n",
        "\n",
        "# ラベルの生成\n",
        "labels = df['label'].unique()\n",
        "print(labels)\n",
        "# 訓練・テスト分け\n",
        "train_df, test_df = train_test_split(df, test_size=0.3, shuffle=True)\n",
        "print(train_df.shape, test_df.shape)\n",
        "\n",
        "# 訓練データからBoWとベクトル化例\n",
        "# sklearn kitのCountVectorizerを使う\n",
        "count = CountVectorizer()\n",
        "# fitで学習\n",
        "count.fit(train_df['doc'])\n",
        "# transformでBoWに変換する\n",
        "train_bow = count.transform(train_df['doc'])\n",
        "\n",
        "# ttf-tfidfでBoWをベクトル化例\n",
        "ttf = TfidfTransformer()\n",
        "ttf.fit(train_bow)\n",
        "train_tfidf = ttf.transform(train_bow)\n",
        "\n",
        "# テストデータもBoWとベクトル化例\n",
        "test_bow = count.transform(test_df['doc'])\n",
        "test_tfidf = ttf.transform(test_bow)\n"
      ],
      "execution_count": 195,
      "outputs": [
        {
          "output_type": "stream",
          "text": [
            "['Gourmet' 'Keitai' 'Kyoto' 'Sports']\n",
            "(174, 2) (75, 2)\n"
          ],
          "name": "stdout"
        }
      ]
    },
    {
      "cell_type": "code",
      "metadata": {
        "id": "Yw2ye8Y2gwrX",
        "colab_type": "code",
        "colab": {}
      },
      "source": [
        "# 訓練データの前処理\n",
        "x_train = train_df.doc\n",
        "t_train = train_df.label\n",
        "\n",
        "bow_train = count.transform(x_train)\n",
        "tfidf_train = ttf.transform(bow_train)\n",
        "\n",
        "# テストデータの前処理\n",
        "x_test = test_df.doc\n",
        "t_test = test_df.label\n",
        "\n",
        "bow_test = count.transform(x_test)\n",
        "tfidf_test = ttf.transform(bow_test)"
      ],
      "execution_count": 0,
      "outputs": []
    },
    {
      "cell_type": "markdown",
      "metadata": {
        "id": "MunGyRqej4Py",
        "colab_type": "text"
      },
      "source": [
        "## 単純ベイズ"
      ]
    },
    {
      "cell_type": "markdown",
      "metadata": {
        "id": "OSvwhYM2mqCu",
        "colab_type": "text"
      },
      "source": [
        "学習"
      ]
    },
    {
      "cell_type": "code",
      "metadata": {
        "id": "Q-kUeOQ3kBtk",
        "colab_type": "code",
        "colab": {
          "base_uri": "https://localhost:8080/",
          "height": 34
        },
        "outputId": "37cedb44-a6cb-4990-dbe0-6e01163f815a"
      },
      "source": [
        "from sklearn.naive_bayes import MultinomialNB\n",
        "\n",
        "clf_bayes = MultinomialNB(alpha=0.02)\n",
        "clf_bayes.fit(tfidf_train, t_train)"
      ],
      "execution_count": 197,
      "outputs": [
        {
          "output_type": "execute_result",
          "data": {
            "text/plain": [
              "MultinomialNB(alpha=0.02, class_prior=None, fit_prior=True)"
            ]
          },
          "metadata": {
            "tags": []
          },
          "execution_count": 197
        }
      ]
    },
    {
      "cell_type": "markdown",
      "metadata": {
        "id": "0nGgZHKomssH",
        "colab_type": "text"
      },
      "source": [
        "テスト"
      ]
    },
    {
      "cell_type": "code",
      "metadata": {
        "id": "abVXFeP-kzS4",
        "colab_type": "code",
        "colab": {
          "base_uri": "https://localhost:8080/",
          "height": 34
        },
        "outputId": "b7568b77-99ce-446c-d0c8-b55e7ba0c95c"
      },
      "source": [
        "y_test = clf_bayes.predict(tfidf_test)\n",
        "\n",
        "tmp = [t == y for t, y in zip(t_test, y_test) ]\n",
        "accuracy = 100*(sum(tmp)/len(tmp))\n",
        "print(str(accuracy)+\"%\")"
      ],
      "execution_count": 198,
      "outputs": [
        {
          "output_type": "stream",
          "text": [
            "90.66666666666666%\n"
          ],
          "name": "stdout"
        }
      ]
    },
    {
      "cell_type": "markdown",
      "metadata": {
        "id": "xrb9LGIrj61H",
        "colab_type": "text"
      },
      "source": [
        "## ロジスティック回帰"
      ]
    },
    {
      "cell_type": "markdown",
      "metadata": {
        "id": "6k0z3379qXaQ",
        "colab_type": "text"
      },
      "source": [
        "学習"
      ]
    },
    {
      "cell_type": "code",
      "metadata": {
        "id": "VoSjuINwkE4l",
        "colab_type": "code",
        "colab": {
          "base_uri": "https://localhost:8080/",
          "height": 102
        },
        "outputId": "b55445a6-1df0-4e25-b7f0-9ec636053ad2"
      },
      "source": [
        "from sklearn.linear_model import LogisticRegression\n",
        "\n",
        "clf_rogistic = LogisticRegression()\n",
        "clf_rogistic.fit(tfidf_train, t_train)"
      ],
      "execution_count": 200,
      "outputs": [
        {
          "output_type": "execute_result",
          "data": {
            "text/plain": [
              "LogisticRegression(C=1.0, class_weight=None, dual=False, fit_intercept=True,\n",
              "                   intercept_scaling=1, l1_ratio=None, max_iter=100,\n",
              "                   multi_class='auto', n_jobs=None, penalty='l2',\n",
              "                   random_state=None, solver='lbfgs', tol=0.0001, verbose=0,\n",
              "                   warm_start=False)"
            ]
          },
          "metadata": {
            "tags": []
          },
          "execution_count": 200
        }
      ]
    },
    {
      "cell_type": "markdown",
      "metadata": {
        "id": "_z_NmUlBqZrI",
        "colab_type": "text"
      },
      "source": [
        "テスト"
      ]
    },
    {
      "cell_type": "code",
      "metadata": {
        "id": "BDc9O7ehqbYk",
        "colab_type": "code",
        "colab": {
          "base_uri": "https://localhost:8080/",
          "height": 34
        },
        "outputId": "b96d09cf-8f74-4eab-f92f-897ea6f88259"
      },
      "source": [
        "y_test = clf_rogistic.predict(tfidf_test)\n",
        "\n",
        "tmp = [t == y for t, y in zip(t_test, y_test) ]\n",
        "accuracy = 100*(sum(tmp)/len(tmp))\n",
        "print(str(accuracy)+\"%\")"
      ],
      "execution_count": 201,
      "outputs": [
        {
          "output_type": "stream",
          "text": [
            "78.66666666666666%\n"
          ],
          "name": "stdout"
        }
      ]
    },
    {
      "cell_type": "markdown",
      "metadata": {
        "id": "PECydcmNj_RU",
        "colab_type": "text"
      },
      "source": [
        "## オンラインSVM"
      ]
    },
    {
      "cell_type": "markdown",
      "metadata": {
        "id": "azquCUZuwmsY",
        "colab_type": "text"
      },
      "source": [
        "学習"
      ]
    },
    {
      "cell_type": "code",
      "metadata": {
        "id": "TG2ondCJkGCC",
        "colab_type": "code",
        "colab": {
          "base_uri": "https://localhost:8080/",
          "height": 85
        },
        "outputId": "d8058690-9fb9-4177-bbf2-000073714af5"
      },
      "source": [
        "from sklearn.svm import LinearSVC\n",
        "\n",
        "clf_svm = LinearSVC()\n",
        "clf_svm.fit(tfidf_train, t_train)"
      ],
      "execution_count": 245,
      "outputs": [
        {
          "output_type": "execute_result",
          "data": {
            "text/plain": [
              "LinearSVC(C=1.0, class_weight=None, dual=True, fit_intercept=True,\n",
              "          intercept_scaling=1, loss='squared_hinge', max_iter=1000,\n",
              "          multi_class='ovr', penalty='l2', random_state=None, tol=0.0001,\n",
              "          verbose=0)"
            ]
          },
          "metadata": {
            "tags": []
          },
          "execution_count": 245
        }
      ]
    },
    {
      "cell_type": "markdown",
      "metadata": {
        "id": "6nBiBIAIwoaq",
        "colab_type": "text"
      },
      "source": [
        "テスト"
      ]
    },
    {
      "cell_type": "code",
      "metadata": {
        "id": "Ev8sxGyhwg6G",
        "colab_type": "code",
        "colab": {
          "base_uri": "https://localhost:8080/",
          "height": 34
        },
        "outputId": "1349ddad-5d1b-4985-c6b3-7f394122be82"
      },
      "source": [
        "y_test = clf_svm.predict(tfidf_test)\n",
        "\n",
        "tmp = [t == y for t, y in zip(t_test, y_test) ]\n",
        "accuracy = 100*(sum(tmp)/len(tmp))\n",
        "print(str(accuracy)+\"%\")"
      ],
      "execution_count": 246,
      "outputs": [
        {
          "output_type": "stream",
          "text": [
            "85.33333333333334%\n"
          ],
          "name": "stdout"
        }
      ]
    }
  ]
}