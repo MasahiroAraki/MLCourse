{
 "cells": [
  {
   "cell_type": "code",
   "execution_count": 30,
   "metadata": {},
   "outputs": [],
   "source": [
    "import numpy as np\n",
    "import pandas as pd \n",
    "import io\n",
    "from sklearn.tree import DecisionTreeClassifier, export_graphviz\n",
    "from sklearn import tree"
   ]
  },
  {
   "cell_type": "code",
   "execution_count": 27,
   "metadata": {},
   "outputs": [],
   "source": [
    "weather_nominal = '''\n",
    "outlook,temperature,humidity,windy,play\n",
    "sunny,hot,high,FALSE,no\n",
    "sunny,hot,high,TRUE,no\n",
    "overcast,hot,high,FALSE,yes\n",
    "rainy,mild,high,FALSE,yes\n",
    "rainy,cool,normal,FALSE,yes\n",
    "rainy,cool,normal,TRUE,no\n",
    "overcast,cool,normal,TRUE,yes\n",
    "sunny,mild,high,FALSE,no\n",
    "sunny,cool,normal,FALSE,yes\n",
    "rainy,mild,normal,FALSE,yes\n",
    "sunny,mild,normal,TRUE,yes\n",
    "overcast,mild,high,TRUE,yes\n",
    "overcast,hot,normal,FALSE,yes\n",
    "rainy,mild,high,TRUE,no\n",
    "'''"
   ]
  },
  {
   "cell_type": "code",
   "execution_count": 29,
   "metadata": {},
   "outputs": [
    {
     "output_type": "stream",
     "name": "stdout",
     "text": "dataset: \n      outlook temperature humidity  windy play\n0      sunny         hot     high  False   no\n1      sunny         hot     high   True   no\n2   overcast         hot     high  False  yes\n3      rainy        mild     high  False  yes\n4      rainy        cool   normal  False  yes\n5      rainy        cool   normal   True   no\n6   overcast        cool   normal   True  yes\n7      sunny        mild     high  False   no\n8      sunny        cool   normal  False  yes\n9      rainy        mild   normal  False  yes\n10     sunny        mild   normal   True  yes\n11  overcast        mild     high   True  yes\n12  overcast         hot   normal  False  yes\n13     rainy        mild     high   True   no\n"
    }
   ],
   "source": [
    "df = pd.read_csv(io.StringIO(weather_nominal), sep=',')\n",
    "print (\"dataset: \\n\", df)"
   ]
  },
  {
   "cell_type": "code",
   "execution_count": 36,
   "metadata": {},
   "outputs": [],
   "source": [
    "attr = df.columns[:4].tolist()\n",
    "class_name = df.columns[-1]\n",
    "tree = []"
   ]
  },
  {
   "cell_type": "code",
   "execution_count": 37,
   "metadata": {},
   "outputs": [
    {
     "output_type": "execute_result",
     "data": {
      "text/plain": "'play'"
     },
     "metadata": {},
     "execution_count": 37
    }
   ],
   "source": [
    "def id3(data, c_name, attrs):\n",
    "    node = []\n",
    "    sc = same_class(data, c_name)\n",
    "    if sc != None:\n",
    "        return [sc]\n",
    "    if attrs == []:\n",
    "        return [most_freq(data, c_name)]\n",
    "    att = largest_gain(data, c_name, attrs)\n",
    "    for v in data[att].values:\n",
    "        \n"
   ]
  },
  {
   "cell_type": "code",
   "execution_count": null,
   "metadata": {},
   "outputs": [],
   "source": []
  }
 ],
 "metadata": {
  "language_info": {
   "codemirror_mode": {
    "name": "ipython",
    "version": 3
   },
   "file_extension": ".py",
   "mimetype": "text/x-python",
   "name": "python",
   "nbconvert_exporter": "python",
   "pygments_lexer": "ipython3",
   "version": "3.7.7-final"
  },
  "orig_nbformat": 2,
  "kernelspec": {
   "name": "python37764bitvenvvenv344f444d9d824b18b8d3faefd32c7499",
   "display_name": "Python 3.7.7 64-bit ('venv': venv)"
  }
 },
 "nbformat": 4,
 "nbformat_minor": 2
}